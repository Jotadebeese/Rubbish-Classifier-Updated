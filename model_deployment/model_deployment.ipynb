{
  "cells": [
    {
      "cell_type": "markdown",
      "metadata": {
        "id": "view-in-github",
        "colab_type": "text"
      },
      "source": [
        "<a href=\"https://colab.research.google.com/github/Jotadebeese/Rubbish-Classifier-Updated/blob/main/model_deployment/model_deployment.ipynb\" target=\"_parent\"><img src=\"https://colab.research.google.com/assets/colab-badge.svg\" alt=\"Open In Colab\"/></a>"
      ]
    },
    {
      "cell_type": "markdown",
      "metadata": {
        "id": "G_jBCxmMVLk5"
      },
      "source": [
        "# PyTorch Model Deployment"
      ]
    },
    {
      "cell_type": "markdown",
      "metadata": {
        "id": "-kCThI9wVWEM"
      },
      "source": [
        "## 0. Get setup"
      ]
    },
    {
      "cell_type": "code",
      "execution_count": null,
      "metadata": {
        "colab": {
          "base_uri": "https://localhost:8080/"
        },
        "id": "KDhDKJzVONGQ",
        "outputId": "5920e252-80fa-463b-b767-f6e6e0133456"
      },
      "outputs": [
        {
          "output_type": "stream",
          "name": "stdout",
          "text": [
            "[INFO] Couldn't find torchinfo... installing it.\n",
            "[INFO] Couldn't find scripts, downloading them from GitHub.\n",
            "Cloning into 'pytorch_scripts'...\n",
            "remote: Enumerating objects: 257, done.\u001b[K\n",
            "remote: Counting objects: 100% (15/15), done.\u001b[K\n",
            "remote: Compressing objects: 100% (9/9), done.\u001b[K\n",
            "remote: Total 257 (delta 6), reused 12 (delta 6), pack-reused 242\u001b[K\n",
            "Receiving objects: 100% (257/257), 61.20 KiB | 10.20 MiB/s, done.\n",
            "Resolving deltas: 100% (143/143), done.\n",
            "[INFO] splitfolders module not found. Installing...\n"
          ]
        }
      ],
      "source": [
        "# Continue with regular imports\n",
        "import matplotlib.pyplot as plt\n",
        "import torch\n",
        "import torchvision\n",
        "\n",
        "from torch import nn\n",
        "from torchvision import transforms\n",
        "\n",
        "# Try to get torchinfo, install it if it doesn't work\n",
        "try:\n",
        "    from torchinfo import summary\n",
        "except:\n",
        "    print(\"[INFO] Couldn't find torchinfo... installing it.\")\n",
        "    !pip install -q torchinfo\n",
        "    from torchinfo import summary\n",
        "\n",
        "# Try to import the PyTorch Scripts directory, download it from GitHub\n",
        "try:\n",
        "    from modular_scripts import data_setup, engine, utils\n",
        "except:\n",
        "    # Get the scripts\n",
        "    print(\"[INFO] Couldn't find scripts, downloading them from GitHub.\")\n",
        "    !git clone https://github.com/Jotadebeese/pytorch_scripts\n",
        "    !mv pytorch_scripts/modular_scripts .\n",
        "    !rm -rf pytorch_scripts\n",
        "    from modular_scripts import data_setup, engine, utils"
      ]
    },
    {
      "cell_type": "code",
      "execution_count": null,
      "metadata": {
        "colab": {
          "base_uri": "https://localhost:8080/"
        },
        "id": "Gq4Qp58hWA2R",
        "outputId": "a3c7c577-9616-4fbd-f154-3b21b3d1ee5f"
      },
      "outputs": [
        {
          "output_type": "stream",
          "name": "stdout",
          "text": [
            "Using cuda device\n"
          ]
        }
      ],
      "source": [
        "# Setup device agnostic code\n",
        "device = \"cuda\" if torch.cuda.is_available() else \"cpu\"\n",
        "print(f\"Using {device} device\")"
      ]
    },
    {
      "cell_type": "markdown",
      "metadata": {
        "id": "4rVpsvToV10x"
      },
      "source": [
        "## 1. Getting Data"
      ]
    },
    {
      "cell_type": "code",
      "execution_count": null,
      "metadata": {
        "colab": {
          "base_uri": "https://localhost:8080/"
        },
        "id": "4gtu-Ns9Vosx",
        "outputId": "8ea78f16-1ca6-443b-b6ad-bc59f323922d"
      },
      "outputs": [
        {
          "output_type": "stream",
          "name": "stdout",
          "text": [
            "'data/augmented_rubbish_dataset' does not exist, creating directory...\n",
            "[INFO] Downloading rubbish_dataset_augmented.zip?download=true from https://huggingface.co/datasets/Jotadebeese/rubbish_augmented/resolve/main/rubbish_dataset_augmented.zip?download=true...\n",
            "[INFO] Unzipping rubbish_dataset_augmented.zip?download=true data...\n"
          ]
        }
      ],
      "source": [
        "from modular_scripts.utils import download_data\n",
        "\n",
        "# Download the data\n",
        "image_path = download_data(source='https://huggingface.co/datasets/Jotadebeese/rubbish_augmented/resolve/main/rubbish_dataset_augmented.zip?download=true',\n",
        "                           destination='augmented_rubbish_dataset',\n",
        "                           from_gdrive=False)"
      ]
    },
    {
      "cell_type": "code",
      "execution_count": null,
      "metadata": {
        "colab": {
          "base_uri": "https://localhost:8080/"
        },
        "id": "7y_mSC9rWFEU",
        "outputId": "b70720fb-8ec0-4921-8207-2735bf17cad9"
      },
      "outputs": [
        {
          "output_type": "stream",
          "name": "stderr",
          "text": [
            "3156it [00:00, 193317.51it/s]\n"
          ]
        },
        {
          "output_type": "stream",
          "name": "stdout",
          "text": [
            "0 images converted to 'jpg' in 'data/augmented_rubbish_dataset/rubbish_dataset_augmented/metal'\n"
          ]
        },
        {
          "output_type": "stream",
          "name": "stderr",
          "text": [
            "3274it [00:02, 1595.04it/s]\n"
          ]
        },
        {
          "output_type": "stream",
          "name": "stdout",
          "text": [
            "66 images converted to 'jpg' in 'data/augmented_rubbish_dataset/rubbish_dataset_augmented/cardboard'\n"
          ]
        },
        {
          "output_type": "stream",
          "name": "stderr",
          "text": [
            "5674it [00:01, 4165.57it/s]\n"
          ]
        },
        {
          "output_type": "stream",
          "name": "stdout",
          "text": [
            "42 images converted to 'jpg' in 'data/augmented_rubbish_dataset/rubbish_dataset_augmented/glass'\n"
          ]
        },
        {
          "output_type": "stream",
          "name": "stderr",
          "text": [
            "593it [00:03, 150.59it/s]\n"
          ]
        },
        {
          "output_type": "stream",
          "name": "stdout",
          "text": [
            "125 images converted to 'jpg' in 'data/augmented_rubbish_dataset/rubbish_dataset_augmented/trash'\n"
          ]
        },
        {
          "output_type": "stream",
          "name": "stderr",
          "text": [
            "3042it [00:00, 166780.90it/s]\n"
          ]
        },
        {
          "output_type": "stream",
          "name": "stdout",
          "text": [
            "0 images converted to 'jpg' in 'data/augmented_rubbish_dataset/rubbish_dataset_augmented/plastic'\n"
          ]
        },
        {
          "output_type": "stream",
          "name": "stderr",
          "text": [
            "3692it [00:00, 147364.63it/s]\n"
          ]
        },
        {
          "output_type": "stream",
          "name": "stdout",
          "text": [
            "0 images converted to 'jpg' in 'data/augmented_rubbish_dataset/rubbish_dataset_augmented/organic'\n"
          ]
        },
        {
          "output_type": "stream",
          "name": "stderr",
          "text": [
            "4228it [00:00, 189724.16it/s]"
          ]
        },
        {
          "output_type": "stream",
          "name": "stdout",
          "text": [
            "0 images converted to 'jpg' in 'data/augmented_rubbish_dataset/rubbish_dataset_augmented/paper'\n"
          ]
        },
        {
          "output_type": "stream",
          "name": "stderr",
          "text": [
            "\n"
          ]
        }
      ],
      "source": [
        "utils.bulk_image_convertor(dataset_path=str(image_path) + '/rubbish_dataset_augmented',\n",
        "                    format=\"jpg\")"
      ]
    },
    {
      "cell_type": "code",
      "execution_count": null,
      "metadata": {
        "colab": {
          "base_uri": "https://localhost:8080/"
        },
        "id": "u38GWpi1WHv-",
        "outputId": "d2075bf6-4487-4563-ae1e-326cb2eb1529"
      },
      "outputs": [
        {
          "output_type": "stream",
          "name": "stderr",
          "text": [
            "Copying files: 23659 files [00:05, 3963.98 files/s]\n"
          ]
        },
        {
          "output_type": "execute_result",
          "data": {
            "text/plain": [
              "(PosixPath('data/augmented_rubbish_dataset/train'),\n",
              " PosixPath('data/augmented_rubbish_dataset/test'),\n",
              " PosixPath('data/augmented_rubbish_dataset/val'))"
            ]
          },
          "metadata": {},
          "execution_count": 5
        }
      ],
      "source": [
        "train_dir, test_dir, val_dir = utils.split_data(\n",
        "    input_folder=str(image_path) + '/rubbish_dataset_augmented',\n",
        "    output_folder=image_path\n",
        ")\n",
        "train_dir, test_dir, val_dir"
      ]
    },
    {
      "cell_type": "markdown",
      "metadata": {
        "id": "8Dpr7YHLWzDU"
      },
      "source": [
        "## 2. Model Deployment Expetiment outline\n",
        "\n",
        "**Ideal use case** A model that performs well and fast:\n",
        "\n",
        "* Performs well: 95%+ accuracy.\n",
        "* Fast: as close to real-time (or faster) as possible (30FPS+ or 30ms latency).\n",
        "  * Latency = time for prediction to take place.\n",
        "\n",
        "To try and achieve these goals, we will build two model experiments:\n",
        "\n",
        "1. EffNetB2 feature extractor.\n",
        "2. ViT feature extractor."
      ]
    },
    {
      "cell_type": "markdown",
      "metadata": {
        "id": "7jaCJ8i5ZXbP"
      },
      "source": [
        "## 3. EffNetB2 feature extractor"
      ]
    },
    {
      "cell_type": "code",
      "execution_count": null,
      "metadata": {
        "id": "cUDIh0F_WO-3"
      },
      "outputs": [],
      "source": [
        "import torchvision\n",
        "from torchvision.models._api import WeightsEnum\n",
        "from torch.hub import load_state_dict_from_url\n",
        "\n",
        "def get_state_dict(self, *args, **kwargs):\n",
        "  kwargs.pop(\"check_hash\")\n",
        "  return load_state_dict_from_url(self.url, *args, **kwargs)\n",
        "WeightsEnum.get_state_dict = get_state_dict\n",
        "\n",
        "def create_effnetb2_model(num_classes: int = 7,\n",
        "                          seed: int=42):\n",
        "  \"\"\"Creates a PyTorch EfficientNetB2 feature extractor\"\"\"\n",
        "  # Setup pretrained EffNetB2 weights\n",
        "  weights = torchvision.models.EfficientNet_B2_Weights.DEFAULT\n",
        "  # Get EffNetB2 transforms\n",
        "  transforms = weights.transforms()\n",
        "  # Setup pretrained model instance\n",
        "  model = torchvision.models.efficientnet_b2(weights=weights).to(device)\n",
        "  # Freeze the base layers in the model\n",
        "  for param in model.parameters():\n",
        "    param.requires_grad = False\n",
        "  # Create classifier\n",
        "  torch.manual_seed(seed)\n",
        "  model.classifier = nn.Sequential(\n",
        "      nn.Dropout(p=0.3, inplace=True),\n",
        "      nn.Linear(in_features=1408, out_features=num_classes)\n",
        "  )\n",
        "  return model, transforms"
      ]
    },
    {
      "cell_type": "code",
      "execution_count": null,
      "metadata": {
        "colab": {
          "base_uri": "https://localhost:8080/"
        },
        "id": "4kTjKyIGfwX9",
        "outputId": "f7a4e938-1f26-48c5-dfbb-544779c50ef5"
      },
      "outputs": [
        {
          "output_type": "stream",
          "name": "stderr",
          "text": [
            "Downloading: \"https://download.pytorch.org/models/efficientnet_b2_rwightman-c35c1473.pth\" to /root/.cache/torch/hub/checkpoints/efficientnet_b2_rwightman-c35c1473.pth\n",
            "100%|██████████| 35.2M/35.2M [00:00<00:00, 408MB/s]\n"
          ]
        }
      ],
      "source": [
        "effnetb2, effnetb2_transforms = create_effnetb2_model(num_classes=7,\n",
        "                                                      seed=42)"
      ]
    },
    {
      "cell_type": "code",
      "execution_count": null,
      "metadata": {
        "colab": {
          "base_uri": "https://localhost:8080/"
        },
        "id": "jl_LeUy3Zxgc",
        "outputId": "0e33fbd3-afe9-4b1f-e4a3-8663d5160de9"
      },
      "outputs": [
        {
          "output_type": "execute_result",
          "data": {
            "text/plain": [
              "============================================================================================================================================\n",
              "Layer (type (var_name))                                      Input Shape          Output Shape         Param #              Trainable\n",
              "============================================================================================================================================\n",
              "EfficientNet (EfficientNet)                                  [1, 3, 224, 224]     [1, 7]               --                   Partial\n",
              "├─Sequential (features)                                      [1, 3, 224, 224]     [1, 1408, 7, 7]      --                   False\n",
              "│    └─Conv2dNormActivation (0)                              [1, 3, 224, 224]     [1, 32, 112, 112]    --                   False\n",
              "│    │    └─Conv2d (0)                                       [1, 3, 224, 224]     [1, 32, 112, 112]    (864)                False\n",
              "│    │    └─BatchNorm2d (1)                                  [1, 32, 112, 112]    [1, 32, 112, 112]    (64)                 False\n",
              "│    │    └─SiLU (2)                                         [1, 32, 112, 112]    [1, 32, 112, 112]    --                   --\n",
              "│    └─Sequential (1)                                        [1, 32, 112, 112]    [1, 16, 112, 112]    --                   False\n",
              "│    │    └─MBConv (0)                                       [1, 32, 112, 112]    [1, 16, 112, 112]    (1,448)              False\n",
              "│    │    └─MBConv (1)                                       [1, 16, 112, 112]    [1, 16, 112, 112]    (612)                False\n",
              "│    └─Sequential (2)                                        [1, 16, 112, 112]    [1, 24, 56, 56]      --                   False\n",
              "│    │    └─MBConv (0)                                       [1, 16, 112, 112]    [1, 24, 56, 56]      (6,004)              False\n",
              "│    │    └─MBConv (1)                                       [1, 24, 56, 56]      [1, 24, 56, 56]      (10,710)             False\n",
              "│    │    └─MBConv (2)                                       [1, 24, 56, 56]      [1, 24, 56, 56]      (10,710)             False\n",
              "│    └─Sequential (3)                                        [1, 24, 56, 56]      [1, 48, 28, 28]      --                   False\n",
              "│    │    └─MBConv (0)                                       [1, 24, 56, 56]      [1, 48, 28, 28]      (16,518)             False\n",
              "│    │    └─MBConv (1)                                       [1, 48, 28, 28]      [1, 48, 28, 28]      (43,308)             False\n",
              "│    │    └─MBConv (2)                                       [1, 48, 28, 28]      [1, 48, 28, 28]      (43,308)             False\n",
              "│    └─Sequential (4)                                        [1, 48, 28, 28]      [1, 88, 14, 14]      --                   False\n",
              "│    │    └─MBConv (0)                                       [1, 48, 28, 28]      [1, 88, 14, 14]      (50,300)             False\n",
              "│    │    └─MBConv (1)                                       [1, 88, 14, 14]      [1, 88, 14, 14]      (123,750)            False\n",
              "│    │    └─MBConv (2)                                       [1, 88, 14, 14]      [1, 88, 14, 14]      (123,750)            False\n",
              "│    │    └─MBConv (3)                                       [1, 88, 14, 14]      [1, 88, 14, 14]      (123,750)            False\n",
              "│    └─Sequential (5)                                        [1, 88, 14, 14]      [1, 120, 14, 14]     --                   False\n",
              "│    │    └─MBConv (0)                                       [1, 88, 14, 14]      [1, 120, 14, 14]     (149,158)            False\n",
              "│    │    └─MBConv (1)                                       [1, 120, 14, 14]     [1, 120, 14, 14]     (237,870)            False\n",
              "│    │    └─MBConv (2)                                       [1, 120, 14, 14]     [1, 120, 14, 14]     (237,870)            False\n",
              "│    │    └─MBConv (3)                                       [1, 120, 14, 14]     [1, 120, 14, 14]     (237,870)            False\n",
              "│    └─Sequential (6)                                        [1, 120, 14, 14]     [1, 208, 7, 7]       --                   False\n",
              "│    │    └─MBConv (0)                                       [1, 120, 14, 14]     [1, 208, 7, 7]       (301,406)            False\n",
              "│    │    └─MBConv (1)                                       [1, 208, 7, 7]       [1, 208, 7, 7]       (686,868)            False\n",
              "│    │    └─MBConv (2)                                       [1, 208, 7, 7]       [1, 208, 7, 7]       (686,868)            False\n",
              "│    │    └─MBConv (3)                                       [1, 208, 7, 7]       [1, 208, 7, 7]       (686,868)            False\n",
              "│    │    └─MBConv (4)                                       [1, 208, 7, 7]       [1, 208, 7, 7]       (686,868)            False\n",
              "│    └─Sequential (7)                                        [1, 208, 7, 7]       [1, 352, 7, 7]       --                   False\n",
              "│    │    └─MBConv (0)                                       [1, 208, 7, 7]       [1, 352, 7, 7]       (846,900)            False\n",
              "│    │    └─MBConv (1)                                       [1, 352, 7, 7]       [1, 352, 7, 7]       (1,888,920)          False\n",
              "│    └─Conv2dNormActivation (8)                              [1, 352, 7, 7]       [1, 1408, 7, 7]      --                   False\n",
              "│    │    └─Conv2d (0)                                       [1, 352, 7, 7]       [1, 1408, 7, 7]      (495,616)            False\n",
              "│    │    └─BatchNorm2d (1)                                  [1, 1408, 7, 7]      [1, 1408, 7, 7]      (2,816)              False\n",
              "│    │    └─SiLU (2)                                         [1, 1408, 7, 7]      [1, 1408, 7, 7]      --                   --\n",
              "├─AdaptiveAvgPool2d (avgpool)                                [1, 1408, 7, 7]      [1, 1408, 1, 1]      --                   --\n",
              "├─Sequential (classifier)                                    [1, 1408]            [1, 7]               --                   True\n",
              "│    └─Dropout (0)                                           [1, 1408]            [1, 1408]            --                   --\n",
              "│    └─Linear (1)                                            [1, 1408]            [1, 7]               9,863                True\n",
              "============================================================================================================================================\n",
              "Total params: 7,710,857\n",
              "Trainable params: 9,863\n",
              "Non-trainable params: 7,700,994\n",
              "Total mult-adds (M): 657.65\n",
              "============================================================================================================================================\n",
              "Input size (MB): 0.60\n",
              "Forward/backward pass size (MB): 156.80\n",
              "Params size (MB): 30.84\n",
              "Estimated Total Size (MB): 188.24\n",
              "============================================================================================================================================"
            ]
          },
          "metadata": {},
          "execution_count": 8
        }
      ],
      "source": [
        "from torchinfo import summary\n",
        "\n",
        "summary(model=effnetb2,\n",
        "        input_size=(1, 3, 224, 224), # (batch_size, color_channels, height, width)\n",
        "        col_names=['input_size', 'output_size', 'num_params', 'trainable'],\n",
        "        col_width=20,\n",
        "        row_settings=['var_names'])"
      ]
    },
    {
      "cell_type": "markdown",
      "metadata": {
        "id": "GLWzionogfFo"
      },
      "source": [
        "### 3.1 Creating DataLoaders for EffNetB2"
      ]
    },
    {
      "cell_type": "code",
      "execution_count": null,
      "metadata": {
        "colab": {
          "base_uri": "https://localhost:8080/"
        },
        "id": "ektJO0hobtXy",
        "outputId": "af878dd1-f3f3-405c-e692-a964e0a2d0af"
      },
      "outputs": [
        {
          "output_type": "execute_result",
          "data": {
            "text/plain": [
              "(<torch.utils.data.dataloader.DataLoader at 0x786e3f79dc60>,\n",
              " <torch.utils.data.dataloader.DataLoader at 0x786cedbf62c0>,\n",
              " ['cardboard', 'glass', 'metal', 'organic', 'paper', 'plastic', 'trash'])"
            ]
          },
          "metadata": {},
          "execution_count": 9
        }
      ],
      "source": [
        "train_dataloader_effnetb2, test_dataloader_effnetb2, class_names = data_setup.create_dataLoaders(\n",
        "    train_dir=train_dir,\n",
        "    test_dir=test_dir,\n",
        "    transform=effnetb2_transforms,\n",
        "    batch_size=32\n",
        ")\n",
        "train_dataloader_effnetb2, test_dataloader_effnetb2, class_names"
      ]
    },
    {
      "cell_type": "code",
      "execution_count": null,
      "metadata": {
        "colab": {
          "base_uri": "https://localhost:8080/"
        },
        "id": "J51uZQAJg0Qq",
        "outputId": "67712961-ea41-4a08-81df-4283464d8085"
      },
      "outputs": [
        {
          "output_type": "execute_result",
          "data": {
            "text/plain": [
              "(592,\n",
              " 75,\n",
              " ['cardboard', 'glass', 'metal', 'organic', 'paper', 'plastic', 'trash'])"
            ]
          },
          "metadata": {},
          "execution_count": 10
        }
      ],
      "source": [
        "len(train_dataloader_effnetb2), len(test_dataloader_effnetb2), class_names"
      ]
    },
    {
      "cell_type": "markdown",
      "metadata": {
        "id": "A8eDvie3hBWS"
      },
      "source": [
        "### 3.2 Training EffNetB2 feature extractor"
      ]
    },
    {
      "cell_type": "code",
      "execution_count": null,
      "metadata": {
        "colab": {
          "base_uri": "https://localhost:8080/",
          "height": 222,
          "referenced_widgets": [
            "6c3fa39f18a346f79a317987874e2f89",
            "92c872285e724111ac2b0e7e8d872637",
            "29c653314c3d400dade0d0c4d7aa7bdc",
            "ec24835cab3c40e9a2ab2ca5e076cbda",
            "29cfdbf73a05474abe05a6443e78f095",
            "b36f14bfa51e4789bb2b9a676a2097ea",
            "b19e79253ab24018a39f7fd5b48f946f",
            "7b9d3ab286d94e6bab48d6a70749afbd",
            "5c2853f70b534c038448cec4507033f5",
            "6e26862ea9384397b887cc50a24bf075",
            "fcc8a1067ecf4d4ca909653da74cf589"
          ]
        },
        "id": "EN2HY6E4g4zz",
        "outputId": "fe979c41-dc3a-404d-f8ed-ea0056b8f555"
      },
      "outputs": [
        {
          "output_type": "display_data",
          "data": {
            "text/plain": [
              "  0%|          | 0/10 [00:00<?, ?it/s]"
            ],
            "application/vnd.jupyter.widget-view+json": {
              "version_major": 2,
              "version_minor": 0,
              "model_id": "6c3fa39f18a346f79a317987874e2f89"
            }
          },
          "metadata": {}
        },
        {
          "output_type": "stream",
          "name": "stdout",
          "text": [
            "Epoch: 1 | train_loss: 0.7229 | train_acc: 0.7754 | test_loss: 0.5047 | test_acc: 0.8417\n",
            "Epoch: 2 | train_loss: 0.5018 | train_acc: 0.8331 | test_loss: 0.4465 | test_acc: 0.8571\n",
            "Epoch: 3 | train_loss: 0.4779 | train_acc: 0.8364 | test_loss: 0.4269 | test_acc: 0.8567\n",
            "Epoch: 4 | train_loss: 0.4591 | train_acc: 0.8426 | test_loss: 0.4087 | test_acc: 0.8696\n",
            "Epoch: 5 | train_loss: 0.4422 | train_acc: 0.8438 | test_loss: 0.3933 | test_acc: 0.8721\n",
            "Epoch: 6 | train_loss: 0.4420 | train_acc: 0.8462 | test_loss: 0.3889 | test_acc: 0.8704\n",
            "Epoch: 7 | train_loss: 0.4393 | train_acc: 0.8485 | test_loss: 0.3738 | test_acc: 0.8804\n",
            "Epoch: 8 | train_loss: 0.4379 | train_acc: 0.8497 | test_loss: 0.3726 | test_acc: 0.8729\n",
            "Epoch: 9 | train_loss: 0.4332 | train_acc: 0.8498 | test_loss: 0.3728 | test_acc: 0.8804\n",
            "Epoch: 10 | train_loss: 0.4323 | train_acc: 0.8491 | test_loss: 0.3710 | test_acc: 0.8792\n"
          ]
        }
      ],
      "source": [
        "from modular_scripts.utils import set_seeds\n",
        "# Loss function\n",
        "loss_fn = nn.CrossEntropyLoss()\n",
        "# Optimizer\n",
        "optimizer = torch.optim.Adam(params=effnetb2.parameters(),\n",
        "                             lr=1e-3)\n",
        "# Training function\n",
        "set_seeds()\n",
        "effnetb2_results = engine.train(model=effnetb2,\n",
        "                                train_dataloader=train_dataloader_effnetb2,\n",
        "                                test_dataloader=test_dataloader_effnetb2,\n",
        "                                optimizer=optimizer,\n",
        "                                loss_fn=loss_fn,\n",
        "                                epochs=10,\n",
        "                                device=device)"
      ]
    },
    {
      "cell_type": "markdown",
      "metadata": {
        "id": "oTCEzB_kjNI3"
      },
      "source": [
        "### 3.3 Inspecting EffNet Loss Curves"
      ]
    },
    {
      "cell_type": "code",
      "execution_count": null,
      "metadata": {
        "colab": {
          "base_uri": "https://localhost:8080/",
          "height": 526
        },
        "id": "A76n38-DjSBQ",
        "outputId": "78484481-b385-4b09-a54f-c25379849db3"
      },
      "outputs": [
        {
          "output_type": "display_data",
          "data": {
            "text/plain": [
              "<Figure size 1500x700 with 2 Axes>"
            ],
            "image/png": "[encoded data removed]"
          },
          "metadata": {}
        }
      ],
      "source": [
        "utils.plot_loss_curves(results=effnetb2_results)"
      ]
    },
    {
      "cell_type": "markdown",
      "metadata": {
        "id": "GEr5Ly-lkloY"
      },
      "source": [
        "* Data Augmentation\n",
        "* Train for longer"
      ]
    },
    {
      "cell_type": "markdown",
      "metadata": {
        "id": "GbQ9duFqksml"
      },
      "source": [
        "### 3.4 Saving EffNetB2 feature extractor"
      ]
    },
    {
      "cell_type": "code",
      "execution_count": null,
      "metadata": {
        "colab": {
          "base_uri": "https://localhost:8080/"
        },
        "id": "FzRTPbAgiEJK",
        "outputId": "cd800b98-4b05-4bef-96be-e87403baec31"
      },
      "outputs": [
        {
          "output_type": "stream",
          "name": "stdout",
          "text": [
            "[INFO] Saving model to: models/effnetb2_augmented_dataset_10_epochs.pth\n"
          ]
        }
      ],
      "source": [
        "# Saving the model\n",
        "utils.save_model(model=effnetb2,\n",
        "                 target_dir=\"models\",\n",
        "                 model_name=\"effnetb2_augmented_dataset_10_epochs.pth\")"
      ]
    },
    {
      "cell_type": "markdown",
      "metadata": {
        "id": "Cm_c8Qxjlj-r"
      },
      "source": [
        "### 3.5 Inspecting the size of the model"
      ]
    },
    {
      "cell_type": "code",
      "execution_count": null,
      "metadata": {
        "colab": {
          "base_uri": "https://localhost:8080/"
        },
        "id": "QNT1TFxXlZ_k",
        "outputId": "da8209b9-3aca-463d-a94a-88d0d7bf890a"
      },
      "outputs": [
        {
          "output_type": "stream",
          "name": "stdout",
          "text": [
            "Pretrained EffNetB2 feature extractor model size: 29.86 MB\n"
          ]
        }
      ],
      "source": [
        "from pathlib import Path\n",
        "\n",
        "# Get the model size in bytes and convert to megabytes\n",
        "pretrained_effnetb2_model_size = Path(\"models/effnetb2_augmented_dataset_10_epochs.pth\").stat().st_size / (1024 * 1024)\n",
        "print(f\"Pretrained EffNetB2 feature extractor model size: {round(pretrained_effnetb2_model_size, 2)} MB\")"
      ]
    },
    {
      "cell_type": "markdown",
      "metadata": {
        "id": "cd-_4YyVnLQE"
      },
      "source": [
        "### 3.6 Collecting EffNetB2 feature extractor stats"
      ]
    },
    {
      "cell_type": "code",
      "execution_count": null,
      "metadata": {
        "colab": {
          "base_uri": "https://localhost:8080/"
        },
        "id": "Fj7cINmimiM8",
        "outputId": "b69bb3c3-bd51-4a34-883c-ff3918ef6aca"
      },
      "outputs": [
        {
          "output_type": "stream",
          "name": "stdout",
          "text": [
            "EffNetB2 total parameters: 7710857\n"
          ]
        }
      ],
      "source": [
        "# Count number of parameters in EffNetB2\n",
        "effnetb2_total_params = sum(torch.numel(param) for param in effnetb2.parameters())\n",
        "print(f\"EffNetB2 total parameters: {effnetb2_total_params}\")"
      ]
    },
    {
      "cell_type": "code",
      "execution_count": null,
      "metadata": {
        "colab": {
          "base_uri": "https://localhost:8080/"
        },
        "id": "zYf-EJmhn1nj",
        "outputId": "03dcf9c9-b579-4f80-b9c6-65fd8f64eccb"
      },
      "outputs": [
        {
          "output_type": "execute_result",
          "data": {
            "text/plain": [
              "{'test_loss': 0.3709986170878013,\n",
              " 'test_acc': 0.8791666666666667,\n",
              " 'number_of_parameters': 7710857,\n",
              " 'model_size (MB)': 29.86113929748535}"
            ]
          },
          "metadata": {},
          "execution_count": 16
        }
      ],
      "source": [
        "# Create a dictionary with EffNetB2 statistics\n",
        "effnetb2_stats = {\"test_loss\": effnetb2_results[\"test_loss\"][-1],\n",
        "                  \"test_acc\": effnetb2_results[\"test_acc\"][-1],\n",
        "                  \"number_of_parameters\": effnetb2_total_params,\n",
        "                  \"model_size (MB)\": pretrained_effnetb2_model_size}\n",
        "effnetb2_stats"
      ]
    },
    {
      "cell_type": "markdown",
      "metadata": {
        "id": "hs_moXwZr85U"
      },
      "source": [
        "## 4. Creating ViT feature extractor"
      ]
    },
    {
      "cell_type": "code",
      "execution_count": null,
      "metadata": {
        "id": "KAnhdiobpG7P"
      },
      "outputs": [],
      "source": [
        "def create_vit_model(num_classes:int=7,\n",
        "                     seed:int=42):\n",
        "  \"\"\"Creates a PyTorch ViT pretrained feature extractor\"\"\"\n",
        "  # Create Vit_B_16 pretrained weights, transforms and models\n",
        "  weights = torchvision.models.ViT_B_16_Weights.DEFAULT\n",
        "  transforms = weights.transforms()\n",
        "  model = torchvision.models.vit_b_16(weights=weights).to(device)\n",
        "\n",
        "  # Freeze all the base layers\n",
        "  for param in model.parameters():\n",
        "    param.requires_grad = False\n",
        "\n",
        "  # Change classifier head\n",
        "  model.heads = nn.Sequential(\n",
        "      nn.Linear(in_features=768,\n",
        "                out_features=num_classes)\n",
        "  )\n",
        "  return model, transforms"
      ]
    },
    {
      "cell_type": "code",
      "execution_count": null,
      "metadata": {
        "colab": {
          "base_uri": "https://localhost:8080/"
        },
        "id": "qg6UCRWKP5Jp",
        "outputId": "9b96ef16-fad8-4720-e47a-c0ef05d9dab6"
      },
      "outputs": [
        {
          "output_type": "stream",
          "name": "stderr",
          "text": [
            "Downloading: \"https://download.pytorch.org/models/vit_b_16-c867db91.pth\" to /root/.cache/torch/hub/checkpoints/vit_b_16-c867db91.pth\n",
            "100%|██████████| 330M/330M [00:00<00:00, 438MB/s]\n"
          ]
        }
      ],
      "source": [
        "vit, vit_transforms = create_vit_model(num_classes=7,\n",
        "                                       seed=42)"
      ]
    },
    {
      "cell_type": "code",
      "execution_count": null,
      "metadata": {
        "colab": {
          "base_uri": "https://localhost:8080/"
        },
        "id": "eILyHODjQVMJ",
        "outputId": "4cd33a55-f2d0-4f30-fe51-c4faa5cae021"
      },
      "outputs": [
        {
          "output_type": "execute_result",
          "data": {
            "text/plain": [
              "============================================================================================================================================\n",
              "Layer (type (var_name))                                      Input Shape          Output Shape         Param #              Trainable\n",
              "============================================================================================================================================\n",
              "VisionTransformer (VisionTransformer)                        [1, 3, 224, 224]     [1, 7]               768                  Partial\n",
              "├─Conv2d (conv_proj)                                         [1, 3, 224, 224]     [1, 768, 14, 14]     (590,592)            False\n",
              "├─Encoder (encoder)                                          [1, 197, 768]        [1, 197, 768]        151,296              False\n",
              "│    └─Dropout (dropout)                                     [1, 197, 768]        [1, 197, 768]        --                   --\n",
              "│    └─Sequential (layers)                                   [1, 197, 768]        [1, 197, 768]        --                   False\n",
              "│    │    └─EncoderBlock (encoder_layer_0)                   [1, 197, 768]        [1, 197, 768]        (7,087,872)          False\n",
              "│    │    └─EncoderBlock (encoder_layer_1)                   [1, 197, 768]        [1, 197, 768]        (7,087,872)          False\n",
              "│    │    └─EncoderBlock (encoder_layer_2)                   [1, 197, 768]        [1, 197, 768]        (7,087,872)          False\n",
              "│    │    └─EncoderBlock (encoder_layer_3)                   [1, 197, 768]        [1, 197, 768]        (7,087,872)          False\n",
              "│    │    └─EncoderBlock (encoder_layer_4)                   [1, 197, 768]        [1, 197, 768]        (7,087,872)          False\n",
              "│    │    └─EncoderBlock (encoder_layer_5)                   [1, 197, 768]        [1, 197, 768]        (7,087,872)          False\n",
              "│    │    └─EncoderBlock (encoder_layer_6)                   [1, 197, 768]        [1, 197, 768]        (7,087,872)          False\n",
              "│    │    └─EncoderBlock (encoder_layer_7)                   [1, 197, 768]        [1, 197, 768]        (7,087,872)          False\n",
              "│    │    └─EncoderBlock (encoder_layer_8)                   [1, 197, 768]        [1, 197, 768]        (7,087,872)          False\n",
              "│    │    └─EncoderBlock (encoder_layer_9)                   [1, 197, 768]        [1, 197, 768]        (7,087,872)          False\n",
              "│    │    └─EncoderBlock (encoder_layer_10)                  [1, 197, 768]        [1, 197, 768]        (7,087,872)          False\n",
              "│    │    └─EncoderBlock (encoder_layer_11)                  [1, 197, 768]        [1, 197, 768]        (7,087,872)          False\n",
              "│    └─LayerNorm (ln)                                        [1, 197, 768]        [1, 197, 768]        (1,536)              False\n",
              "├─Sequential (heads)                                         [1, 768]             [1, 7]               --                   True\n",
              "│    └─Linear (0)                                            [1, 768]             [1, 7]               5,383                True\n",
              "============================================================================================================================================\n",
              "Total params: 85,804,039\n",
              "Trainable params: 5,383\n",
              "Non-trainable params: 85,798,656\n",
              "Total mult-adds (M): 172.47\n",
              "============================================================================================================================================\n",
              "Input size (MB): 0.60\n",
              "Forward/backward pass size (MB): 104.09\n",
              "Params size (MB): 229.21\n",
              "Estimated Total Size (MB): 333.90\n",
              "============================================================================================================================================"
            ]
          },
          "metadata": {},
          "execution_count": 19
        }
      ],
      "source": [
        "from torchinfo import summary\n",
        "\n",
        "summary(model=vit,\n",
        "        input_size=(1, 3, 224, 224), # (batch_size, color_channels, height, width)\n",
        "        col_names=['input_size', 'output_size', 'num_params', 'trainable'],\n",
        "        col_width=20,\n",
        "        row_settings=['var_names'])"
      ]
    },
    {
      "cell_type": "markdown",
      "metadata": {
        "id": "OAhDbx4xRlnx"
      },
      "source": [
        "### 4.1 Dataloaders for ViT feature extractor"
      ]
    },
    {
      "cell_type": "code",
      "execution_count": null,
      "metadata": {
        "colab": {
          "base_uri": "https://localhost:8080/"
        },
        "id": "gh_iFZ5YRCXU",
        "outputId": "8fceae61-177b-42f9-b913-78eef3ea6070"
      },
      "outputs": [
        {
          "output_type": "execute_result",
          "data": {
            "text/plain": [
              "(592,\n",
              " 75,\n",
              " ['cardboard', 'glass', 'metal', 'organic', 'paper', 'plastic', 'trash'])"
            ]
          },
          "metadata": {},
          "execution_count": 20
        }
      ],
      "source": [
        "from modular_scripts.data_setup import create_dataLoaders\n",
        "\n",
        "train_dataloader_vit, test_dataloader_vit, class_names = create_dataLoaders(\n",
        "    train_dir=train_dir,\n",
        "    test_dir=test_dir,\n",
        "    transform=vit_transforms,\n",
        "    batch_size=32\n",
        ")\n",
        "len(train_dataloader_vit), len(test_dataloader_vit), class_names"
      ]
    },
    {
      "cell_type": "markdown",
      "metadata": {
        "id": "jBTbNNKYSK7T"
      },
      "source": [
        "### 4.2 Training ViT Feature Extractor"
      ]
    },
    {
      "cell_type": "code",
      "execution_count": null,
      "metadata": {
        "colab": {
          "base_uri": "https://localhost:8080/",
          "height": 222,
          "referenced_widgets": [
            "9f2f5c07d2834f63bfb8d6d1172fecf6",
            "ce45203a741c4a93837dd443a29132ff",
            "9c10a93cc254425daff90148cff3a4d7",
            "54e5a298abe2424d966a123ede1f6747",
            "16693bac0031482fa212b959f3401a0c",
            "a5507992fa5e4d81906e4bbc32c93526",
            "aa3e962827044edc8e7c0e3b157c81b8",
            "68cb997cb2f948a4ac2601a4dc220d71",
            "b8631579bb5046a2adbf434327e1111a",
            "33cc42c1db1b4deeb4bfc0015ec561eb",
            "64c65f4841344fb6b98c084d1d370dbe"
          ]
        },
        "id": "l75s8lFxSAHW",
        "outputId": "cec48b14-b8db-457b-ac0b-64255d792b40"
      },
      "outputs": [
        {
          "output_type": "display_data",
          "data": {
            "text/plain": [
              "  0%|          | 0/10 [00:00<?, ?it/s]"
            ],
            "application/vnd.jupyter.widget-view+json": {
              "version_major": 2,
              "version_minor": 0,
              "model_id": "9f2f5c07d2834f63bfb8d6d1172fecf6"
            }
          },
          "metadata": {}
        },
        {
          "output_type": "stream",
          "name": "stdout",
          "text": [
            "Epoch: 1 | train_loss: 0.4408 | train_acc: 0.8629 | test_loss: 0.3599 | test_acc: 0.8733\n",
            "Epoch: 2 | train_loss: 0.2651 | train_acc: 0.9135 | test_loss: 0.3191 | test_acc: 0.8933\n",
            "Epoch: 3 | train_loss: 0.2253 | train_acc: 0.9269 | test_loss: 0.3034 | test_acc: 0.9046\n",
            "Epoch: 4 | train_loss: 0.2019 | train_acc: 0.9339 | test_loss: 0.2967 | test_acc: 0.9012\n",
            "Epoch: 5 | train_loss: 0.1865 | train_acc: 0.9406 | test_loss: 0.2920 | test_acc: 0.9025\n",
            "Epoch: 6 | train_loss: 0.1756 | train_acc: 0.9432 | test_loss: 0.2923 | test_acc: 0.9079\n",
            "Epoch: 7 | train_loss: 0.1645 | train_acc: 0.9471 | test_loss: 0.2955 | test_acc: 0.9038\n",
            "Epoch: 8 | train_loss: 0.1568 | train_acc: 0.9506 | test_loss: 0.2854 | test_acc: 0.9108\n",
            "Epoch: 9 | train_loss: 0.1505 | train_acc: 0.9523 | test_loss: 0.2921 | test_acc: 0.9121\n",
            "Epoch: 10 | train_loss: 0.1446 | train_acc: 0.9547 | test_loss: 0.2898 | test_acc: 0.9079\n"
          ]
        }
      ],
      "source": [
        "from modular_scripts.engine import train\n",
        "from modular_scripts.utils import set_seeds\n",
        "# Set Optimizer\n",
        "optimizer = torch.optim.Adam(params=vit.parameters(),\n",
        "                             lr=1e-3)\n",
        "# Loss function\n",
        "loss_fn = nn.CrossEntropyLoss()\n",
        "# Train ViT\n",
        "set_seeds()\n",
        "vit_results = train(model=vit,\n",
        "                    train_dataloader=train_dataloader_vit,\n",
        "                    test_dataloader=test_dataloader_vit,\n",
        "                    epochs=10,\n",
        "                    optimizer=optimizer,\n",
        "                    loss_fn=loss_fn,\n",
        "                    device=device)"
      ]
    },
    {
      "cell_type": "markdown",
      "metadata": {
        "id": "9Fx9SyXxYm3t"
      },
      "source": [
        "### 4.3 Plot Loss Curves of ViT feature extractor"
      ]
    },
    {
      "cell_type": "code",
      "execution_count": null,
      "metadata": {
        "id": "7AG-_gITSILH",
        "colab": {
          "base_uri": "https://localhost:8080/",
          "height": 526
        },
        "outputId": "8a01b861-092f-4107-c9ee-ef89387a6cd4"
      },
      "outputs": [
        {
          "output_type": "display_data",
          "data": {
            "text/plain": [
              "<Figure size 1500x700 with 2 Axes>"
            ],
            "image/png": "[encoded data removed]"
          },
          "metadata": {}
        }
      ],
      "source": [
        "from modular_scripts.utils import plot_loss_curves\n",
        "\n",
        "plot_loss_curves(results=vit_results)"
      ]
    },
    {
      "cell_type": "markdown",
      "metadata": {
        "id": "oqHkB0CzZIBc"
      },
      "source": [
        "### 4.4 Saving ViT feature extractor"
      ]
    },
    {
      "cell_type": "code",
      "execution_count": null,
      "metadata": {
        "id": "ygYKoQ8BY1rp",
        "colab": {
          "base_uri": "https://localhost:8080/"
        },
        "outputId": "2ab75f0a-aa51-4642-d18a-db9daaa4f075"
      },
      "outputs": [
        {
          "output_type": "stream",
          "name": "stdout",
          "text": [
            "[INFO] Saving model to: models/vit_b_16_augmented_dataset_10_epochs.pth\n"
          ]
        }
      ],
      "source": [
        "# Save model\n",
        "from modular_scripts.utils import save_model\n",
        "\n",
        "save_model(model=vit,\n",
        "           target_dir=\"models\",\n",
        "           model_name=\"vit_b_16_augmented_dataset_10_epochs.pth\")"
      ]
    },
    {
      "cell_type": "markdown",
      "metadata": {
        "id": "Muql--g3ZbnK"
      },
      "source": [
        "### 4.5 Checking the model size\n"
      ]
    },
    {
      "cell_type": "code",
      "execution_count": null,
      "metadata": {
        "id": "mKGQ7bAjZa0E",
        "colab": {
          "base_uri": "https://localhost:8080/"
        },
        "outputId": "d3548c40-239d-45f7-d7d8-40cba9196868"
      },
      "outputs": [
        {
          "output_type": "stream",
          "name": "stdout",
          "text": [
            "Pretrained ViT feature extractor model size: 327.38 MB\n"
          ]
        }
      ],
      "source": [
        "from pathlib import Path\n",
        "\n",
        "# Get the model size in bytes then convert to megabytes\n",
        "pretrained_vit_model_size = Path(\"models/vit_b_16_augmented_dataset_10_epochs.pth\").stat().st_size / (1024 * 1024)\n",
        "print(f\"Pretrained ViT feature extractor model size: {pretrained_vit_model_size:.2f} MB\")"
      ]
    },
    {
      "cell_type": "markdown",
      "metadata": {
        "id": "WhufZ7J8aGlz"
      },
      "source": [
        "### 4.6 Collecting ViT features extractor stats"
      ]
    },
    {
      "cell_type": "code",
      "execution_count": null,
      "metadata": {
        "id": "OqWIN3z3Z2og"
      },
      "outputs": [],
      "source": [
        "# Count number of parameters in ViT\n",
        "vit_total_params = sum(torch.numel(param) for param in vit.parameters())"
      ]
    },
    {
      "cell_type": "code",
      "execution_count": null,
      "metadata": {
        "id": "CcrTic_IbGnh",
        "colab": {
          "base_uri": "https://localhost:8080/"
        },
        "outputId": "ae4c6f1b-d8cb-4cd4-b289-e76b93fbb068"
      },
      "outputs": [
        {
          "output_type": "execute_result",
          "data": {
            "text/plain": [
              "{'test_loss': 0.28981455804624906,\n",
              " 'test_acc': 0.9079166666666667,\n",
              " 'number_of_parameters': 85804039,\n",
              " 'model_size (MB)': 327.37833976745605}"
            ]
          },
          "metadata": {},
          "execution_count": 26
        }
      ],
      "source": [
        "# Create ViT statistics dictionary\n",
        "vit_stats = {\"test_loss\": vit_results[\"test_loss\"][-1],\n",
        "             \"test_acc\": vit_results[\"test_acc\"][-1],\n",
        "             \"number_of_parameters\": vit_total_params,\n",
        "             \"model_size (MB)\": pretrained_vit_model_size}\n",
        "vit_stats"
      ]
    },
    {
      "cell_type": "markdown",
      "metadata": {
        "id": "J8-Fj8XMK2CC"
      },
      "source": [
        "## 5. Make predictions and time them"
      ]
    },
    {
      "cell_type": "code",
      "execution_count": null,
      "metadata": {
        "id": "p2i3PPg5bjJp"
      },
      "outputs": [],
      "source": [
        "from pathlib import Path\n",
        "\n",
        "val_data_path = list(Path(val_dir).glob(\"*/*.jpg\"))\n"
      ]
    },
    {
      "cell_type": "markdown",
      "metadata": {
        "id": "Sg27mvpnLsJa"
      },
      "source": [
        "### 5.1 Function to make predictions across val dataset"
      ]
    },
    {
      "cell_type": "code",
      "execution_count": null,
      "metadata": {
        "id": "BcV0qNuMLIqX"
      },
      "outputs": [],
      "source": [
        "import pathlib\n",
        "import torch\n",
        "\n",
        "from PIL import Image\n",
        "from timeit import default_timer as timer\n",
        "from tqdm.auto import tqdm\n",
        "from typing import List, Dict\n",
        "\n",
        "def pred_and_store(paths: List[pathlib.Path],\n",
        "                   model: torch.nn.Module,\n",
        "                   transform: torchvision.transforms,\n",
        "                   class_names: List[str],\n",
        "                   device: str = \"cuda\" if torch.cuda.is_available() else \"cpu\") -> List[Dict]:\n",
        "    pred_list = []\n",
        "    for path in tqdm(paths):\n",
        "      pred_dict = {}\n",
        "      pred_dict[\"image_path\"] = path\n",
        "      class_name = path.parent.stem\n",
        "      pred_dict[\"class_name\"] = class_name\n",
        "\n",
        "      start_time = timer()\n",
        "      img = Image.open(path)\n",
        "      transformed_img = transform(img).unsqueeze(dim=0).to(device)\n",
        "\n",
        "      model = model.to(device)\n",
        "      model.eval()\n",
        "\n",
        "      with torch.inference_mode():\n",
        "        pred_logit = model(transformed_img)\n",
        "        pred_prob = torch.softmax(pred_logit, dim=1)\n",
        "        pred_label = torch.argmax(pred_prob, dim=1)\n",
        "        pred_class = class_names[pred_label.cpu()] # hardcode prediction class to be on CPU (Python variables live on CPU)\n",
        "\n",
        "        pred_dict[\"pred_prob\"] = round(pred_prob.unsqueeze(0).max().cpu().item(), 4)\n",
        "        pred_dict[\"pred_class\"] = pred_class\n",
        "\n",
        "        end_time = timer()\n",
        "        pred_dict[\"time_for_pred\"] = round(end_time - start_time, 4)\n",
        "\n",
        "      pred_dict[\"Correct\"] = class_name == pred_class\n",
        "      pred_list.append(pred_dict)\n",
        "\n",
        "    return pred_list"
      ]
    },
    {
      "cell_type": "markdown",
      "metadata": {
        "id": "odJWDrK-N0ML"
      },
      "source": [
        "### 5.2 Making and timing predictions with EffNetB2\n",
        "\n",
        "Two thing to nore:\n",
        "1. **Device** - hardcode predictions to happen on CPU (There won't be always a GPU when deploying a model)\n",
        "2. **Transforms** - Make sure the images used for prediction have been previously prepared with the appropiate transforms to the model on use (e.g EffNetB2 with `effnetb2_transforms`)"
      ]
    },
    {
      "cell_type": "code",
      "execution_count": null,
      "metadata": {
        "colab": {
          "base_uri": "https://localhost:8080/",
          "height": 49,
          "referenced_widgets": [
            "a47670af3d134994bb61550f6cb2ce71",
            "7f0db843d91d455c8ba6cd53a1db8e2f",
            "de52914f9dd0419c9c002fed33c75999",
            "389d4de662594c608eecd8dba5c5f17a",
            "5e41d32addee4085b3736f477e6725a2",
            "ad184423e6a54617894142e338a0864c",
            "248b1f9777954845a4112ec2a7b24e0f",
            "5401b1e6790b4d41be8db8fc8da8193d",
            "68a45682d7b947e7bbcd60a4666d7821",
            "87a162917dfa4c9bb1ed8f733c99ba87",
            "18f9d6d550ca433993454805017d1b88"
          ]
        },
        "id": "lrmFFqkoN7Di",
        "outputId": "0d052bb5-1b13-4d79-a27e-0d2287badf19"
      },
      "outputs": [
        {
          "output_type": "display_data",
          "data": {
            "text/plain": [
              "  0%|          | 0/2363 [00:00<?, ?it/s]"
            ],
            "application/vnd.jupyter.widget-view+json": {
              "version_major": 2,
              "version_minor": 0,
              "model_id": "a47670af3d134994bb61550f6cb2ce71"
            }
          },
          "metadata": {}
        }
      ],
      "source": [
        "# Make predictions val dataset with EffNetB2\n",
        "effnetb2_val_pred_dicts = pred_and_store(paths=val_data_path,\n",
        "                                         model=effnetb2,\n",
        "                                         transform=effnetb2_transforms,\n",
        "                                         class_names=class_names,\n",
        "                                         device=\"cpu\")"
      ]
    },
    {
      "cell_type": "code",
      "execution_count": null,
      "metadata": {
        "colab": {
          "base_uri": "https://localhost:8080/",
          "height": 206
        },
        "id": "RHaaK_ZgM1Bq",
        "outputId": "4d494445-5c80-4d19-a883-bc0c0f42df4c"
      },
      "outputs": [
        {
          "output_type": "execute_result",
          "data": {
            "text/plain": [
              "                                          image_path class_name  pred_prob  \\\n",
              "0  data/augmented_rubbish_dataset/val/metal/image...      metal     0.8800   \n",
              "1   data/augmented_rubbish_dataset/val/metal/143.jpg      metal     0.4191   \n",
              "2  data/augmented_rubbish_dataset/val/metal/image...      metal     0.9834   \n",
              "3  data/augmented_rubbish_dataset/val/metal/image...      metal     0.9561   \n",
              "4  data/augmented_rubbish_dataset/val/metal/image...      metal     0.9967   \n",
              "\n",
              "  pred_class  time_for_pred  Correct  \n",
              "0      metal         0.2313     True  \n",
              "1      metal         0.0597     True  \n",
              "2      metal         0.0551     True  \n",
              "3      metal         0.0558     True  \n",
              "4      metal         0.0514     True  "
            ],
            "text/html": [
              "\n",
              "  <div id=\"df-e3ce7177-d949-4ff2-93aa-19b29c08f305\" class=\"colab-df-container\">\n",
              "    <div>\n",
              "<style scoped>\n",
              "    .dataframe tbody tr th:only-of-type {\n",
              "        vertical-align: middle;\n",
              "    }\n",
              "\n",
              "    .dataframe tbody tr th {\n",
              "        vertical-align: top;\n",
              "    }\n",
              "\n",
              "    .dataframe thead th {\n",
              "        text-align: right;\n",
              "    }\n",
              "</style>\n",
              "<table border=\"1\" class=\"dataframe\">\n",
              "  <thead>\n",
              "    <tr style=\"text-align: right;\">\n",
              "      <th></th>\n",
              "      <th>image_path</th>\n",
              "      <th>class_name</th>\n",
              "      <th>pred_prob</th>\n",
              "      <th>pred_class</th>\n",
              "      <th>time_for_pred</th>\n",
              "      <th>Correct</th>\n",
              "    </tr>\n",
              "  </thead>\n",
              "  <tbody>\n",
              "    <tr>\n",
              "      <th>0</th>\n",
              "      <td>data/augmented_rubbish_dataset/val/metal/image...</td>\n",
              "      <td>metal</td>\n",
              "      <td>0.8800</td>\n",
              "      <td>metal</td>\n",
              "      <td>0.2313</td>\n",
              "      <td>True</td>\n",
              "    </tr>\n",
              "    <tr>\n",
              "      <th>1</th>\n",
              "      <td>data/augmented_rubbish_dataset/val/metal/143.jpg</td>\n",
              "      <td>metal</td>\n",
              "      <td>0.4191</td>\n",
              "      <td>metal</td>\n",
              "      <td>0.0597</td>\n",
              "      <td>True</td>\n",
              "    </tr>\n",
              "    <tr>\n",
              "      <th>2</th>\n",
              "      <td>data/augmented_rubbish_dataset/val/metal/image...</td>\n",
              "      <td>metal</td>\n",
              "      <td>0.9834</td>\n",
              "      <td>metal</td>\n",
              "      <td>0.0551</td>\n",
              "      <td>True</td>\n",
              "    </tr>\n",
              "    <tr>\n",
              "      <th>3</th>\n",
              "      <td>data/augmented_rubbish_dataset/val/metal/image...</td>\n",
              "      <td>metal</td>\n",
              "      <td>0.9561</td>\n",
              "      <td>metal</td>\n",
              "      <td>0.0558</td>\n",
              "      <td>True</td>\n",
              "    </tr>\n",
              "    <tr>\n",
              "      <th>4</th>\n",
              "      <td>data/augmented_rubbish_dataset/val/metal/image...</td>\n",
              "      <td>metal</td>\n",
              "      <td>0.9967</td>\n",
              "      <td>metal</td>\n",
              "      <td>0.0514</td>\n",
              "      <td>True</td>\n",
              "    </tr>\n",
              "  </tbody>\n",
              "</table>\n",
              "</div>\n",
              "    <div class=\"colab-df-buttons\">\n",
              "\n",
              "  <div class=\"colab-df-container\">\n",
              "    <button class=\"colab-df-convert\" onclick=\"convertToInteractive('df-e3ce7177-d949-4ff2-93aa-19b29c08f305')\"\n",
              "            title=\"Convert this dataframe to an interactive table.\"\n",
              "            style=\"display:none;\">\n",
              "\n",
              "  <svg xmlns=\"http://www.w3.org/2000/svg\" height=\"24px\" viewBox=\"0 -960 960 960\">\n",
              "    <path d=\"M120-120v-720h720v720H120Zm60-500h600v-160H180v160Zm220 220h160v-160H400v160Zm0 220h160v-160H400v160ZM180-400h160v-160H180v160Zm440 0h160v-160H620v160ZM180-180h160v-160H180v160Zm440 0h160v-160H620v160Z\"/>\n",
              "  </svg>\n",
              "    </button>\n",
              "\n",
              "  <style>\n",
              "    .colab-df-container {\n",
              "      display:flex;\n",
              "      gap: 12px;\n",
              "    }\n",
              "\n",
              "    .colab-df-convert {\n",
              "      background-color: #E8F0FE;\n",
              "      border: none;\n",
              "      border-radius: 50%;\n",
              "      cursor: pointer;\n",
              "      display: none;\n",
              "      fill: #1967D2;\n",
              "      height: 32px;\n",
              "      padding: 0 0 0 0;\n",
              "      width: 32px;\n",
              "    }\n",
              "\n",
              "    .colab-df-convert:hover {\n",
              "      background-color: #E2EBFA;\n",
              "      box-shadow: 0px 1px 2px rgba(60, 64, 67, 0.3), 0px 1px 3px 1px rgba(60, 64, 67, 0.15);\n",
              "      fill: #174EA6;\n",
              "    }\n",
              "\n",
              "    .colab-df-buttons div {\n",
              "      margin-bottom: 4px;\n",
              "    }\n",
              "\n",
              "    [theme=dark] .colab-df-convert {\n",
              "      background-color: #3B4455;\n",
              "      fill: #D2E3FC;\n",
              "    }\n",
              "\n",
              "    [theme=dark] .colab-df-convert:hover {\n",
              "      background-color: #434B5C;\n",
              "      box-shadow: 0px 1px 3px 1px rgba(0, 0, 0, 0.15);\n",
              "      filter: drop-shadow(0px 1px 2px rgba(0, 0, 0, 0.3));\n",
              "      fill: #FFFFFF;\n",
              "    }\n",
              "  </style>\n",
              "\n",
              "    <script>\n",
              "      const buttonEl =\n",
              "        document.querySelector('#df-e3ce7177-d949-4ff2-93aa-19b29c08f305 button.colab-df-convert');\n",
              "      buttonEl.style.display =\n",
              "        google.colab.kernel.accessAllowed ? 'block' : 'none';\n",
              "\n",
              "      async function convertToInteractive(key) {\n",
              "        const element = document.querySelector('#df-e3ce7177-d949-4ff2-93aa-19b29c08f305');\n",
              "        const dataTable =\n",
              "          await google.colab.kernel.invokeFunction('convertToInteractive',\n",
              "                                                    [key], {});\n",
              "        if (!dataTable) return;\n",
              "\n",
              "        const docLinkHtml = 'Like what you see? Visit the ' +\n",
              "          '<a target=\"_blank\" href=https://colab.research.google.com/notebooks/data_table.ipynb>data table notebook</a>'\n",
              "          + ' to learn more about interactive tables.';\n",
              "        element.innerHTML = '';\n",
              "        dataTable['output_type'] = 'display_data';\n",
              "        await google.colab.output.renderOutput(dataTable, element);\n",
              "        const docLink = document.createElement('div');\n",
              "        docLink.innerHTML = docLinkHtml;\n",
              "        element.appendChild(docLink);\n",
              "      }\n",
              "    </script>\n",
              "  </div>\n",
              "\n",
              "\n",
              "<div id=\"df-7e9db6e4-4bc7-42b7-8252-d1a0fecb7796\">\n",
              "  <button class=\"colab-df-quickchart\" onclick=\"quickchart('df-7e9db6e4-4bc7-42b7-8252-d1a0fecb7796')\"\n",
              "            title=\"Suggest charts\"\n",
              "            style=\"display:none;\">\n",
              "\n",
              "<svg xmlns=\"http://www.w3.org/2000/svg\" height=\"24px\"viewBox=\"0 0 24 24\"\n",
              "     width=\"24px\">\n",
              "    <g>\n",
              "        <path d=\"M19 3H5c-1.1 0-2 .9-2 2v14c0 1.1.9 2 2 2h14c1.1 0 2-.9 2-2V5c0-1.1-.9-2-2-2zM9 17H7v-7h2v7zm4 0h-2V7h2v10zm4 0h-2v-4h2v4z\"/>\n",
              "    </g>\n",
              "</svg>\n",
              "  </button>\n",
              "\n",
              "<style>\n",
              "  .colab-df-quickchart {\n",
              "      --bg-color: #E8F0FE;\n",
              "      --fill-color: #1967D2;\n",
              "      --hover-bg-color: #E2EBFA;\n",
              "      --hover-fill-color: #174EA6;\n",
              "      --disabled-fill-color: #AAA;\n",
              "      --disabled-bg-color: #DDD;\n",
              "  }\n",
              "\n",
              "  [theme=dark] .colab-df-quickchart {\n",
              "      --bg-color: #3B4455;\n",
              "      --fill-color: #D2E3FC;\n",
              "      --hover-bg-color: #434B5C;\n",
              "      --hover-fill-color: #FFFFFF;\n",
              "      --disabled-bg-color: #3B4455;\n",
              "      --disabled-fill-color: #666;\n",
              "  }\n",
              "\n",
              "  .colab-df-quickchart {\n",
              "    background-color: var(--bg-color);\n",
              "    border: none;\n",
              "    border-radius: 50%;\n",
              "    cursor: pointer;\n",
              "    display: none;\n",
              "    fill: var(--fill-color);\n",
              "    height: 32px;\n",
              "    padding: 0;\n",
              "    width: 32px;\n",
              "  }\n",
              "\n",
              "  .colab-df-quickchart:hover {\n",
              "    background-color: var(--hover-bg-color);\n",
              "    box-shadow: 0 1px 2px rgba(60, 64, 67, 0.3), 0 1px 3px 1px rgba(60, 64, 67, 0.15);\n",
              "    fill: var(--button-hover-fill-color);\n",
              "  }\n",
              "\n",
              "  .colab-df-quickchart-complete:disabled,\n",
              "  .colab-df-quickchart-complete:disabled:hover {\n",
              "    background-color: var(--disabled-bg-color);\n",
              "    fill: var(--disabled-fill-color);\n",
              "    box-shadow: none;\n",
              "  }\n",
              "\n",
              "  .colab-df-spinner {\n",
              "    border: 2px solid var(--fill-color);\n",
              "    border-color: transparent;\n",
              "    border-bottom-color: var(--fill-color);\n",
              "    animation:\n",
              "      spin 1s steps(1) infinite;\n",
              "  }\n",
              "\n",
              "  @keyframes spin {\n",
              "    0% {\n",
              "      border-color: transparent;\n",
              "      border-bottom-color: var(--fill-color);\n",
              "      border-left-color: var(--fill-color);\n",
              "    }\n",
              "    20% {\n",
              "      border-color: transparent;\n",
              "      border-left-color: var(--fill-color);\n",
              "      border-top-color: var(--fill-color);\n",
              "    }\n",
              "    30% {\n",
              "      border-color: transparent;\n",
              "      border-left-color: var(--fill-color);\n",
              "      border-top-color: var(--fill-color);\n",
              "      border-right-color: var(--fill-color);\n",
              "    }\n",
              "    40% {\n",
              "      border-color: transparent;\n",
              "      border-right-color: var(--fill-color);\n",
              "      border-top-color: var(--fill-color);\n",
              "    }\n",
              "    60% {\n",
              "      border-color: transparent;\n",
              "      border-right-color: var(--fill-color);\n",
              "    }\n",
              "    80% {\n",
              "      border-color: transparent;\n",
              "      border-right-color: var(--fill-color);\n",
              "      border-bottom-color: var(--fill-color);\n",
              "    }\n",
              "    90% {\n",
              "      border-color: transparent;\n",
              "      border-bottom-color: var(--fill-color);\n",
              "    }\n",
              "  }\n",
              "</style>\n",
              "\n",
              "  <script>\n",
              "    async function quickchart(key) {\n",
              "      const quickchartButtonEl =\n",
              "        document.querySelector('#' + key + ' button');\n",
              "      quickchartButtonEl.disabled = true;  // To prevent multiple clicks.\n",
              "      quickchartButtonEl.classList.add('colab-df-spinner');\n",
              "      try {\n",
              "        const charts = await google.colab.kernel.invokeFunction(\n",
              "            'suggestCharts', [key], {});\n",
              "      } catch (error) {\n",
              "        console.error('Error during call to suggestCharts:', error);\n",
              "      }\n",
              "      quickchartButtonEl.classList.remove('colab-df-spinner');\n",
              "      quickchartButtonEl.classList.add('colab-df-quickchart-complete');\n",
              "    }\n",
              "    (() => {\n",
              "      let quickchartButtonEl =\n",
              "        document.querySelector('#df-7e9db6e4-4bc7-42b7-8252-d1a0fecb7796 button');\n",
              "      quickchartButtonEl.style.display =\n",
              "        google.colab.kernel.accessAllowed ? 'block' : 'none';\n",
              "    })();\n",
              "  </script>\n",
              "</div>\n",
              "\n",
              "    </div>\n",
              "  </div>\n"
            ],
            "application/vnd.google.colaboratory.intrinsic+json": {
              "type": "dataframe",
              "variable_name": "effnetb2_val_pred_df",
              "summary": "{\n  \"name\": \"effnetb2_val_pred_df\",\n  \"rows\": 2363,\n  \"fields\": [\n    {\n      \"column\": \"image_path\",\n      \"properties\": {\n        \"dtype\": \"string\",\n        \"num_unique_values\": 2363,\n        \"samples\": [\n          \"data/augmented_rubbish_dataset/val/glass/image_11073.jpg\",\n          \"data/augmented_rubbish_dataset/val/organic/image_3490.jpg\",\n          \"data/augmented_rubbish_dataset/val/organic/image_3067.jpg\"\n        ],\n        \"semantic_type\": \"\",\n        \"description\": \"\"\n      }\n    },\n    {\n      \"column\": \"class_name\",\n      \"properties\": {\n        \"dtype\": \"category\",\n        \"num_unique_values\": 7,\n        \"samples\": [\n          \"metal\",\n          \"cardboard\",\n          \"organic\"\n        ],\n        \"semantic_type\": \"\",\n        \"description\": \"\"\n      }\n    },\n    {\n      \"column\": \"pred_prob\",\n      \"properties\": {\n        \"dtype\": \"number\",\n        \"std\": 0.1767618095780949,\n        \"min\": 0.2536,\n        \"max\": 1.0,\n        \"num_unique_values\": 1423,\n        \"samples\": [\n          0.9381,\n          0.5054,\n          0.7615\n        ],\n        \"semantic_type\": \"\",\n        \"description\": \"\"\n      }\n    },\n    {\n      \"column\": \"pred_class\",\n      \"properties\": {\n        \"dtype\": \"category\",\n        \"num_unique_values\": 7,\n        \"samples\": [\n          \"metal\",\n          \"plastic\",\n          \"cardboard\"\n        ],\n        \"semantic_type\": \"\",\n        \"description\": \"\"\n      }\n    },\n    {\n      \"column\": \"time_for_pred\",\n      \"properties\": {\n        \"dtype\": \"number\",\n        \"std\": 0.04759727010204054,\n        \"min\": 0.0492,\n        \"max\": 0.5612,\n        \"num_unique_values\": 486,\n        \"samples\": [\n          0.1919,\n          0.1026,\n          0.0709\n        ],\n        \"semantic_type\": \"\",\n        \"description\": \"\"\n      }\n    },\n    {\n      \"column\": \"Correct\",\n      \"properties\": {\n        \"dtype\": \"boolean\",\n        \"num_unique_values\": 2,\n        \"samples\": [\n          false,\n          true\n        ],\n        \"semantic_type\": \"\",\n        \"description\": \"\"\n      }\n    }\n  ]\n}"
            }
          },
          "metadata": {},
          "execution_count": 30
        }
      ],
      "source": [
        "# Turn the val_pred_dicts into a DataFrame\n",
        "import pandas as pd\n",
        "effnetb2_val_pred_df = pd.DataFrame(effnetb2_val_pred_dicts)\n",
        "effnetb2_val_pred_df.head()"
      ]
    },
    {
      "cell_type": "code",
      "execution_count": null,
      "metadata": {
        "colab": {
          "base_uri": "https://localhost:8080/"
        },
        "id": "6VhNqOFfOAfM",
        "outputId": "4aeb1742-f82b-4cf2-dfc5-f16c69f3b832"
      },
      "outputs": [
        {
          "output_type": "execute_result",
          "data": {
            "text/plain": [
              "True     2107\n",
              "False     256\n",
              "Name: Correct, dtype: int64"
            ]
          },
          "metadata": {},
          "execution_count": 31
        }
      ],
      "source": [
        "# Check number of correct predictions\n",
        "effnetb2_val_pred_df.Correct.value_counts()"
      ]
    },
    {
      "cell_type": "code",
      "execution_count": null,
      "metadata": {
        "colab": {
          "base_uri": "https://localhost:8080/"
        },
        "id": "8GjszjevpVBr",
        "outputId": "cf10f411-fffc-4026-c6d9-96d58c253159"
      },
      "outputs": [
        {
          "output_type": "stream",
          "name": "stdout",
          "text": [
            "EffNetB2 average time per prediction: 0.0733\n"
          ]
        }
      ],
      "source": [
        "# Find the average time per prediction\n",
        "effnetb2_average_time_per_pred = round(effnetb2_val_pred_df.time_for_pred.mean(), 4)\n",
        "print(f\"EffNetB2 average time per prediction: {effnetb2_average_time_per_pred}\")"
      ]
    },
    {
      "cell_type": "markdown",
      "metadata": {
        "id": "lWk5LC-MPgqB"
      },
      "source": [
        "> **Note**: Prediction times will vary (much like training times) depending on the hardware you're using. The faster the compute (e.g CPU or GPU), the faster the predictions."
      ]
    },
    {
      "cell_type": "code",
      "execution_count": null,
      "metadata": {
        "colab": {
          "base_uri": "https://localhost:8080/"
        },
        "id": "Mc2-JcciViJW",
        "outputId": "67c38278-7dfc-45c3-ae82-4a09362d29ed"
      },
      "outputs": [
        {
          "output_type": "execute_result",
          "data": {
            "text/plain": [
              "{'test_loss': 0.3709986170878013,\n",
              " 'test_acc': 0.8791666666666667,\n",
              " 'number_of_parameters': 7710857,\n",
              " 'model_size (MB)': 29.86113929748535,\n",
              " 'time_for_pred_on_cpu': 0.0733}"
            ]
          },
          "metadata": {},
          "execution_count": 33
        }
      ],
      "source": [
        "# Add average time per pred on CPU to the effnetb2_stats\n",
        "effnetb2_stats[\"time_for_pred_on_cpu\"] = effnetb2_average_time_per_pred\n",
        "effnetb2_stats"
      ]
    },
    {
      "cell_type": "markdown",
      "metadata": {
        "id": "uJ6iYz34T500"
      },
      "source": [
        "### 5.3 Making and timing predictions with ViT"
      ]
    },
    {
      "cell_type": "code",
      "execution_count": null,
      "metadata": {
        "colab": {
          "base_uri": "https://localhost:8080/",
          "height": 49,
          "referenced_widgets": [
            "c6c1544597d44c24a6db35281c3c2559",
            "743d0ec9ca1145fea00117fc8c1ccbe0",
            "59992db867a94d759266517945320f5d",
            "bb58b2c81959408cb56f4af313cac131",
            "e22a89342b054f88a864b98da10acb37",
            "c6bd64b3f4d44a44a6f55fe94aeed87b",
            "5e0a37337d8b40be9c47de42dff7be86",
            "e82c6a7349964ee395d33c852ac7363c",
            "6eed0c4c53174398ad1e4c788eb44905",
            "11d59fefd31d4b1ba4038833e92d88e4",
            "4e865fa1279b4bcbb381176d1985e047"
          ]
        },
        "id": "OU_ilQiWPbyc",
        "outputId": "b305bbe0-30bf-499f-b5a7-7c60c3920ef4"
      },
      "outputs": [
        {
          "output_type": "display_data",
          "data": {
            "text/plain": [
              "  0%|          | 0/2363 [00:00<?, ?it/s]"
            ],
            "application/vnd.jupyter.widget-view+json": {
              "version_major": 2,
              "version_minor": 0,
              "model_id": "c6c1544597d44c24a6db35281c3c2559"
            }
          },
          "metadata": {}
        }
      ],
      "source": [
        "# Make list of prediction dictionaries with ViT feature extractor\n",
        "vit_val_pred_dicts = pred_and_store(paths=val_data_path,\n",
        "                                    model=vit,\n",
        "                                    transform=vit_transforms,\n",
        "                                    class_names=class_names,\n",
        "                                    device=\"cpu\")"
      ]
    },
    {
      "cell_type": "code",
      "execution_count": null,
      "metadata": {
        "colab": {
          "base_uri": "https://localhost:8080/",
          "height": 206
        },
        "id": "zsYkWiRiUdE_",
        "outputId": "554e51ae-b275-4e0d-afcf-841645147bb5"
      },
      "outputs": [
        {
          "output_type": "execute_result",
          "data": {
            "text/plain": [
              "                                          image_path class_name  pred_prob  \\\n",
              "0  data/augmented_rubbish_dataset/val/metal/image...      metal     0.9996   \n",
              "1   data/augmented_rubbish_dataset/val/metal/143.jpg      metal     0.9819   \n",
              "2  data/augmented_rubbish_dataset/val/metal/image...      metal     0.9992   \n",
              "3  data/augmented_rubbish_dataset/val/metal/image...      metal     0.9056   \n",
              "4  data/augmented_rubbish_dataset/val/metal/image...      metal     0.9983   \n",
              "\n",
              "  pred_class  time_for_pred  Correct  \n",
              "0      metal         0.2828     True  \n",
              "1      metal         0.1253     True  \n",
              "2      metal         0.1334     True  \n",
              "3      metal         0.1408     True  \n",
              "4      metal         0.1220     True  "
            ],
            "text/html": [
              "\n",
              "  <div id=\"df-a9b2690f-61f4-4232-a805-91fea22e315c\" class=\"colab-df-container\">\n",
              "    <div>\n",
              "<style scoped>\n",
              "    .dataframe tbody tr th:only-of-type {\n",
              "        vertical-align: middle;\n",
              "    }\n",
              "\n",
              "    .dataframe tbody tr th {\n",
              "        vertical-align: top;\n",
              "    }\n",
              "\n",
              "    .dataframe thead th {\n",
              "        text-align: right;\n",
              "    }\n",
              "</style>\n",
              "<table border=\"1\" class=\"dataframe\">\n",
              "  <thead>\n",
              "    <tr style=\"text-align: right;\">\n",
              "      <th></th>\n",
              "      <th>image_path</th>\n",
              "      <th>class_name</th>\n",
              "      <th>pred_prob</th>\n",
              "      <th>pred_class</th>\n",
              "      <th>time_for_pred</th>\n",
              "      <th>Correct</th>\n",
              "    </tr>\n",
              "  </thead>\n",
              "  <tbody>\n",
              "    <tr>\n",
              "      <th>0</th>\n",
              "      <td>data/augmented_rubbish_dataset/val/metal/image...</td>\n",
              "      <td>metal</td>\n",
              "      <td>0.9996</td>\n",
              "      <td>metal</td>\n",
              "      <td>0.2828</td>\n",
              "      <td>True</td>\n",
              "    </tr>\n",
              "    <tr>\n",
              "      <th>1</th>\n",
              "      <td>data/augmented_rubbish_dataset/val/metal/143.jpg</td>\n",
              "      <td>metal</td>\n",
              "      <td>0.9819</td>\n",
              "      <td>metal</td>\n",
              "      <td>0.1253</td>\n",
              "      <td>True</td>\n",
              "    </tr>\n",
              "    <tr>\n",
              "      <th>2</th>\n",
              "      <td>data/augmented_rubbish_dataset/val/metal/image...</td>\n",
              "      <td>metal</td>\n",
              "      <td>0.9992</td>\n",
              "      <td>metal</td>\n",
              "      <td>0.1334</td>\n",
              "      <td>True</td>\n",
              "    </tr>\n",
              "    <tr>\n",
              "      <th>3</th>\n",
              "      <td>data/augmented_rubbish_dataset/val/metal/image...</td>\n",
              "      <td>metal</td>\n",
              "      <td>0.9056</td>\n",
              "      <td>metal</td>\n",
              "      <td>0.1408</td>\n",
              "      <td>True</td>\n",
              "    </tr>\n",
              "    <tr>\n",
              "      <th>4</th>\n",
              "      <td>data/augmented_rubbish_dataset/val/metal/image...</td>\n",
              "      <td>metal</td>\n",
              "      <td>0.9983</td>\n",
              "      <td>metal</td>\n",
              "      <td>0.1220</td>\n",
              "      <td>True</td>\n",
              "    </tr>\n",
              "  </tbody>\n",
              "</table>\n",
              "</div>\n",
              "    <div class=\"colab-df-buttons\">\n",
              "\n",
              "  <div class=\"colab-df-container\">\n",
              "    <button class=\"colab-df-convert\" onclick=\"convertToInteractive('df-a9b2690f-61f4-4232-a805-91fea22e315c')\"\n",
              "            title=\"Convert this dataframe to an interactive table.\"\n",
              "            style=\"display:none;\">\n",
              "\n",
              "  <svg xmlns=\"http://www.w3.org/2000/svg\" height=\"24px\" viewBox=\"0 -960 960 960\">\n",
              "    <path d=\"M120-120v-720h720v720H120Zm60-500h600v-160H180v160Zm220 220h160v-160H400v160Zm0 220h160v-160H400v160ZM180-400h160v-160H180v160Zm440 0h160v-160H620v160ZM180-180h160v-160H180v160Zm440 0h160v-160H620v160Z\"/>\n",
              "  </svg>\n",
              "    </button>\n",
              "\n",
              "  <style>\n",
              "    .colab-df-container {\n",
              "      display:flex;\n",
              "      gap: 12px;\n",
              "    }\n",
              "\n",
              "    .colab-df-convert {\n",
              "      background-color: #E8F0FE;\n",
              "      border: none;\n",
              "      border-radius: 50%;\n",
              "      cursor: pointer;\n",
              "      display: none;\n",
              "      fill: #1967D2;\n",
              "      height: 32px;\n",
              "      padding: 0 0 0 0;\n",
              "      width: 32px;\n",
              "    }\n",
              "\n",
              "    .colab-df-convert:hover {\n",
              "      background-color: #E2EBFA;\n",
              "      box-shadow: 0px 1px 2px rgba(60, 64, 67, 0.3), 0px 1px 3px 1px rgba(60, 64, 67, 0.15);\n",
              "      fill: #174EA6;\n",
              "    }\n",
              "\n",
              "    .colab-df-buttons div {\n",
              "      margin-bottom: 4px;\n",
              "    }\n",
              "\n",
              "    [theme=dark] .colab-df-convert {\n",
              "      background-color: #3B4455;\n",
              "      fill: #D2E3FC;\n",
              "    }\n",
              "\n",
              "    [theme=dark] .colab-df-convert:hover {\n",
              "      background-color: #434B5C;\n",
              "      box-shadow: 0px 1px 3px 1px rgba(0, 0, 0, 0.15);\n",
              "      filter: drop-shadow(0px 1px 2px rgba(0, 0, 0, 0.3));\n",
              "      fill: #FFFFFF;\n",
              "    }\n",
              "  </style>\n",
              "\n",
              "    <script>\n",
              "      const buttonEl =\n",
              "        document.querySelector('#df-a9b2690f-61f4-4232-a805-91fea22e315c button.colab-df-convert');\n",
              "      buttonEl.style.display =\n",
              "        google.colab.kernel.accessAllowed ? 'block' : 'none';\n",
              "\n",
              "      async function convertToInteractive(key) {\n",
              "        const element = document.querySelector('#df-a9b2690f-61f4-4232-a805-91fea22e315c');\n",
              "        const dataTable =\n",
              "          await google.colab.kernel.invokeFunction('convertToInteractive',\n",
              "                                                    [key], {});\n",
              "        if (!dataTable) return;\n",
              "\n",
              "        const docLinkHtml = 'Like what you see? Visit the ' +\n",
              "          '<a target=\"_blank\" href=https://colab.research.google.com/notebooks/data_table.ipynb>data table notebook</a>'\n",
              "          + ' to learn more about interactive tables.';\n",
              "        element.innerHTML = '';\n",
              "        dataTable['output_type'] = 'display_data';\n",
              "        await google.colab.output.renderOutput(dataTable, element);\n",
              "        const docLink = document.createElement('div');\n",
              "        docLink.innerHTML = docLinkHtml;\n",
              "        element.appendChild(docLink);\n",
              "      }\n",
              "    </script>\n",
              "  </div>\n",
              "\n",
              "\n",
              "<div id=\"df-3842743a-6266-4963-9c6a-c6a31ba820d7\">\n",
              "  <button class=\"colab-df-quickchart\" onclick=\"quickchart('df-3842743a-6266-4963-9c6a-c6a31ba820d7')\"\n",
              "            title=\"Suggest charts\"\n",
              "            style=\"display:none;\">\n",
              "\n",
              "<svg xmlns=\"http://www.w3.org/2000/svg\" height=\"24px\"viewBox=\"0 0 24 24\"\n",
              "     width=\"24px\">\n",
              "    <g>\n",
              "        <path d=\"M19 3H5c-1.1 0-2 .9-2 2v14c0 1.1.9 2 2 2h14c1.1 0 2-.9 2-2V5c0-1.1-.9-2-2-2zM9 17H7v-7h2v7zm4 0h-2V7h2v10zm4 0h-2v-4h2v4z\"/>\n",
              "    </g>\n",
              "</svg>\n",
              "  </button>\n",
              "\n",
              "<style>\n",
              "  .colab-df-quickchart {\n",
              "      --bg-color: #E8F0FE;\n",
              "      --fill-color: #1967D2;\n",
              "      --hover-bg-color: #E2EBFA;\n",
              "      --hover-fill-color: #174EA6;\n",
              "      --disabled-fill-color: #AAA;\n",
              "      --disabled-bg-color: #DDD;\n",
              "  }\n",
              "\n",
              "  [theme=dark] .colab-df-quickchart {\n",
              "      --bg-color: #3B4455;\n",
              "      --fill-color: #D2E3FC;\n",
              "      --hover-bg-color: #434B5C;\n",
              "      --hover-fill-color: #FFFFFF;\n",
              "      --disabled-bg-color: #3B4455;\n",
              "      --disabled-fill-color: #666;\n",
              "  }\n",
              "\n",
              "  .colab-df-quickchart {\n",
              "    background-color: var(--bg-color);\n",
              "    border: none;\n",
              "    border-radius: 50%;\n",
              "    cursor: pointer;\n",
              "    display: none;\n",
              "    fill: var(--fill-color);\n",
              "    height: 32px;\n",
              "    padding: 0;\n",
              "    width: 32px;\n",
              "  }\n",
              "\n",
              "  .colab-df-quickchart:hover {\n",
              "    background-color: var(--hover-bg-color);\n",
              "    box-shadow: 0 1px 2px rgba(60, 64, 67, 0.3), 0 1px 3px 1px rgba(60, 64, 67, 0.15);\n",
              "    fill: var(--button-hover-fill-color);\n",
              "  }\n",
              "\n",
              "  .colab-df-quickchart-complete:disabled,\n",
              "  .colab-df-quickchart-complete:disabled:hover {\n",
              "    background-color: var(--disabled-bg-color);\n",
              "    fill: var(--disabled-fill-color);\n",
              "    box-shadow: none;\n",
              "  }\n",
              "\n",
              "  .colab-df-spinner {\n",
              "    border: 2px solid var(--fill-color);\n",
              "    border-color: transparent;\n",
              "    border-bottom-color: var(--fill-color);\n",
              "    animation:\n",
              "      spin 1s steps(1) infinite;\n",
              "  }\n",
              "\n",
              "  @keyframes spin {\n",
              "    0% {\n",
              "      border-color: transparent;\n",
              "      border-bottom-color: var(--fill-color);\n",
              "      border-left-color: var(--fill-color);\n",
              "    }\n",
              "    20% {\n",
              "      border-color: transparent;\n",
              "      border-left-color: var(--fill-color);\n",
              "      border-top-color: var(--fill-color);\n",
              "    }\n",
              "    30% {\n",
              "      border-color: transparent;\n",
              "      border-left-color: var(--fill-color);\n",
              "      border-top-color: var(--fill-color);\n",
              "      border-right-color: var(--fill-color);\n",
              "    }\n",
              "    40% {\n",
              "      border-color: transparent;\n",
              "      border-right-color: var(--fill-color);\n",
              "      border-top-color: var(--fill-color);\n",
              "    }\n",
              "    60% {\n",
              "      border-color: transparent;\n",
              "      border-right-color: var(--fill-color);\n",
              "    }\n",
              "    80% {\n",
              "      border-color: transparent;\n",
              "      border-right-color: var(--fill-color);\n",
              "      border-bottom-color: var(--fill-color);\n",
              "    }\n",
              "    90% {\n",
              "      border-color: transparent;\n",
              "      border-bottom-color: var(--fill-color);\n",
              "    }\n",
              "  }\n",
              "</style>\n",
              "\n",
              "  <script>\n",
              "    async function quickchart(key) {\n",
              "      const quickchartButtonEl =\n",
              "        document.querySelector('#' + key + ' button');\n",
              "      quickchartButtonEl.disabled = true;  // To prevent multiple clicks.\n",
              "      quickchartButtonEl.classList.add('colab-df-spinner');\n",
              "      try {\n",
              "        const charts = await google.colab.kernel.invokeFunction(\n",
              "            'suggestCharts', [key], {});\n",
              "      } catch (error) {\n",
              "        console.error('Error during call to suggestCharts:', error);\n",
              "      }\n",
              "      quickchartButtonEl.classList.remove('colab-df-spinner');\n",
              "      quickchartButtonEl.classList.add('colab-df-quickchart-complete');\n",
              "    }\n",
              "    (() => {\n",
              "      let quickchartButtonEl =\n",
              "        document.querySelector('#df-3842743a-6266-4963-9c6a-c6a31ba820d7 button');\n",
              "      quickchartButtonEl.style.display =\n",
              "        google.colab.kernel.accessAllowed ? 'block' : 'none';\n",
              "    })();\n",
              "  </script>\n",
              "</div>\n",
              "\n",
              "    </div>\n",
              "  </div>\n"
            ],
            "application/vnd.google.colaboratory.intrinsic+json": {
              "type": "dataframe",
              "variable_name": "vit_val_pred_df",
              "summary": "{\n  \"name\": \"vit_val_pred_df\",\n  \"rows\": 2363,\n  \"fields\": [\n    {\n      \"column\": \"image_path\",\n      \"properties\": {\n        \"dtype\": \"string\",\n        \"num_unique_values\": 2363,\n        \"samples\": [\n          \"data/augmented_rubbish_dataset/val/glass/image_11073.jpg\",\n          \"data/augmented_rubbish_dataset/val/organic/image_3490.jpg\",\n          \"data/augmented_rubbish_dataset/val/organic/image_3067.jpg\"\n        ],\n        \"semantic_type\": \"\",\n        \"description\": \"\"\n      }\n    },\n    {\n      \"column\": \"class_name\",\n      \"properties\": {\n        \"dtype\": \"category\",\n        \"num_unique_values\": 7,\n        \"samples\": [\n          \"metal\",\n          \"cardboard\",\n          \"organic\"\n        ],\n        \"semantic_type\": \"\",\n        \"description\": \"\"\n      }\n    },\n    {\n      \"column\": \"pred_prob\",\n      \"properties\": {\n        \"dtype\": \"number\",\n        \"std\": 0.1316662790290191,\n        \"min\": 0.2888,\n        \"max\": 1.0,\n        \"num_unique_values\": 915,\n        \"samples\": [\n          0.9798,\n          0.9653,\n          0.5737\n        ],\n        \"semantic_type\": \"\",\n        \"description\": \"\"\n      }\n    },\n    {\n      \"column\": \"pred_class\",\n      \"properties\": {\n        \"dtype\": \"category\",\n        \"num_unique_values\": 7,\n        \"samples\": [\n          \"metal\",\n          \"glass\",\n          \"cardboard\"\n        ],\n        \"semantic_type\": \"\",\n        \"description\": \"\"\n      }\n    },\n    {\n      \"column\": \"time_for_pred\",\n      \"properties\": {\n        \"dtype\": \"number\",\n        \"std\": 0.038259358453290156,\n        \"min\": 0.109,\n        \"max\": 0.4951,\n        \"num_unique_values\": 683,\n        \"samples\": [\n          0.2101,\n          0.1269,\n          0.2969\n        ],\n        \"semantic_type\": \"\",\n        \"description\": \"\"\n      }\n    },\n    {\n      \"column\": \"Correct\",\n      \"properties\": {\n        \"dtype\": \"boolean\",\n        \"num_unique_values\": 2,\n        \"samples\": [\n          false,\n          true\n        ],\n        \"semantic_type\": \"\",\n        \"description\": \"\"\n      }\n    }\n  ]\n}"
            }
          },
          "metadata": {},
          "execution_count": 35
        }
      ],
      "source": [
        "# Turn the val_pred_dicts into a DataFrame\n",
        "import pandas as pd\n",
        "vit_val_pred_df = pd.DataFrame(vit_val_pred_dicts)\n",
        "vit_val_pred_df.head()"
      ]
    },
    {
      "cell_type": "code",
      "execution_count": null,
      "metadata": {
        "colab": {
          "base_uri": "https://localhost:8080/"
        },
        "id": "X_EfW1q2U9gN",
        "outputId": "3579a4ed-8cb9-4643-ce24-3c420aa2be14"
      },
      "outputs": [
        {
          "output_type": "execute_result",
          "data": {
            "text/plain": [
              "True     2189\n",
              "False     174\n",
              "Name: Correct, dtype: int64"
            ]
          },
          "metadata": {},
          "execution_count": 36
        }
      ],
      "source": [
        "# See how many correct\n",
        "vit_val_pred_df.Correct.value_counts()"
      ]
    },
    {
      "cell_type": "code",
      "execution_count": null,
      "metadata": {
        "colab": {
          "base_uri": "https://localhost:8080/"
        },
        "id": "p60eE_qJVKRQ",
        "outputId": "21a89146-fa3b-44a2-f15c-cb28ead8db0b"
      },
      "outputs": [
        {
          "output_type": "stream",
          "name": "stdout",
          "text": [
            "ViT average time per prediction: 0.1388\n"
          ]
        }
      ],
      "source": [
        "# Calculate average time per prediction for ViT model\n",
        "vit_average_time_per_pred = round(vit_val_pred_df.time_for_pred.mean(), 4)\n",
        "print(f\"ViT average time per prediction: {vit_average_time_per_pred}\")"
      ]
    },
    {
      "cell_type": "code",
      "execution_count": null,
      "metadata": {
        "colab": {
          "base_uri": "https://localhost:8080/"
        },
        "id": "6y0lMi6qV9FQ",
        "outputId": "efaadb30-d215-477c-d751-424c9a996574"
      },
      "outputs": [
        {
          "output_type": "execute_result",
          "data": {
            "text/plain": [
              "{'test_loss': 0.28981455804624906,\n",
              " 'test_acc': 0.9079166666666667,\n",
              " 'number_of_parameters': 85804039,\n",
              " 'model_size (MB)': 327.37833976745605,\n",
              " 'time_for_pred_on_cpu': 0.1388}"
            ]
          },
          "metadata": {},
          "execution_count": 38
        }
      ],
      "source": [
        "# Add average time per prediction to ViT stats\n",
        "vit_stats[\"time_for_pred_on_cpu\"] = vit_average_time_per_pred\n",
        "vit_stats"
      ]
    },
    {
      "cell_type": "markdown",
      "metadata": {
        "id": "plmmrJSPczkr"
      },
      "source": [
        "## 6. Comparing model results, prediction times and size"
      ]
    },
    {
      "cell_type": "code",
      "execution_count": null,
      "metadata": {
        "colab": {
          "base_uri": "https://localhost:8080/",
          "height": 125
        },
        "id": "1we05E_Bc5JS",
        "outputId": "186f820e-04e2-4314-9a6d-e9f2d6514ce8"
      },
      "outputs": [
        {
          "output_type": "execute_result",
          "data": {
            "text/plain": [
              "   test_loss  test_acc  number_of_parameters  model_size (MB)  \\\n",
              "0   0.370999     87.92               7710857        29.861139   \n",
              "1   0.289815     90.79              85804039       327.378340   \n",
              "\n",
              "   time_for_pred_on_cpu     model  \n",
              "0                0.0733  EffNetB2  \n",
              "1                0.1388       ViT  "
            ],
            "text/html": [
              "\n",
              "  <div id=\"df-4f212930-24c9-455d-be6f-fc9b200983bf\" class=\"colab-df-container\">\n",
              "    <div>\n",
              "<style scoped>\n",
              "    .dataframe tbody tr th:only-of-type {\n",
              "        vertical-align: middle;\n",
              "    }\n",
              "\n",
              "    .dataframe tbody tr th {\n",
              "        vertical-align: top;\n",
              "    }\n",
              "\n",
              "    .dataframe thead th {\n",
              "        text-align: right;\n",
              "    }\n",
              "</style>\n",
              "<table border=\"1\" class=\"dataframe\">\n",
              "  <thead>\n",
              "    <tr style=\"text-align: right;\">\n",
              "      <th></th>\n",
              "      <th>test_loss</th>\n",
              "      <th>test_acc</th>\n",
              "      <th>number_of_parameters</th>\n",
              "      <th>model_size (MB)</th>\n",
              "      <th>time_for_pred_on_cpu</th>\n",
              "      <th>model</th>\n",
              "    </tr>\n",
              "  </thead>\n",
              "  <tbody>\n",
              "    <tr>\n",
              "      <th>0</th>\n",
              "      <td>0.370999</td>\n",
              "      <td>87.92</td>\n",
              "      <td>7710857</td>\n",
              "      <td>29.861139</td>\n",
              "      <td>0.0733</td>\n",
              "      <td>EffNetB2</td>\n",
              "    </tr>\n",
              "    <tr>\n",
              "      <th>1</th>\n",
              "      <td>0.289815</td>\n",
              "      <td>90.79</td>\n",
              "      <td>85804039</td>\n",
              "      <td>327.378340</td>\n",
              "      <td>0.1388</td>\n",
              "      <td>ViT</td>\n",
              "    </tr>\n",
              "  </tbody>\n",
              "</table>\n",
              "</div>\n",
              "    <div class=\"colab-df-buttons\">\n",
              "\n",
              "  <div class=\"colab-df-container\">\n",
              "    <button class=\"colab-df-convert\" onclick=\"convertToInteractive('df-4f212930-24c9-455d-be6f-fc9b200983bf')\"\n",
              "            title=\"Convert this dataframe to an interactive table.\"\n",
              "            style=\"display:none;\">\n",
              "\n",
              "  <svg xmlns=\"http://www.w3.org/2000/svg\" height=\"24px\" viewBox=\"0 -960 960 960\">\n",
              "    <path d=\"M120-120v-720h720v720H120Zm60-500h600v-160H180v160Zm220 220h160v-160H400v160Zm0 220h160v-160H400v160ZM180-400h160v-160H180v160Zm440 0h160v-160H620v160ZM180-180h160v-160H180v160Zm440 0h160v-160H620v160Z\"/>\n",
              "  </svg>\n",
              "    </button>\n",
              "\n",
              "  <style>\n",
              "    .colab-df-container {\n",
              "      display:flex;\n",
              "      gap: 12px;\n",
              "    }\n",
              "\n",
              "    .colab-df-convert {\n",
              "      background-color: #E8F0FE;\n",
              "      border: none;\n",
              "      border-radius: 50%;\n",
              "      cursor: pointer;\n",
              "      display: none;\n",
              "      fill: #1967D2;\n",
              "      height: 32px;\n",
              "      padding: 0 0 0 0;\n",
              "      width: 32px;\n",
              "    }\n",
              "\n",
              "    .colab-df-convert:hover {\n",
              "      background-color: #E2EBFA;\n",
              "      box-shadow: 0px 1px 2px rgba(60, 64, 67, 0.3), 0px 1px 3px 1px rgba(60, 64, 67, 0.15);\n",
              "      fill: #174EA6;\n",
              "    }\n",
              "\n",
              "    .colab-df-buttons div {\n",
              "      margin-bottom: 4px;\n",
              "    }\n",
              "\n",
              "    [theme=dark] .colab-df-convert {\n",
              "      background-color: #3B4455;\n",
              "      fill: #D2E3FC;\n",
              "    }\n",
              "\n",
              "    [theme=dark] .colab-df-convert:hover {\n",
              "      background-color: #434B5C;\n",
              "      box-shadow: 0px 1px 3px 1px rgba(0, 0, 0, 0.15);\n",
              "      filter: drop-shadow(0px 1px 2px rgba(0, 0, 0, 0.3));\n",
              "      fill: #FFFFFF;\n",
              "    }\n",
              "  </style>\n",
              "\n",
              "    <script>\n",
              "      const buttonEl =\n",
              "        document.querySelector('#df-4f212930-24c9-455d-be6f-fc9b200983bf button.colab-df-convert');\n",
              "      buttonEl.style.display =\n",
              "        google.colab.kernel.accessAllowed ? 'block' : 'none';\n",
              "\n",
              "      async function convertToInteractive(key) {\n",
              "        const element = document.querySelector('#df-4f212930-24c9-455d-be6f-fc9b200983bf');\n",
              "        const dataTable =\n",
              "          await google.colab.kernel.invokeFunction('convertToInteractive',\n",
              "                                                    [key], {});\n",
              "        if (!dataTable) return;\n",
              "\n",
              "        const docLinkHtml = 'Like what you see? Visit the ' +\n",
              "          '<a target=\"_blank\" href=https://colab.research.google.com/notebooks/data_table.ipynb>data table notebook</a>'\n",
              "          + ' to learn more about interactive tables.';\n",
              "        element.innerHTML = '';\n",
              "        dataTable['output_type'] = 'display_data';\n",
              "        await google.colab.output.renderOutput(dataTable, element);\n",
              "        const docLink = document.createElement('div');\n",
              "        docLink.innerHTML = docLinkHtml;\n",
              "        element.appendChild(docLink);\n",
              "      }\n",
              "    </script>\n",
              "  </div>\n",
              "\n",
              "\n",
              "<div id=\"df-16fc623a-119f-49f7-8e5f-3c99720d4362\">\n",
              "  <button class=\"colab-df-quickchart\" onclick=\"quickchart('df-16fc623a-119f-49f7-8e5f-3c99720d4362')\"\n",
              "            title=\"Suggest charts\"\n",
              "            style=\"display:none;\">\n",
              "\n",
              "<svg xmlns=\"http://www.w3.org/2000/svg\" height=\"24px\"viewBox=\"0 0 24 24\"\n",
              "     width=\"24px\">\n",
              "    <g>\n",
              "        <path d=\"M19 3H5c-1.1 0-2 .9-2 2v14c0 1.1.9 2 2 2h14c1.1 0 2-.9 2-2V5c0-1.1-.9-2-2-2zM9 17H7v-7h2v7zm4 0h-2V7h2v10zm4 0h-2v-4h2v4z\"/>\n",
              "    </g>\n",
              "</svg>\n",
              "  </button>\n",
              "\n",
              "<style>\n",
              "  .colab-df-quickchart {\n",
              "      --bg-color: #E8F0FE;\n",
              "      --fill-color: #1967D2;\n",
              "      --hover-bg-color: #E2EBFA;\n",
              "      --hover-fill-color: #174EA6;\n",
              "      --disabled-fill-color: #AAA;\n",
              "      --disabled-bg-color: #DDD;\n",
              "  }\n",
              "\n",
              "  [theme=dark] .colab-df-quickchart {\n",
              "      --bg-color: #3B4455;\n",
              "      --fill-color: #D2E3FC;\n",
              "      --hover-bg-color: #434B5C;\n",
              "      --hover-fill-color: #FFFFFF;\n",
              "      --disabled-bg-color: #3B4455;\n",
              "      --disabled-fill-color: #666;\n",
              "  }\n",
              "\n",
              "  .colab-df-quickchart {\n",
              "    background-color: var(--bg-color);\n",
              "    border: none;\n",
              "    border-radius: 50%;\n",
              "    cursor: pointer;\n",
              "    display: none;\n",
              "    fill: var(--fill-color);\n",
              "    height: 32px;\n",
              "    padding: 0;\n",
              "    width: 32px;\n",
              "  }\n",
              "\n",
              "  .colab-df-quickchart:hover {\n",
              "    background-color: var(--hover-bg-color);\n",
              "    box-shadow: 0 1px 2px rgba(60, 64, 67, 0.3), 0 1px 3px 1px rgba(60, 64, 67, 0.15);\n",
              "    fill: var(--button-hover-fill-color);\n",
              "  }\n",
              "\n",
              "  .colab-df-quickchart-complete:disabled,\n",
              "  .colab-df-quickchart-complete:disabled:hover {\n",
              "    background-color: var(--disabled-bg-color);\n",
              "    fill: var(--disabled-fill-color);\n",
              "    box-shadow: none;\n",
              "  }\n",
              "\n",
              "  .colab-df-spinner {\n",
              "    border: 2px solid var(--fill-color);\n",
              "    border-color: transparent;\n",
              "    border-bottom-color: var(--fill-color);\n",
              "    animation:\n",
              "      spin 1s steps(1) infinite;\n",
              "  }\n",
              "\n",
              "  @keyframes spin {\n",
              "    0% {\n",
              "      border-color: transparent;\n",
              "      border-bottom-color: var(--fill-color);\n",
              "      border-left-color: var(--fill-color);\n",
              "    }\n",
              "    20% {\n",
              "      border-color: transparent;\n",
              "      border-left-color: var(--fill-color);\n",
              "      border-top-color: var(--fill-color);\n",
              "    }\n",
              "    30% {\n",
              "      border-color: transparent;\n",
              "      border-left-color: var(--fill-color);\n",
              "      border-top-color: var(--fill-color);\n",
              "      border-right-color: var(--fill-color);\n",
              "    }\n",
              "    40% {\n",
              "      border-color: transparent;\n",
              "      border-right-color: var(--fill-color);\n",
              "      border-top-color: var(--fill-color);\n",
              "    }\n",
              "    60% {\n",
              "      border-color: transparent;\n",
              "      border-right-color: var(--fill-color);\n",
              "    }\n",
              "    80% {\n",
              "      border-color: transparent;\n",
              "      border-right-color: var(--fill-color);\n",
              "      border-bottom-color: var(--fill-color);\n",
              "    }\n",
              "    90% {\n",
              "      border-color: transparent;\n",
              "      border-bottom-color: var(--fill-color);\n",
              "    }\n",
              "  }\n",
              "</style>\n",
              "\n",
              "  <script>\n",
              "    async function quickchart(key) {\n",
              "      const quickchartButtonEl =\n",
              "        document.querySelector('#' + key + ' button');\n",
              "      quickchartButtonEl.disabled = true;  // To prevent multiple clicks.\n",
              "      quickchartButtonEl.classList.add('colab-df-spinner');\n",
              "      try {\n",
              "        const charts = await google.colab.kernel.invokeFunction(\n",
              "            'suggestCharts', [key], {});\n",
              "      } catch (error) {\n",
              "        console.error('Error during call to suggestCharts:', error);\n",
              "      }\n",
              "      quickchartButtonEl.classList.remove('colab-df-spinner');\n",
              "      quickchartButtonEl.classList.add('colab-df-quickchart-complete');\n",
              "    }\n",
              "    (() => {\n",
              "      let quickchartButtonEl =\n",
              "        document.querySelector('#df-16fc623a-119f-49f7-8e5f-3c99720d4362 button');\n",
              "      quickchartButtonEl.style.display =\n",
              "        google.colab.kernel.accessAllowed ? 'block' : 'none';\n",
              "    })();\n",
              "  </script>\n",
              "</div>\n",
              "\n",
              "  <div id=\"id_8c4a5f4b-85d4-47b5-b089-e97961499a5d\">\n",
              "    <style>\n",
              "      .colab-df-generate {\n",
              "        background-color: #E8F0FE;\n",
              "        border: none;\n",
              "        border-radius: 50%;\n",
              "        cursor: pointer;\n",
              "        display: none;\n",
              "        fill: #1967D2;\n",
              "        height: 32px;\n",
              "        padding: 0 0 0 0;\n",
              "        width: 32px;\n",
              "      }\n",
              "\n",
              "      .colab-df-generate:hover {\n",
              "        background-color: #E2EBFA;\n",
              "        box-shadow: 0px 1px 2px rgba(60, 64, 67, 0.3), 0px 1px 3px 1px rgba(60, 64, 67, 0.15);\n",
              "        fill: #174EA6;\n",
              "      }\n",
              "\n",
              "      [theme=dark] .colab-df-generate {\n",
              "        background-color: #3B4455;\n",
              "        fill: #D2E3FC;\n",
              "      }\n",
              "\n",
              "      [theme=dark] .colab-df-generate:hover {\n",
              "        background-color: #434B5C;\n",
              "        box-shadow: 0px 1px 3px 1px rgba(0, 0, 0, 0.15);\n",
              "        filter: drop-shadow(0px 1px 2px rgba(0, 0, 0, 0.3));\n",
              "        fill: #FFFFFF;\n",
              "      }\n",
              "    </style>\n",
              "    <button class=\"colab-df-generate\" onclick=\"generateWithVariable('df')\"\n",
              "            title=\"Generate code using this dataframe.\"\n",
              "            style=\"display:none;\">\n",
              "\n",
              "  <svg xmlns=\"http://www.w3.org/2000/svg\" height=\"24px\"viewBox=\"0 0 24 24\"\n",
              "       width=\"24px\">\n",
              "    <path d=\"M7,19H8.4L18.45,9,17,7.55,7,17.6ZM5,21V16.75L18.45,3.32a2,2,0,0,1,2.83,0l1.4,1.43a1.91,1.91,0,0,1,.58,1.4,1.91,1.91,0,0,1-.58,1.4L9.25,21ZM18.45,9,17,7.55Zm-12,3A5.31,5.31,0,0,0,4.9,8.1,5.31,5.31,0,0,0,1,6.5,5.31,5.31,0,0,0,4.9,4.9,5.31,5.31,0,0,0,6.5,1,5.31,5.31,0,0,0,8.1,4.9,5.31,5.31,0,0,0,12,6.5,5.46,5.46,0,0,0,6.5,12Z\"/>\n",
              "  </svg>\n",
              "    </button>\n",
              "    <script>\n",
              "      (() => {\n",
              "      const buttonEl =\n",
              "        document.querySelector('#id_8c4a5f4b-85d4-47b5-b089-e97961499a5d button.colab-df-generate');\n",
              "      buttonEl.style.display =\n",
              "        google.colab.kernel.accessAllowed ? 'block' : 'none';\n",
              "\n",
              "      buttonEl.onclick = () => {\n",
              "        google.colab.notebook.generateWithVariable('df');\n",
              "      }\n",
              "      })();\n",
              "    </script>\n",
              "  </div>\n",
              "\n",
              "    </div>\n",
              "  </div>\n"
            ],
            "application/vnd.google.colaboratory.intrinsic+json": {
              "type": "dataframe",
              "variable_name": "df",
              "summary": "{\n  \"name\": \"df\",\n  \"rows\": 2,\n  \"fields\": [\n    {\n      \"column\": \"test_loss\",\n      \"properties\": {\n        \"dtype\": \"number\",\n        \"std\": 0.057405798672530636,\n        \"min\": 0.28981455804624906,\n        \"max\": 0.3709986170878013,\n        \"num_unique_values\": 2,\n        \"samples\": [\n          0.28981455804624906,\n          0.3709986170878013\n        ],\n        \"semantic_type\": \"\",\n        \"description\": \"\"\n      }\n    },\n    {\n      \"column\": \"test_acc\",\n      \"properties\": {\n        \"dtype\": \"number\",\n        \"std\": 2.0293964620053946,\n        \"min\": 87.92,\n        \"max\": 90.79,\n        \"num_unique_values\": 2,\n        \"samples\": [\n          90.79,\n          87.92\n        ],\n        \"semantic_type\": \"\",\n        \"description\": \"\"\n      }\n    },\n    {\n      \"column\": \"number_of_parameters\",\n      \"properties\": {\n        \"dtype\": \"number\",\n        \"std\": 55220218,\n        \"min\": 7710857,\n        \"max\": 85804039,\n        \"num_unique_values\": 2,\n        \"samples\": [\n          85804039,\n          7710857\n        ],\n        \"semantic_type\": \"\",\n        \"description\": \"\"\n      }\n    },\n    {\n      \"column\": \"model_size (MB)\",\n      \"properties\": {\n        \"dtype\": \"number\",\n        \"std\": 210.37642997195377,\n        \"min\": 29.86113929748535,\n        \"max\": 327.37833976745605,\n        \"num_unique_values\": 2,\n        \"samples\": [\n          327.37833976745605,\n          29.86113929748535\n        ],\n        \"semantic_type\": \"\",\n        \"description\": \"\"\n      }\n    },\n    {\n      \"column\": \"time_for_pred_on_cpu\",\n      \"properties\": {\n        \"dtype\": \"number\",\n        \"std\": 0.046315494167718865,\n        \"min\": 0.0733,\n        \"max\": 0.1388,\n        \"num_unique_values\": 2,\n        \"samples\": [\n          0.1388,\n          0.0733\n        ],\n        \"semantic_type\": \"\",\n        \"description\": \"\"\n      }\n    },\n    {\n      \"column\": \"model\",\n      \"properties\": {\n        \"dtype\": \"string\",\n        \"num_unique_values\": 2,\n        \"samples\": [\n          \"ViT\",\n          \"EffNetB2\"\n        ],\n        \"semantic_type\": \"\",\n        \"description\": \"\"\n      }\n    }\n  ]\n}"
            }
          },
          "metadata": {},
          "execution_count": 39
        }
      ],
      "source": [
        "# Turn stat dictionaries into DataFrame\n",
        "df = pd.DataFrame([effnetb2_stats, vit_stats])\n",
        "# Add column for model names\n",
        "df[\"model\"] = [\"EffNetB2\", \"ViT\"]\n",
        "# Convert accuracy to percentages\n",
        "df[\"test_acc\"] = round(df[\"test_acc\"] * 100, 2)\n",
        "df"
      ]
    },
    {
      "cell_type": "code",
      "execution_count": null,
      "metadata": {
        "colab": {
          "base_uri": "https://localhost:8080/",
          "height": 81
        },
        "id": "J-hZrJeIngj4",
        "outputId": "feb4ebaa-e83e-49ba-c1fa-5dbe97ba1014"
      },
      "outputs": [
        {
          "output_type": "execute_result",
          "data": {
            "text/plain": [
              "                        test_loss  test_acc  number_of_parameters  \\\n",
              "ViT to EffNetB2 ratios   0.781174  1.032643             11.127692   \n",
              "\n",
              "                        model_size (MB)  time_for_pred_on_cpu  \n",
              "ViT to EffNetB2 ratios        10.963357              1.893588  "
            ],
            "text/html": [
              "\n",
              "  <div id=\"df-6c3d3649-8ee9-4610-8d51-265c40471f7c\" class=\"colab-df-container\">\n",
              "    <div>\n",
              "<style scoped>\n",
              "    .dataframe tbody tr th:only-of-type {\n",
              "        vertical-align: middle;\n",
              "    }\n",
              "\n",
              "    .dataframe tbody tr th {\n",
              "        vertical-align: top;\n",
              "    }\n",
              "\n",
              "    .dataframe thead th {\n",
              "        text-align: right;\n",
              "    }\n",
              "</style>\n",
              "<table border=\"1\" class=\"dataframe\">\n",
              "  <thead>\n",
              "    <tr style=\"text-align: right;\">\n",
              "      <th></th>\n",
              "      <th>test_loss</th>\n",
              "      <th>test_acc</th>\n",
              "      <th>number_of_parameters</th>\n",
              "      <th>model_size (MB)</th>\n",
              "      <th>time_for_pred_on_cpu</th>\n",
              "    </tr>\n",
              "  </thead>\n",
              "  <tbody>\n",
              "    <tr>\n",
              "      <th>ViT to EffNetB2 ratios</th>\n",
              "      <td>0.781174</td>\n",
              "      <td>1.032643</td>\n",
              "      <td>11.127692</td>\n",
              "      <td>10.963357</td>\n",
              "      <td>1.893588</td>\n",
              "    </tr>\n",
              "  </tbody>\n",
              "</table>\n",
              "</div>\n",
              "    <div class=\"colab-df-buttons\">\n",
              "\n",
              "  <div class=\"colab-df-container\">\n",
              "    <button class=\"colab-df-convert\" onclick=\"convertToInteractive('df-6c3d3649-8ee9-4610-8d51-265c40471f7c')\"\n",
              "            title=\"Convert this dataframe to an interactive table.\"\n",
              "            style=\"display:none;\">\n",
              "\n",
              "  <svg xmlns=\"http://www.w3.org/2000/svg\" height=\"24px\" viewBox=\"0 -960 960 960\">\n",
              "    <path d=\"M120-120v-720h720v720H120Zm60-500h600v-160H180v160Zm220 220h160v-160H400v160Zm0 220h160v-160H400v160ZM180-400h160v-160H180v160Zm440 0h160v-160H620v160ZM180-180h160v-160H180v160Zm440 0h160v-160H620v160Z\"/>\n",
              "  </svg>\n",
              "    </button>\n",
              "\n",
              "  <style>\n",
              "    .colab-df-container {\n",
              "      display:flex;\n",
              "      gap: 12px;\n",
              "    }\n",
              "\n",
              "    .colab-df-convert {\n",
              "      background-color: #E8F0FE;\n",
              "      border: none;\n",
              "      border-radius: 50%;\n",
              "      cursor: pointer;\n",
              "      display: none;\n",
              "      fill: #1967D2;\n",
              "      height: 32px;\n",
              "      padding: 0 0 0 0;\n",
              "      width: 32px;\n",
              "    }\n",
              "\n",
              "    .colab-df-convert:hover {\n",
              "      background-color: #E2EBFA;\n",
              "      box-shadow: 0px 1px 2px rgba(60, 64, 67, 0.3), 0px 1px 3px 1px rgba(60, 64, 67, 0.15);\n",
              "      fill: #174EA6;\n",
              "    }\n",
              "\n",
              "    .colab-df-buttons div {\n",
              "      margin-bottom: 4px;\n",
              "    }\n",
              "\n",
              "    [theme=dark] .colab-df-convert {\n",
              "      background-color: #3B4455;\n",
              "      fill: #D2E3FC;\n",
              "    }\n",
              "\n",
              "    [theme=dark] .colab-df-convert:hover {\n",
              "      background-color: #434B5C;\n",
              "      box-shadow: 0px 1px 3px 1px rgba(0, 0, 0, 0.15);\n",
              "      filter: drop-shadow(0px 1px 2px rgba(0, 0, 0, 0.3));\n",
              "      fill: #FFFFFF;\n",
              "    }\n",
              "  </style>\n",
              "\n",
              "    <script>\n",
              "      const buttonEl =\n",
              "        document.querySelector('#df-6c3d3649-8ee9-4610-8d51-265c40471f7c button.colab-df-convert');\n",
              "      buttonEl.style.display =\n",
              "        google.colab.kernel.accessAllowed ? 'block' : 'none';\n",
              "\n",
              "      async function convertToInteractive(key) {\n",
              "        const element = document.querySelector('#df-6c3d3649-8ee9-4610-8d51-265c40471f7c');\n",
              "        const dataTable =\n",
              "          await google.colab.kernel.invokeFunction('convertToInteractive',\n",
              "                                                    [key], {});\n",
              "        if (!dataTable) return;\n",
              "\n",
              "        const docLinkHtml = 'Like what you see? Visit the ' +\n",
              "          '<a target=\"_blank\" href=https://colab.research.google.com/notebooks/data_table.ipynb>data table notebook</a>'\n",
              "          + ' to learn more about interactive tables.';\n",
              "        element.innerHTML = '';\n",
              "        dataTable['output_type'] = 'display_data';\n",
              "        await google.colab.output.renderOutput(dataTable, element);\n",
              "        const docLink = document.createElement('div');\n",
              "        docLink.innerHTML = docLinkHtml;\n",
              "        element.appendChild(docLink);\n",
              "      }\n",
              "    </script>\n",
              "  </div>\n",
              "\n",
              "\n",
              "    </div>\n",
              "  </div>\n"
            ],
            "application/vnd.google.colaboratory.intrinsic+json": {
              "type": "dataframe",
              "summary": "{\n  \"name\": \"             columns=[\\\"ViT to EffNetB2 ratios\\\"])\",\n  \"rows\": 1,\n  \"fields\": [\n    {\n      \"column\": \"test_loss\",\n      \"properties\": {\n        \"dtype\": \"number\",\n        \"std\": null,\n        \"min\": 0.7811742273358958,\n        \"max\": 0.7811742273358958,\n        \"num_unique_values\": 1,\n        \"samples\": [\n          0.7811742273358958\n        ],\n        \"semantic_type\": \"\",\n        \"description\": \"\"\n      }\n    },\n    {\n      \"column\": \"test_acc\",\n      \"properties\": {\n        \"dtype\": \"number\",\n        \"std\": null,\n        \"min\": 1.032643312101911,\n        \"max\": 1.032643312101911,\n        \"num_unique_values\": 1,\n        \"samples\": [\n          1.032643312101911\n        ],\n        \"semantic_type\": \"\",\n        \"description\": \"\"\n      }\n    },\n    {\n      \"column\": \"number_of_parameters\",\n      \"properties\": {\n        \"dtype\": \"number\",\n        \"std\": null,\n        \"min\": 11.127691643094925,\n        \"max\": 11.127691643094925,\n        \"num_unique_values\": 1,\n        \"samples\": [\n          11.127691643094925\n        ],\n        \"semantic_type\": \"\",\n        \"description\": \"\"\n      }\n    },\n    {\n      \"column\": \"model_size (MB)\",\n      \"properties\": {\n        \"dtype\": \"number\",\n        \"std\": null,\n        \"min\": 10.963357308842703,\n        \"max\": 10.963357308842703,\n        \"num_unique_values\": 1,\n        \"samples\": [\n          10.963357308842703\n        ],\n        \"semantic_type\": \"\",\n        \"description\": \"\"\n      }\n    },\n    {\n      \"column\": \"time_for_pred_on_cpu\",\n      \"properties\": {\n        \"dtype\": \"number\",\n        \"std\": null,\n        \"min\": 1.893587994542974,\n        \"max\": 1.893587994542974,\n        \"num_unique_values\": 1,\n        \"samples\": [\n          1.893587994542974\n        ],\n        \"semantic_type\": \"\",\n        \"description\": \"\"\n      }\n    }\n  ]\n}"
            }
          },
          "metadata": {},
          "execution_count": 40
        }
      ],
      "source": [
        "# Compare ViT to EffNetB2 across different characteristics\n",
        "pd.DataFrame(data=(df.set_index(\"model\").loc[\"ViT\"] / df.set_index(\"model\").loc[\"EffNetB2\"]),\n",
        "             columns=[\"ViT to EffNetB2 ratios\"]).T"
      ]
    },
    {
      "cell_type": "markdown",
      "metadata": {
        "id": "-P153BKkqSej"
      },
      "source": [
        "### 6.1 Visualizing the speed vs. performance tradeoff\n",
        "\n",
        "Visualize the comparison with a speed vs. performance plot.\n",
        "\n",
        "Steps:\n",
        "1. Create a scatter plot from the comparison DataFrame to compare EffNetB2 and ViT across test accuracy and prediction time.\n",
        "2. Add titles and labels.\n",
        "3. Annotate the samples on the scatter plot so we know what's going on.\n",
        "4. Create a legend based on the model sizes (`model_size (MB)`)"
      ]
    },
    {
      "cell_type": "code",
      "execution_count": null,
      "metadata": {
        "colab": {
          "base_uri": "https://localhost:8080/",
          "height": 715
        },
        "id": "o6hCjSvjrFBS",
        "outputId": "f1dab5b8-ca76-4472-bd9b-8858ea1ddee8"
      },
      "outputs": [
        {
          "output_type": "display_data",
          "data": {
            "text/plain": [
              "<Figure size 1200x800 with 1 Axes>"
            ],
            "image/png": "[encoded data removed]"
          },
          "metadata": {}
        }
      ],
      "source": [
        "# 1. Create a plot from model comparison DataFrame\n",
        "import matplotlib.pyplot as plt\n",
        "fig, ax = plt.subplots(figsize=(12, 8))\n",
        "scatter = ax.scatter(data=df,\n",
        "                     x=\"time_for_pred_on_cpu\",\n",
        "                     y=\"test_acc\",\n",
        "                     c=[\"blue\", \"orange\"],\n",
        "                     s=\"model_size (MB)\")\n",
        "\n",
        "# 2. Add titles and labels\n",
        "ax.set_title(\"Rubbish Classifier Inference Speed vs Performance\", fontsize=18)\n",
        "ax.set_xlabel(\"Prediction time per image (seconds)\", fontsize=14)\n",
        "ax.set_ylabel(\"Test accuracy (%)\", fontsize=14)\n",
        "ax.tick_params(axis=\"both\", labelsize=12)\n",
        "ax.grid(True)\n",
        "\n",
        "# 3. Annotate the samples on the scatter plot\n",
        "for index, row in df.iterrows():\n",
        "  ax.annotate(text=row[\"model\"],\n",
        "              xy=(row[\"time_for_pred_on_cpu\"]+0.0006, row[\"test_acc\"]+0.03),\n",
        "              size=12)\n",
        "\n",
        "# 4. Created a legend based on the model size (model_size (MB))\n",
        "handles, labels = scatter.legend_elements(prop=\"sizes\", alpha=0.5)\n",
        "model_size_legend = ax.legend(handles,\n",
        "                              labels,\n",
        "                              loc=\"lower right\",\n",
        "                              title=\"Model size (MB)\",\n",
        "                              fontsize=12)\n",
        "\n",
        "# Save the image\n",
        "plt.savefig(\"rubbish_classifier_inference_speed_vs_performance.png\")"
      ]
    },
    {
      "cell_type": "markdown",
      "metadata": {
        "id": "XpiN8x8PwFE7"
      },
      "source": [
        "## 7. Creating a Gradio demo"
      ]
    },
    {
      "cell_type": "code",
      "execution_count": null,
      "metadata": {
        "colab": {
          "base_uri": "https://localhost:8080/"
        },
        "id": "d0vKSkMiv8SF",
        "outputId": "aee7456a-4654-4132-859b-26822905029a"
      },
      "outputs": [
        {
          "output_type": "stream",
          "name": "stdout",
          "text": [
            "\u001b[2K     \u001b[90m━━━━━━━━━━━━━━━━━━━━━━━━━━━━━━━━━━━━━━━━\u001b[0m \u001b[32m17.0/17.0 MB\u001b[0m \u001b[31m78.7 MB/s\u001b[0m eta \u001b[36m0:00:00\u001b[0m\n",
            "\u001b[2K     \u001b[90m━━━━━━━━━━━━━━━━━━━━━━━━━━━━━━━━━━━━━━━━\u001b[0m \u001b[32m92.1/92.1 kB\u001b[0m \u001b[31m13.3 MB/s\u001b[0m eta \u001b[36m0:00:00\u001b[0m\n",
            "\u001b[?25h  Preparing metadata (setup.py) ... \u001b[?25l\u001b[?25hdone\n",
            "\u001b[2K     \u001b[90m━━━━━━━━━━━━━━━━━━━━━━━━━━━━━━━━━━━━━━━━\u001b[0m \u001b[32m310.7/310.7 kB\u001b[0m \u001b[31m37.2 MB/s\u001b[0m eta \u001b[36m0:00:00\u001b[0m\n",
            "\u001b[2K     \u001b[90m━━━━━━━━━━━━━━━━━━━━━━━━━━━━━━━━━━━━━━━━\u001b[0m \u001b[32m75.6/75.6 kB\u001b[0m \u001b[31m11.3 MB/s\u001b[0m eta \u001b[36m0:00:00\u001b[0m\n",
            "\u001b[2K     \u001b[90m━━━━━━━━━━━━━━━━━━━━━━━━━━━━━━━━━━━━━━━━\u001b[0m \u001b[32m138.5/138.5 kB\u001b[0m \u001b[31m20.6 MB/s\u001b[0m eta \u001b[36m0:00:00\u001b[0m\n",
            "\u001b[2K     \u001b[90m━━━━━━━━━━━━━━━━━━━━━━━━━━━━━━━━━━━━━━━━\u001b[0m \u001b[32m8.6/8.6 MB\u001b[0m \u001b[31m107.0 MB/s\u001b[0m eta \u001b[36m0:00:00\u001b[0m\n",
            "\u001b[2K     \u001b[90m━━━━━━━━━━━━━━━━━━━━━━━━━━━━━━━━━━━━━━━━\u001b[0m \u001b[32m60.6/60.6 kB\u001b[0m \u001b[31m8.0 MB/s\u001b[0m eta \u001b[36m0:00:00\u001b[0m\n",
            "\u001b[2K     \u001b[90m━━━━━━━━━━━━━━━━━━━━━━━━━━━━━━━━━━━━━━━━\u001b[0m \u001b[32m129.9/129.9 kB\u001b[0m \u001b[31m17.6 MB/s\u001b[0m eta \u001b[36m0:00:00\u001b[0m\n",
            "\u001b[2K     \u001b[90m━━━━━━━━━━━━━━━━━━━━━━━━━━━━━━━━━━━━━━━━\u001b[0m \u001b[32m77.8/77.8 kB\u001b[0m \u001b[31m11.9 MB/s\u001b[0m eta \u001b[36m0:00:00\u001b[0m\n",
            "\u001b[2K     \u001b[90m━━━━━━━━━━━━━━━━━━━━━━━━━━━━━━━━━━━━━━━━\u001b[0m \u001b[32m58.3/58.3 kB\u001b[0m \u001b[31m9.3 MB/s\u001b[0m eta \u001b[36m0:00:00\u001b[0m\n",
            "\u001b[2K     \u001b[90m━━━━━━━━━━━━━━━━━━━━━━━━━━━━━━━━━━━━━━━━\u001b[0m \u001b[32m71.5/71.5 kB\u001b[0m \u001b[31m10.5 MB/s\u001b[0m eta \u001b[36m0:00:00\u001b[0m\n",
            "\u001b[?25h  Building wheel for ffmpy (setup.py) ... \u001b[?25l\u001b[?25hdone\n",
            "Gradio version: 4.21.0\n"
          ]
        }
      ],
      "source": [
        "# Import/install Gradio\n",
        "try:\n",
        "    import gradio as gr\n",
        "except:\n",
        "    !pip -q install gradio\n",
        "    import gradio as gr\n",
        "\n",
        "print(f\"Gradio version: {gr.__version__}\")"
      ]
    },
    {
      "cell_type": "markdown",
      "metadata": {
        "id": "bvZ7tBYaCHCx"
      },
      "source": [
        "### 7.1 Gradio Overview\n",
        "\n",
        "inputs -> function/model -> ouputs"
      ]
    },
    {
      "cell_type": "markdown",
      "metadata": {
        "id": "Ke3FO8MHCUPl"
      },
      "source": [
        "### 7.2 Creating a function to map out inputs and outputs"
      ]
    },
    {
      "cell_type": "code",
      "execution_count": null,
      "metadata": {
        "colab": {
          "base_uri": "https://localhost:8080/"
        },
        "id": "5J8mSafDCDSb",
        "outputId": "4cf6702c-129f-49dd-e581-e3bce672eb72"
      },
      "outputs": [
        {
          "output_type": "execute_result",
          "data": {
            "text/plain": [
              "device(type='cpu')"
            ]
          },
          "metadata": {},
          "execution_count": 43
        }
      ],
      "source": [
        "# Put our model on the CPU\n",
        "effnetb2 = effnetb2.to(\"cpu\")\n",
        "vit = vit.to(\"cpu\")\n",
        "\n",
        "# Check the device\n",
        "next(iter(effnetb2.parameters())).device\n",
        "next(iter(vit.parameters())).device"
      ]
    },
    {
      "cell_type": "markdown",
      "metadata": {
        "id": "dI2z3VK1E4wg"
      },
      "source": [
        "Let's create a function called `predict()` to go from:\n",
        "\n",
        "```\n",
        "trash images -> ML model -> outputs (rubblish class label, prediction time)\n",
        "```"
      ]
    },
    {
      "cell_type": "code",
      "execution_count": null,
      "metadata": {
        "id": "XJjovdojE3-B"
      },
      "outputs": [],
      "source": [
        "from typing import Tuple, Dict\n",
        "\n",
        "def predict(img, model_str: str) -> Tuple[Dict, float]:\n",
        "  # Start a timer\n",
        "  start_time = timer()\n",
        "  if model_str == \"effnetb2\":\n",
        "    # Transform the image\n",
        "    img = effnetb2_transforms(img).unsqueeze(0)\n",
        "    model = effnetb2\n",
        "  elif model_str == \"vit\":\n",
        "    # Transform the image\n",
        "    img = vit_transforms(img).unsqueeze(0)\n",
        "    model = vit\n",
        "\n",
        "  # Put model into eval mode, make prediction\n",
        "  model.eval()\n",
        "  with torch.inference_mode():\n",
        "    # Pass transformed image through the model and turn the prediction logits into probabilities\n",
        "    pred_probs = torch.softmax(model(img), dim=1)\n",
        "  # Create a prediciton label and prediction probability dictionary\n",
        "  pred_labels_and_probs = {class_names[i]: float(pred_probs[0][i]) for i in range(len(class_names))}\n",
        "  # Calculate pred time\n",
        "  pred_time = round(timer() - start_time, 4)\n",
        "  # Return pred labels and pred time\n",
        "  return pred_labels_and_probs, pred_time\n"
      ]
    },
    {
      "cell_type": "code",
      "execution_count": null,
      "metadata": {
        "colab": {
          "base_uri": "https://localhost:8080/"
        },
        "id": "_8dWZq57C_cF",
        "outputId": "0905f12e-43d7-42f2-85a5-88c54e41a0f2"
      },
      "outputs": [
        {
          "output_type": "stream",
          "name": "stdout",
          "text": [
            "[INFO] Predictiting on image at path: data/augmented_rubbish_dataset/val/organic/image_2453.jpg\n",
            "[INFO] Prediction time: 0.13 seconds\n",
            "[INFO] Prediction Dict: {'cardboard': 7.299934077309445e-05, 'glass': 0.0013766518095508218, 'metal': 0.00039292051224038005, 'organic': 0.9977495074272156, 'paper': 0.00020193243108224124, 'plastic': 0.0001994015765376389, 'trash': 6.71254792905529e-06}\n"
          ]
        }
      ],
      "source": [
        "import random\n",
        "from PIL import Image\n",
        "\n",
        "val_data_paths = list(Path(val_dir).glob(\"*/*.jpg\"))\n",
        "random_image_path = random.choice(val_data_paths)\n",
        "random_image_path\n",
        "\n",
        "# Open the target Image\n",
        "img = Image.open(random_image_path)\n",
        "print (f\"[INFO] Predictiting on image at path: {random_image_path}\")\n",
        "\n",
        "# Predict on the target image and print out outputs\n",
        "pred_dict, pred_time = predict(img, 'vit')\n",
        "print(f\"[INFO] Prediction time: {pred_time} seconds\")\n",
        "print(f\"[INFO] Prediction Dict: {pred_dict}\")"
      ]
    },
    {
      "cell_type": "markdown",
      "metadata": {
        "id": "Ci8rTGHJQvnH"
      },
      "source": [
        "### 7.3 Create a list of examples images\n",
        "\n",
        "The examples for gradio can be created with the `examples` parameter."
      ]
    },
    {
      "cell_type": "code",
      "execution_count": null,
      "metadata": {
        "colab": {
          "base_uri": "https://localhost:8080/"
        },
        "id": "jhLt4NphGFVg",
        "outputId": "189d0860-6b92-48a5-ab21-6fbaf0fdb5c5"
      },
      "outputs": [
        {
          "output_type": "execute_result",
          "data": {
            "text/plain": [
              "[['data/augmented_rubbish_dataset/val/plastic/39.jpg'],\n",
              " ['data/augmented_rubbish_dataset/val/glass/image_7125.jpg'],\n",
              " ['data/augmented_rubbish_dataset/val/metal/image_13708.jpg']]"
            ]
          },
          "metadata": {},
          "execution_count": 46
        }
      ],
      "source": [
        "example_list = [[str(filepath)] for filepath in random.sample(val_data_paths, 3)]\n",
        "example_list"
      ]
    },
    {
      "cell_type": "markdown",
      "metadata": {
        "id": "fuLFEcVsRkoU"
      },
      "source": [
        "### 7.4 Building a Gradio Interface"
      ]
    },
    {
      "cell_type": "code",
      "execution_count": null,
      "metadata": {
        "id": "f5cpZ4ENRcu0",
        "colab": {
          "base_uri": "https://localhost:8080/",
          "height": 610
        },
        "outputId": "8e808213-00ca-4359-efb9-f71d87e9a774"
      },
      "outputs": [
        {
          "output_type": "stream",
          "name": "stdout",
          "text": [
            "Colab notebook detected. To show errors in colab notebook, set debug=True in launch()\n",
            "Running on public URL: https://22585073cfbeb9150e.gradio.live\n",
            "\n",
            "This share link expires in 72 hours. For free permanent hosting and GPU upgrades, run `gradio deploy` from Terminal to deploy to Spaces (https://huggingface.co/spaces)\n"
          ]
        },
        {
          "output_type": "display_data",
          "data": {
            "text/plain": [
              "<IPython.core.display.HTML object>"
            ],
            "text/html": [
              "<div><iframe src=\"https://22585073cfbeb9150e.gradio.live\" width=\"100%\" height=\"500\" allow=\"autoplay; camera; microphone; clipboard-read; clipboard-write;\" frameborder=\"0\" allowfullscreen></iframe></div>"
            ]
          },
          "metadata": {}
        },
        {
          "output_type": "execute_result",
          "data": {
            "text/plain": []
          },
          "metadata": {},
          "execution_count": 47
        }
      ],
      "source": [
        "import gradio as gr\n",
        "\n",
        "# Create title, description and article\n",
        "title = \"Rubbish Classifier 🗑️\"\n",
        "description = \"An [EfficientNetb2 feature extractor](https://pytorch.org/vision/stable/models/generated/torchvision.models.efficientnet_b2.html#torchvision.models.efficientnet_b2) and a [ViT feature extractor](https://pytorch.org/vision/stable/models/generated/torchvision.models.vit_b_16.html#torchvision.models.vit_b_16) model to classify rubbish images.\"\n",
        "article = \"Created by me\"\n",
        "\n",
        "# Create the Gradio demo\n",
        "demo = gr.Interface(fn=predict,\n",
        "                    inputs=[gr.Image(type=\"pil\"),\n",
        "                            gr.Dropdown(choices=['effnetb2', 'vit'], label='Model To Use', value='effnetb2')],\n",
        "                    outputs=[gr.Label(num_top_classes=3, label=\"Predictions\"),\n",
        "                             gr.Number(label=\"Prediction time (s)\")],\n",
        "                    examples=example_list,\n",
        "                    title=title,\n",
        "                    description=description,\n",
        "                    article=article)\n",
        "\n",
        "# Launch the demo\n",
        "demo.launch(share=True)"
      ]
    },
    {
      "cell_type": "markdown",
      "metadata": {
        "id": "-o1l2QTAizHS"
      },
      "source": [
        "## 8. Turning Rubbish Classifier Gradio Demo into a deployable app on Hugging Face"
      ]
    },
    {
      "cell_type": "markdown",
      "metadata": {
        "id": "uW-0BlpPugrV"
      },
      "source": [
        "### 8.1 Deployed Gradio App Structure\n",
        "\n",
        "```\n",
        "demos/\n",
        "└── rubbish_classifier/\n",
        "    ├── effnetb2_augmented_dataset_10_epochs.pth\n",
        "    ├── vit_b_16_augmented_dataset_10_epochs.pth\n",
        "    ├── app.py\n",
        "    ├── examples/\n",
        "    │   ├── example_1.jpg\n",
        "    │   ├── example_2.jpg\n",
        "    │   └── example_3.jpg\n",
        "    ├── model.py\n",
        "    └── requirements.txt\n",
        "```"
      ]
    },
    {
      "cell_type": "markdown",
      "metadata": {
        "id": "smJL1guXwsr6"
      },
      "source": [
        "### 8.2 Creating a `demos` foldet to store our app files"
      ]
    },
    {
      "cell_type": "code",
      "execution_count": null,
      "metadata": {
        "id": "ZLPOdj2xw2M0"
      },
      "outputs": [],
      "source": [
        "import shutil\n",
        "from pathlib import Path\n",
        "\n",
        "# Create path\n",
        "rubbish_classifier_demo_path = Path(\"demos/rubbish_classifier\")\n",
        "\n",
        "# Remove file that might exist and create a new directory\n",
        "if rubbish_classifier_demo_path.exists():\n",
        "  shutil.rmtree(rubbish_classifier_demo_path)\n",
        "  rubbish_classifier_demo_path.mkdir(parents=True, exist_ok=True)\n",
        "else:\n",
        "  rubbish_classifier_demo_path.mkdir(parents=True, exist_ok=True)\n",
        "\n",
        "!ls demos/rubbish_classifier/"
      ]
    },
    {
      "cell_type": "markdown",
      "metadata": {
        "id": "TiGVI2Ywx7Yg"
      },
      "source": [
        "### 8.3 Creating a folder of images to use with the Rubbish Classifier"
      ]
    },
    {
      "cell_type": "code",
      "execution_count": 67,
      "metadata": {
        "id": "Hs55nVKPyETf",
        "colab": {
          "base_uri": "https://localhost:8080/"
        },
        "outputId": "01cd058c-383f-463a-8f2f-c435e28a79bc"
      },
      "outputs": [
        {
          "output_type": "stream",
          "name": "stdout",
          "text": [
            "[INFO] Copying data/augmented_rubbish_dataset/val/metal/image_12178.jpg to demos/rubbish_classifier/examples/image_12178.jpg\n",
            "[INFO] Copying data/augmented_rubbish_dataset/val/cardboard/image_6387.jpg to demos/rubbish_classifier/examples/image_6387.jpg\n",
            "[INFO] Copying data/augmented_rubbish_dataset/val/glass/image_7205.jpg to demos/rubbish_classifier/examples/image_7205.jpg\n",
            "[INFO] Copying data/augmented_rubbish_dataset/val/trash/image_19775.jpg to demos/rubbish_classifier/examples/image_19775.jpg\n",
            "[INFO] Copying data/augmented_rubbish_dataset/val/plastic/image_18981.jpg to demos/rubbish_classifier/examples/image_18981.jpg\n",
            "[INFO] Copying data/augmented_rubbish_dataset/val/organic/image_484.jpg to demos/rubbish_classifier/examples/image_484.jpg\n",
            "[INFO] Copying data/augmented_rubbish_dataset/val/paper/image_14286.jpg to demos/rubbish_classifier/examples/image_14286.jpg\n"
          ]
        }
      ],
      "source": [
        "import shutil\n",
        "from pathlib import Path\n",
        "\n",
        "# Create an examples directory\n",
        "rubbish_classifier_examples_path = rubbish_classifier_demo_path / \"examples\"\n",
        "rubbish_classifier_examples_path.mkdir(parents=True, exist_ok=True)\n",
        "\n",
        "# Collects three val data set images paths\n",
        "rubbish_classifier_examples = [random.choice(list(label_dir.glob('*.jpg'))) for label_dir in Path('data/augmented_rubbish_dataset/val').iterdir() if label_dir.is_dir()]\n",
        "\n",
        "# Copy the three images to the examples directory\n",
        "for example in rubbish_classifier_examples:\n",
        "  destination = rubbish_classifier_examples_path / example.name\n",
        "  print(f\"[INFO] Copying {example} to {destination}\")\n",
        "  shutil.copy2(src=example, dst=destination)"
      ]
    },
    {
      "cell_type": "markdown",
      "metadata": {
        "id": "IkK0BHtk0Qd4"
      },
      "source": [
        "Get a list of lists from the `examples/` directory"
      ]
    },
    {
      "cell_type": "code",
      "execution_count": 68,
      "metadata": {
        "id": "xL5Z2Z7O0ZaC",
        "colab": {
          "base_uri": "https://localhost:8080/"
        },
        "outputId": "4e5c6488-900c-4523-b5c7-280b3b964a8f"
      },
      "outputs": [
        {
          "output_type": "execute_result",
          "data": {
            "text/plain": [
              "[['examples/image_19775.jpg'],\n",
              " ['examples/image_484.jpg'],\n",
              " ['examples/image_6387.jpg'],\n",
              " ['examples/image_14286.jpg'],\n",
              " ['examples/image_7205.jpg'],\n",
              " ['examples/image_6237.jpg'],\n",
              " ['examples/image_10904.jpg'],\n",
              " ['examples/image_1227.jpg'],\n",
              " ['examples/image_17309.jpg'],\n",
              " ['examples/image_19472.jpg'],\n",
              " ['examples/image_12214.jpg'],\n",
              " ['examples/image_12178.jpg'],\n",
              " ['examples/IMG_0602.jpg'],\n",
              " ['examples/image_18981.jpg']]"
            ]
          },
          "metadata": {},
          "execution_count": 68
        }
      ],
      "source": [
        "import os\n",
        "\n",
        "# Get example filepaths in a list of lists\n",
        "example_list = [[\"examples/\" + example] for example in os.listdir(rubbish_classifier_examples_path)]\n",
        "example_list"
      ]
    },
    {
      "cell_type": "markdown",
      "metadata": {
        "id": "k5PsMRAg3qwk"
      },
      "source": [
        "### 8.4 Moving trained models to Rubbish Demo Directory"
      ]
    },
    {
      "cell_type": "code",
      "execution_count": null,
      "metadata": {
        "id": "vnAf192E4RKo",
        "colab": {
          "base_uri": "https://localhost:8080/"
        },
        "outputId": "7a4d2b9e-0371-4598-85b9-1f3527d3c5b6"
      },
      "outputs": [
        {
          "output_type": "stream",
          "name": "stdout",
          "text": [
            "[INFO] Moving models/effnetb2_augmented_dataset_10_epochs.pth to demos/rubbish_classifier/effnetb2_augmented_dataset_10_epochs.pth\n",
            "\n",
            "[INFO] No model found at models/effnetb2_augmented_dataset_10_epochs.pth\n",
            "[INFO] Model exists at demos/rubbish_classifier/effnetb2_augmented_dataset_10_epochs.pth: True\n",
            "\n",
            "[INFO] Moving models/vit_b_16_augmented_dataset_10_epochs.pth to demos/rubbish_classifier/vit_b_16_augmented_dataset_10_epochs.pth\n",
            "\n",
            "[INFO] No model found at models/vit_b_16_augmented_dataset_10_epochs.pth\n",
            "[INFO] Model exists at demos/rubbish_classifier/vit_b_16_augmented_dataset_10_epochs.pth: True\n"
          ]
        }
      ],
      "source": [
        "import shutil\n",
        "\n",
        "# Create source paths for our target models\n",
        "effnetb2_augmented_dataset_10_epochs_path = \"models/effnetb2_augmented_dataset_10_epochs.pth\"\n",
        "vit_b_16_augmented_dataset_10_epochs_path = \"models/vit_b_16_augmented_dataset_10_epochs.pth\"\n",
        "\n",
        "# Create a destination path for out target models\n",
        "effnetb2_augmented_dataset_10_epochs_destination = rubbish_classifier_demo_path / effnetb2_augmented_dataset_10_epochs_path.split(\"/\")[1]\n",
        "vit_b_16_augmented_dataset_10_epochs_destination = rubbish_classifier_demo_path / vit_b_16_augmented_dataset_10_epochs_path.split(\"/\")[1]\n",
        "\n",
        "# Try to move the model file\n",
        "try:\n",
        "  print(f\"[INFO] Moving {effnetb2_augmented_dataset_10_epochs_path} to {effnetb2_augmented_dataset_10_epochs_destination}\")\n",
        "  shutil.move(src=effnetb2_augmented_dataset_10_epochs_path, dst=effnetb2_augmented_dataset_10_epochs_destination)\n",
        "  print(f\"[INFO] Model move completed\")\n",
        "# If the model has already been moved, check if it exist\n",
        "except:\n",
        "  print(f\"\")\n",
        "  print(f\"[INFO] No model found at {effnetb2_augmented_dataset_10_epochs_path}\")\n",
        "  print(f\"[INFO] Model exists at {effnetb2_augmented_dataset_10_epochs_destination}: {effnetb2_augmented_dataset_10_epochs_destination.exists()}\")\n",
        "\n",
        "try:\n",
        "  print(f\"\")\n",
        "  print(f\"[INFO] Moving {vit_b_16_augmented_dataset_10_epochs_path} to {vit_b_16_augmented_dataset_10_epochs_destination}\")\n",
        "  shutil.move(src=vit_b_16_augmented_dataset_10_epochs_path, dst=vit_b_16_augmented_dataset_10_epochs_destination)\n",
        "  print(f\"[INFO] Model move completed\")\n",
        "# If the model has already been moved, check if it exist\n",
        "except:\n",
        "  print(f\"\")\n",
        "  print(f\"[INFO] No model found at {vit_b_16_augmented_dataset_10_epochs_path}\")\n",
        "  print(f\"[INFO] Model exists at {vit_b_16_augmented_dataset_10_epochs_destination}: {vit_b_16_augmented_dataset_10_epochs_destination.exists()}\")"
      ]
    },
    {
      "cell_type": "markdown",
      "source": [
        "### 8.5 Turning off function model into a Python Script"
      ],
      "metadata": {
        "id": "pdXFouExun12"
      }
    },
    {
      "cell_type": "code",
      "source": [
        "%%writefile demos/rubbish_classifier/model.py\n",
        "\n",
        "import torch\n",
        "import torch.nn as nn\n",
        "import torchvision\n",
        "\n",
        "\n",
        "def create_effnetb2_model(num_classes: int = 7,\n",
        "                          seed: int=42):\n",
        "  \"\"\"Creates a PyTorch EfficientNetB2 feature extractor\"\"\"\n",
        "  # Setup pretrained EffNetB2 weights\n",
        "  weights = torchvision.models.EfficientNet_B2_Weights.DEFAULT\n",
        "  # Get EffNetB2 transforms\n",
        "  transforms = weights.transforms()\n",
        "  # Setup pretrained model instance\n",
        "  model = torchvision.models.efficientnet_b2(weights=weights)\n",
        "  # Freeze the base layers in the model\n",
        "  for param in model.parameters():\n",
        "    param.requires_grad = False\n",
        "  # Create classifier\n",
        "  torch.manual_seed(seed)\n",
        "  model.classifier = nn.Sequential(\n",
        "      nn.Dropout(p=0.3, inplace=True),\n",
        "      nn.Linear(in_features=1408, out_features=num_classes)\n",
        "  )\n",
        "  return model, transforms\n",
        "\n",
        "def create_vit_model(num_classes:int=7,\n",
        "                     seed:int=42):\n",
        "  \"\"\"Creates a PyTorch ViT pretrained feature extractor\"\"\"\n",
        "  # Create Vit_B_16 pretrained weights, transforms and models\n",
        "  weights = torchvision.models.ViT_B_16_Weights.DEFAULT\n",
        "  transforms = weights.transforms()\n",
        "  model = torchvision.models.vit_b_16(weights=weights)\n",
        "\n",
        "  # Freeze all the base layers\n",
        "  for param in model.parameters():\n",
        "    param.requires_grad = False\n",
        "\n",
        "  # Change classifier head\n",
        "  model.heads = nn.Sequential(\n",
        "      nn.Linear(in_features=768,\n",
        "                out_features=num_classes)\n",
        "  )\n",
        "  return model, transforms\n"
      ],
      "metadata": {
        "colab": {
          "base_uri": "https://localhost:8080/"
        },
        "id": "bRtU3aKSrnB0",
        "outputId": "d6143078-8aed-4b0e-fb27-65bd4b8d4ce9"
      },
      "execution_count": null,
      "outputs": [
        {
          "output_type": "stream",
          "name": "stdout",
          "text": [
            "Overwriting demos/rubbish_classifier/model.py\n"
          ]
        }
      ]
    },
    {
      "cell_type": "markdown",
      "source": [
        "### 8.6 Turning our Gradio App into a Pythin script (`app.py`)\n",
        "\n",
        "Four parts:\n",
        "1. Imports and class names setup\n",
        "2. Model and transforms preparation\n",
        "3. Predict function (`predict()`)\n",
        "4. Gradio app - Gradio interface + launch command"
      ],
      "metadata": {
        "id": "70o7LWPoxEdc"
      }
    },
    {
      "cell_type": "code",
      "source": [
        "%%writefile demos/rubbish_classifier/app.py\n",
        "### 1. Imports and class names setup ###\n",
        "import gradio as gr\n",
        "import os\n",
        "import torch\n",
        "from model import create_effnetb2_model, create_vit_model\n",
        "from timeit import default_timer as timer\n",
        "from typing import Tuple, Dict\n",
        "  # Setup class names\n",
        "class_names = ['cardboard', 'glass', 'metal', 'organic', 'paper', 'plastic', 'trash']\n",
        "### 2. Model and transforms preparation ###\n",
        "effnetb2, effnetb2_transforms = create_effnetb2_model(\n",
        "    num_classes=len(class_names),\n",
        ")\n",
        "vit, vit_transforms = create_vit_model(\n",
        "    num_classes=len(class_names),\n",
        ")\n",
        "  # Load saved weights\n",
        "effnetb2.load_state_dict(\n",
        "    torch.load(\n",
        "        f=\"effnetb2_augmented_dataset_10_epochs.pth\"\n",
        "        map_location=torch.device(\"cpu\")\n",
        "    )\n",
        ")\n",
        "vit.load_state_dict(\n",
        "    torch.load(\n",
        "        f=\"vit_b_16_augmented_dataset_10_epochs.pth\"\n",
        "        map_location=torch.device(\"cpu\")\n",
        "    )\n",
        ")\n",
        "### 3. Predict function ###\n",
        "def predict(img, model_str: str) -> Tuple[Dict, float]:\n",
        "  # Start a timer\n",
        "  start_time = timer()\n",
        "  if model_str == \"effnetb2\":\n",
        "    # Transform the image\n",
        "    img = effnetb2_transforms(img).unsqueeze(0)\n",
        "    model = effnetb2\n",
        "  elif model_str == \"vit\":\n",
        "    # Transform the image\n",
        "    img = vit_transforms(img).unsqueeze(0)\n",
        "    model = vit\n",
        "\n",
        "  # Put model into eval mode, make prediction\n",
        "  model.eval()\n",
        "  with torch.inference_mode():\n",
        "    # Pass transformed image through the model and turn the prediction logits into probabilities\n",
        "    pred_probs = torch.softmax(model(img), dim=1)\n",
        "  # Create a prediciton label and prediction probability dictionary\n",
        "  pred_labels_and_probs = {class_names[i]: float(pred_probs[0][i]) for i in range(len(class_names))}\n",
        "  # Calculate pred time\n",
        "  pred_time = round(timer() - start_time, 4)\n",
        "  # Return pred labels and pred time\n",
        "  return pred_labels_and_probs, pred_time\n",
        "### 4. Gradio app - Gradio interface + launch command ###\n",
        "  # Create title, description and article\n",
        "title = \"Rubbish Classifier 🗑️\"\n",
        "description = \"An [EfficientNetb2 feature extractor](https://pytorch.org/vision/stable/models/generated/torchvision.models.efficientnet_b2.html#torchvision.models.efficientnet_b2) and a [ViT feature extractor](https://pytorch.org/vision/stable/models/generated/torchvision.models.vit_b_16.html#torchvision.models.vit_b_16) model to classify rubbish images.\"\n",
        "article = \"Created by me\"\n",
        "  # Create example list\n",
        "example_list = [[\"examples/\" + example] for example in os.listdir(\"examples\")]\n",
        "  # Create the Gradio demo\n",
        "demo = gr.Interface(fn=predict,\n",
        "                    inputs=[gr.Image(type=\"pil\"),\n",
        "                            gr.Dropdown(choices=['effnetb2', 'vit'], label='Model To Use', value='effnetb2')],\n",
        "                    outputs=[gr.Label(num_top_classes=3, label=\"Predictions\"),\n",
        "                             gr.Number(label=\"Prediction time (s)\")],\n",
        "                    examples=example_list,\n",
        "                    title=title,\n",
        "                    description=description,\n",
        "                    article=article)\n",
        "\n",
        "  # Launch the demo\n",
        "demo.launch(share=True)\n"
      ],
      "metadata": {
        "id": "Aq61tToSvIr6",
        "colab": {
          "base_uri": "https://localhost:8080/"
        },
        "outputId": "02133c9d-b242-45d1-f243-eda08490542d"
      },
      "execution_count": 69,
      "outputs": [
        {
          "output_type": "stream",
          "name": "stdout",
          "text": [
            "Writing demos/rubbish_classifier/app.py\n"
          ]
        }
      ]
    },
    {
      "cell_type": "markdown",
      "source": [
        "### 8.7 Creating `requiremenets.txt`\n",
        "\n",
        "The requirements file will tell Hugging Face Space what software dependencies our app requires.\n",
        "\n",
        "* `gradio`\n",
        "* `torch`\n",
        "* `torchvision`"
      ],
      "metadata": {
        "id": "cWWJoFB62rem"
      }
    },
    {
      "cell_type": "code",
      "source": [
        "%%writefile demos/rubbish_classifier/requirements.txt\n",
        "gradio==4.21.0\n",
        "torch==2.2.1\n",
        "torchvision==0.17.1"
      ],
      "metadata": {
        "colab": {
          "base_uri": "https://localhost:8080/"
        },
        "id": "fpfv4wW-2e3q",
        "outputId": "e608b229-4a0d-45cc-c5cf-5dec410632ea"
      },
      "execution_count": 74,
      "outputs": [
        {
          "output_type": "stream",
          "name": "stdout",
          "text": [
            "Writing demos/rubbish_classifier/requirements.txt\n"
          ]
        }
      ]
    },
    {
      "cell_type": "markdown",
      "source": [
        "## 9. Deploying our Rubbish Classifier to HuggingFace Spaces"
      ],
      "metadata": {
        "id": "KwgvFU5W-b0L"
      }
    },
    {
      "cell_type": "markdown",
      "source": [
        "### 9.1 Downloading app files"
      ],
      "metadata": {
        "id": "GqAMQmrX-2p9"
      }
    },
    {
      "cell_type": "code",
      "source": [
        "!cd demos/rubbish_classifier && zip -r ../rubbish_classifier.zip * -x \"*.pyc\" \"*.ipynb\" \"*__pycache__*\" \"*ipynb_checkpoints*\""
      ],
      "metadata": {
        "colab": {
          "base_uri": "https://localhost:8080/"
        },
        "id": "wx9fYITe_ETw",
        "outputId": "7a3217b0-cdb7-4299-986a-b4726be5a669"
      },
      "execution_count": 77,
      "outputs": [
        {
          "output_type": "stream",
          "name": "stdout",
          "text": [
            "  adding: app.py (deflated 60%)\n",
            "  adding: effnetb2_augmented_dataset_10_epochs.pth (deflated 8%)\n",
            "  adding: examples/ (stored 0%)\n",
            "  adding: examples/image_19775.jpg (deflated 7%)\n",
            "  adding: examples/image_484.jpg (deflated 19%)\n",
            "  adding: examples/image_6387.jpg (deflated 7%)\n",
            "  adding: examples/image_14286.jpg (deflated 9%)\n",
            "  adding: examples/image_7205.jpg (deflated 40%)\n",
            "  adding: examples/image_6237.jpg (deflated 1%)\n",
            "  adding: examples/image_10904.jpg (deflated 13%)\n",
            "  adding: examples/image_1227.jpg (deflated 1%)\n",
            "  adding: examples/image_17309.jpg (deflated 6%)\n",
            "  adding: examples/image_19472.jpg (deflated 12%)\n",
            "  adding: examples/image_12214.jpg (deflated 1%)\n",
            "  adding: examples/image_12178.jpg (deflated 5%)\n",
            "  adding: examples/IMG_0602.jpg (deflated 0%)\n",
            "  adding: examples/image_18981.jpg (deflated 4%)\n",
            "  adding: model.py (deflated 63%)\n",
            "  adding: requirements.txt (deflated 8%)\n",
            "  adding: vit_b_16_augmented_dataset_10_epochs.pth (deflated 7%)\n"
          ]
        }
      ]
    },
    {
      "cell_type": "code",
      "source": [
        "# Download\n",
        "try:\n",
        "  from google.colab import files\n",
        "  files.download(\"demos/rubbish_classifier.zip\")\n",
        "except:\n",
        "  print(\"Not running in Google Colab, can't use google.colab.files.donwload(), please download rubbish_classifier.zip manually.\")"
      ],
      "metadata": {
        "colab": {
          "base_uri": "https://localhost:8080/",
          "height": 17
        },
        "id": "B7wGyF9v_jgu",
        "outputId": "f586a63f-3eec-4557-8589-cfe8c833acde"
      },
      "execution_count": 80,
      "outputs": [
        {
          "output_type": "display_data",
          "data": {
            "text/plain": [
              "<IPython.core.display.Javascript object>"
            ],
            "application/javascript": [
              "\n",
              "    async function download(id, filename, size) {\n",
              "      if (!google.colab.kernel.accessAllowed) {\n",
              "        return;\n",
              "      }\n",
              "      const div = document.createElement('div');\n",
              "      const label = document.createElement('label');\n",
              "      label.textContent = `Downloading \"${filename}\": `;\n",
              "      div.appendChild(label);\n",
              "      const progress = document.createElement('progress');\n",
              "      progress.max = size;\n",
              "      div.appendChild(progress);\n",
              "      document.body.appendChild(div);\n",
              "\n",
              "      const buffers = [];\n",
              "      let downloaded = 0;\n",
              "\n",
              "      const channel = await google.colab.kernel.comms.open(id);\n",
              "      // Send a message to notify the kernel that we're ready.\n",
              "      channel.send({})\n",
              "\n",
              "      for await (const message of channel.messages) {\n",
              "        // Send a message to notify the kernel that we're ready.\n",
              "        channel.send({})\n",
              "        if (message.buffers) {\n",
              "          for (const buffer of message.buffers) {\n",
              "            buffers.push(buffer);\n",
              "            downloaded += buffer.byteLength;\n",
              "            progress.value = downloaded;\n",
              "          }\n",
              "        }\n",
              "      }\n",
              "      const blob = new Blob(buffers, {type: 'application/binary'});\n",
              "      const a = document.createElement('a');\n",
              "      a.href = window.URL.createObjectURL(blob);\n",
              "      a.download = filename;\n",
              "      div.appendChild(a);\n",
              "      a.click();\n",
              "      div.remove();\n",
              "    }\n",
              "  "
            ]
          },
          "metadata": {}
        },
        {
          "output_type": "display_data",
          "data": {
            "text/plain": [
              "<IPython.core.display.Javascript object>"
            ],
            "application/javascript": [
              "download(\"download_a0052c25-0454-4a38-8903-c794d42af1f2\", \"rubbish_classifier.zip\", 349731528)"
            ]
          },
          "metadata": {}
        }
      ]
    },
    {
      "cell_type": "markdown",
      "source": [
        "### 9.2 Uploading to Hugging Face\n",
        "\n",
        "[Rubbish Classifier Gradio App](https://huggingface.co/spaces/Jotadebeese/rubbish_classifier)"
      ],
      "metadata": {
        "id": "-VbeXxq0V0fb"
      }
    },
    {
      "cell_type": "code",
      "source": [
        "# IPython is a library to help make Python interactive\n",
        "from IPython.display import IFrame\n",
        "\n",
        "# Embed FoodVision Mini Gradio demo\n",
        "IFrame(src=\"https://hf.space/embed/Jotadebeese/rubbish_classifier/+\", width=900, height=750)"
      ],
      "metadata": {
        "colab": {
          "base_uri": "https://localhost:8080/",
          "height": 771
        },
        "id": "HWJxUHdSA46K",
        "outputId": "55e95a52-26bd-47f6-9610-82045e2257ab"
      },
      "execution_count": 82,
      "outputs": [
        {
          "output_type": "execute_result",
          "data": {
            "text/plain": [
              "<IPython.lib.display.IFrame at 0x786cb7fb4970>"
            ],
            "text/html": [
              "\n",
              "        <iframe\n",
              "            width=\"900\"\n",
              "            height=\"750\"\n",
              "            src=\"https://hf.space/embed/Jotadebeese/rubbish_classifier/+\"\n",
              "            frameborder=\"0\"\n",
              "            allowfullscreen\n",
              "            \n",
              "        ></iframe>\n",
              "        "
            ]
          },
          "metadata": {},
          "execution_count": 82
        }
      ]
    },
    {
      "cell_type": "code",
      "source": [],
      "metadata": {
        "id": "naZdEzhoWVo4"
      },
      "execution_count": null,
      "outputs": []
    }
  ],
  "metadata": {
    "accelerator": "GPU",
    "colab": {
      "gpuType": "T4",
      "machine_shape": "hm",
      "provenance": [],
      "authorship_tag": "ABX9TyOVQ9IBqaa0r8Mqr1/3K+gU",
      "include_colab_link": true
    },
    "kernelspec": {
      "display_name": "Python 3",
      "name": "python3"
    },
    "language_info": {
      "name": "python"
    },
    "widgets": {
      "application/vnd.jupyter.widget-state+json": {
        "6c3fa39f18a346f79a317987874e2f89": {
          "model_module": "@jupyter-widgets/controls",
          "model_name": "HBoxModel",
          "model_module_version": "1.5.0",
          "state": {
            "_dom_classes": [],
            "_model_module": "@jupyter-widgets/controls",
            "_model_module_version": "1.5.0",
            "_model_name": "HBoxModel",
            "_view_count": null,
            "_view_module": "@jupyter-widgets/controls",
            "_view_module_version": "1.5.0",
            "_view_name": "HBoxView",
            "box_style": "",
            "children": [
              "IPY_MODEL_92c872285e724111ac2b0e7e8d872637",
              "IPY_MODEL_29c653314c3d400dade0d0c4d7aa7bdc",
              "IPY_MODEL_ec24835cab3c40e9a2ab2ca5e076cbda"
            ],
            "layout": "IPY_MODEL_29cfdbf73a05474abe05a6443e78f095"
          }
        },
        "92c872285e724111ac2b0e7e8d872637": {
          "model_module": "@jupyter-widgets/controls",
          "model_name": "HTMLModel",
          "model_module_version": "1.5.0",
          "state": {
            "_dom_classes": [],
            "_model_module": "@jupyter-widgets/controls",
            "_model_module_version": "1.5.0",
            "_model_name": "HTMLModel",
            "_view_count": null,
            "_view_module": "@jupyter-widgets/controls",
            "_view_module_version": "1.5.0",
            "_view_name": "HTMLView",
            "description": "",
            "description_tooltip": null,
            "layout": "IPY_MODEL_b36f14bfa51e4789bb2b9a676a2097ea",
            "placeholder": "​",
            "style": "IPY_MODEL_b19e79253ab24018a39f7fd5b48f946f",
            "value": "100%"
          }
        },
        "29c653314c3d400dade0d0c4d7aa7bdc": {
          "model_module": "@jupyter-widgets/controls",
          "model_name": "FloatProgressModel",
          "model_module_version": "1.5.0",
          "state": {
            "_dom_classes": [],
            "_model_module": "@jupyter-widgets/controls",
            "_model_module_version": "1.5.0",
            "_model_name": "FloatProgressModel",
            "_view_count": null,
            "_view_module": "@jupyter-widgets/controls",
            "_view_module_version": "1.5.0",
            "_view_name": "ProgressView",
            "bar_style": "success",
            "description": "",
            "description_tooltip": null,
            "layout": "IPY_MODEL_7b9d3ab286d94e6bab48d6a70749afbd",
            "max": 10,
            "min": 0,
            "orientation": "horizontal",
            "style": "IPY_MODEL_5c2853f70b534c038448cec4507033f5",
            "value": 10
          }
        },
        "ec24835cab3c40e9a2ab2ca5e076cbda": {
          "model_module": "@jupyter-widgets/controls",
          "model_name": "HTMLModel",
          "model_module_version": "1.5.0",
          "state": {
            "_dom_classes": [],
            "_model_module": "@jupyter-widgets/controls",
            "_model_module_version": "1.5.0",
            "_model_name": "HTMLModel",
            "_view_count": null,
            "_view_module": "@jupyter-widgets/controls",
            "_view_module_version": "1.5.0",
            "_view_name": "HTMLView",
            "description": "",
            "description_tooltip": null,
            "layout": "IPY_MODEL_6e26862ea9384397b887cc50a24bf075",
            "placeholder": "​",
            "style": "IPY_MODEL_fcc8a1067ecf4d4ca909653da74cf589",
            "value": " 10/10 [21:55&lt;00:00, 131.06s/it]"
          }
        },
        "29cfdbf73a05474abe05a6443e78f095": {
          "model_module": "@jupyter-widgets/base",
          "model_name": "LayoutModel",
          "model_module_version": "1.2.0",
          "state": {
            "_model_module": "@jupyter-widgets/base",
            "_model_module_version": "1.2.0",
            "_model_name": "LayoutModel",
            "_view_count": null,
            "_view_module": "@jupyter-widgets/base",
            "_view_module_version": "1.2.0",
            "_view_name": "LayoutView",
            "align_content": null,
            "align_items": null,
            "align_self": null,
            "border": null,
            "bottom": null,
            "display": null,
            "flex": null,
            "flex_flow": null,
            "grid_area": null,
            "grid_auto_columns": null,
            "grid_auto_flow": null,
            "grid_auto_rows": null,
            "grid_column": null,
            "grid_gap": null,
            "grid_row": null,
            "grid_template_areas": null,
            "grid_template_columns": null,
            "grid_template_rows": null,
            "height": null,
            "justify_content": null,
            "justify_items": null,
            "left": null,
            "margin": null,
            "max_height": null,
            "max_width": null,
            "min_height": null,
            "min_width": null,
            "object_fit": null,
            "object_position": null,
            "order": null,
            "overflow": null,
            "overflow_x": null,
            "overflow_y": null,
            "padding": null,
            "right": null,
            "top": null,
            "visibility": null,
            "width": null
          }
        },
        "b36f14bfa51e4789bb2b9a676a2097ea": {
          "model_module": "@jupyter-widgets/base",
          "model_name": "LayoutModel",
          "model_module_version": "1.2.0",
          "state": {
            "_model_module": "@jupyter-widgets/base",
            "_model_module_version": "1.2.0",
            "_model_name": "LayoutModel",
            "_view_count": null,
            "_view_module": "@jupyter-widgets/base",
            "_view_module_version": "1.2.0",
            "_view_name": "LayoutView",
            "align_content": null,
            "align_items": null,
            "align_self": null,
            "border": null,
            "bottom": null,
            "display": null,
            "flex": null,
            "flex_flow": null,
            "grid_area": null,
            "grid_auto_columns": null,
            "grid_auto_flow": null,
            "grid_auto_rows": null,
            "grid_column": null,
            "grid_gap": null,
            "grid_row": null,
            "grid_template_areas": null,
            "grid_template_columns": null,
            "grid_template_rows": null,
            "height": null,
            "justify_content": null,
            "justify_items": null,
            "left": null,
            "margin": null,
            "max_height": null,
            "max_width": null,
            "min_height": null,
            "min_width": null,
            "object_fit": null,
            "object_position": null,
            "order": null,
            "overflow": null,
            "overflow_x": null,
            "overflow_y": null,
            "padding": null,
            "right": null,
            "top": null,
            "visibility": null,
            "width": null
          }
        },
        "b19e79253ab24018a39f7fd5b48f946f": {
          "model_module": "@jupyter-widgets/controls",
          "model_name": "DescriptionStyleModel",
          "model_module_version": "1.5.0",
          "state": {
            "_model_module": "@jupyter-widgets/controls",
            "_model_module_version": "1.5.0",
            "_model_name": "DescriptionStyleModel",
            "_view_count": null,
            "_view_module": "@jupyter-widgets/base",
            "_view_module_version": "1.2.0",
            "_view_name": "StyleView",
            "description_width": ""
          }
        },
        "7b9d3ab286d94e6bab48d6a70749afbd": {
          "model_module": "@jupyter-widgets/base",
          "model_name": "LayoutModel",
          "model_module_version": "1.2.0",
          "state": {
            "_model_module": "@jupyter-widgets/base",
            "_model_module_version": "1.2.0",
            "_model_name": "LayoutModel",
            "_view_count": null,
            "_view_module": "@jupyter-widgets/base",
            "_view_module_version": "1.2.0",
            "_view_name": "LayoutView",
            "align_content": null,
            "align_items": null,
            "align_self": null,
            "border": null,
            "bottom": null,
            "display": null,
            "flex": null,
            "flex_flow": null,
            "grid_area": null,
            "grid_auto_columns": null,
            "grid_auto_flow": null,
            "grid_auto_rows": null,
            "grid_column": null,
            "grid_gap": null,
            "grid_row": null,
            "grid_template_areas": null,
            "grid_template_columns": null,
            "grid_template_rows": null,
            "height": null,
            "justify_content": null,
            "justify_items": null,
            "left": null,
            "margin": null,
            "max_height": null,
            "max_width": null,
            "min_height": null,
            "min_width": null,
            "object_fit": null,
            "object_position": null,
            "order": null,
            "overflow": null,
            "overflow_x": null,
            "overflow_y": null,
            "padding": null,
            "right": null,
            "top": null,
            "visibility": null,
            "width": null
          }
        },
        "5c2853f70b534c038448cec4507033f5": {
          "model_module": "@jupyter-widgets/controls",
          "model_name": "ProgressStyleModel",
          "model_module_version": "1.5.0",
          "state": {
            "_model_module": "@jupyter-widgets/controls",
            "_model_module_version": "1.5.0",
            "_model_name": "ProgressStyleModel",
            "_view_count": null,
            "_view_module": "@jupyter-widgets/base",
            "_view_module_version": "1.2.0",
            "_view_name": "StyleView",
            "bar_color": null,
            "description_width": ""
          }
        },
        "6e26862ea9384397b887cc50a24bf075": {
          "model_module": "@jupyter-widgets/base",
          "model_name": "LayoutModel",
          "model_module_version": "1.2.0",
          "state": {
            "_model_module": "@jupyter-widgets/base",
            "_model_module_version": "1.2.0",
            "_model_name": "LayoutModel",
            "_view_count": null,
            "_view_module": "@jupyter-widgets/base",
            "_view_module_version": "1.2.0",
            "_view_name": "LayoutView",
            "align_content": null,
            "align_items": null,
            "align_self": null,
            "border": null,
            "bottom": null,
            "display": null,
            "flex": null,
            "flex_flow": null,
            "grid_area": null,
            "grid_auto_columns": null,
            "grid_auto_flow": null,
            "grid_auto_rows": null,
            "grid_column": null,
            "grid_gap": null,
            "grid_row": null,
            "grid_template_areas": null,
            "grid_template_columns": null,
            "grid_template_rows": null,
            "height": null,
            "justify_content": null,
            "justify_items": null,
            "left": null,
            "margin": null,
            "max_height": null,
            "max_width": null,
            "min_height": null,
            "min_width": null,
            "object_fit": null,
            "object_position": null,
            "order": null,
            "overflow": null,
            "overflow_x": null,
            "overflow_y": null,
            "padding": null,
            "right": null,
            "top": null,
            "visibility": null,
            "width": null
          }
        },
        "fcc8a1067ecf4d4ca909653da74cf589": {
          "model_module": "@jupyter-widgets/controls",
          "model_name": "DescriptionStyleModel",
          "model_module_version": "1.5.0",
          "state": {
            "_model_module": "@jupyter-widgets/controls",
            "_model_module_version": "1.5.0",
            "_model_name": "DescriptionStyleModel",
            "_view_count": null,
            "_view_module": "@jupyter-widgets/base",
            "_view_module_version": "1.2.0",
            "_view_name": "StyleView",
            "description_width": ""
          }
        },
        "9f2f5c07d2834f63bfb8d6d1172fecf6": {
          "model_module": "@jupyter-widgets/controls",
          "model_name": "HBoxModel",
          "model_module_version": "1.5.0",
          "state": {
            "_dom_classes": [],
            "_model_module": "@jupyter-widgets/controls",
            "_model_module_version": "1.5.0",
            "_model_name": "HBoxModel",
            "_view_count": null,
            "_view_module": "@jupyter-widgets/controls",
            "_view_module_version": "1.5.0",
            "_view_name": "HBoxView",
            "box_style": "",
            "children": [
              "IPY_MODEL_ce45203a741c4a93837dd443a29132ff",
              "IPY_MODEL_9c10a93cc254425daff90148cff3a4d7",
              "IPY_MODEL_54e5a298abe2424d966a123ede1f6747"
            ],
            "layout": "IPY_MODEL_16693bac0031482fa212b959f3401a0c"
          }
        },
        "ce45203a741c4a93837dd443a29132ff": {
          "model_module": "@jupyter-widgets/controls",
          "model_name": "HTMLModel",
          "model_module_version": "1.5.0",
          "state": {
            "_dom_classes": [],
            "_model_module": "@jupyter-widgets/controls",
            "_model_module_version": "1.5.0",
            "_model_name": "HTMLModel",
            "_view_count": null,
            "_view_module": "@jupyter-widgets/controls",
            "_view_module_version": "1.5.0",
            "_view_name": "HTMLView",
            "description": "",
            "description_tooltip": null,
            "layout": "IPY_MODEL_a5507992fa5e4d81906e4bbc32c93526",
            "placeholder": "​",
            "style": "IPY_MODEL_aa3e962827044edc8e7c0e3b157c81b8",
            "value": "100%"
          }
        },
        "9c10a93cc254425daff90148cff3a4d7": {
          "model_module": "@jupyter-widgets/controls",
          "model_name": "FloatProgressModel",
          "model_module_version": "1.5.0",
          "state": {
            "_dom_classes": [],
            "_model_module": "@jupyter-widgets/controls",
            "_model_module_version": "1.5.0",
            "_model_name": "FloatProgressModel",
            "_view_count": null,
            "_view_module": "@jupyter-widgets/controls",
            "_view_module_version": "1.5.0",
            "_view_name": "ProgressView",
            "bar_style": "success",
            "description": "",
            "description_tooltip": null,
            "layout": "IPY_MODEL_68cb997cb2f948a4ac2601a4dc220d71",
            "max": 10,
            "min": 0,
            "orientation": "horizontal",
            "style": "IPY_MODEL_b8631579bb5046a2adbf434327e1111a",
            "value": 10
          }
        },
        "54e5a298abe2424d966a123ede1f6747": {
          "model_module": "@jupyter-widgets/controls",
          "model_name": "HTMLModel",
          "model_module_version": "1.5.0",
          "state": {
            "_dom_classes": [],
            "_model_module": "@jupyter-widgets/controls",
            "_model_module_version": "1.5.0",
            "_model_name": "HTMLModel",
            "_view_count": null,
            "_view_module": "@jupyter-widgets/controls",
            "_view_module_version": "1.5.0",
            "_view_name": "HTMLView",
            "description": "",
            "description_tooltip": null,
            "layout": "IPY_MODEL_33cc42c1db1b4deeb4bfc0015ec561eb",
            "placeholder": "​",
            "style": "IPY_MODEL_64c65f4841344fb6b98c084d1d370dbe",
            "value": " 10/10 [48:28&lt;00:00, 290.76s/it]"
          }
        },
        "16693bac0031482fa212b959f3401a0c": {
          "model_module": "@jupyter-widgets/base",
          "model_name": "LayoutModel",
          "model_module_version": "1.2.0",
          "state": {
            "_model_module": "@jupyter-widgets/base",
            "_model_module_version": "1.2.0",
            "_model_name": "LayoutModel",
            "_view_count": null,
            "_view_module": "@jupyter-widgets/base",
            "_view_module_version": "1.2.0",
            "_view_name": "LayoutView",
            "align_content": null,
            "align_items": null,
            "align_self": null,
            "border": null,
            "bottom": null,
            "display": null,
            "flex": null,
            "flex_flow": null,
            "grid_area": null,
            "grid_auto_columns": null,
            "grid_auto_flow": null,
            "grid_auto_rows": null,
            "grid_column": null,
            "grid_gap": null,
            "grid_row": null,
            "grid_template_areas": null,
            "grid_template_columns": null,
            "grid_template_rows": null,
            "height": null,
            "justify_content": null,
            "justify_items": null,
            "left": null,
            "margin": null,
            "max_height": null,
            "max_width": null,
            "min_height": null,
            "min_width": null,
            "object_fit": null,
            "object_position": null,
            "order": null,
            "overflow": null,
            "overflow_x": null,
            "overflow_y": null,
            "padding": null,
            "right": null,
            "top": null,
            "visibility": null,
            "width": null
          }
        },
        "a5507992fa5e4d81906e4bbc32c93526": {
          "model_module": "@jupyter-widgets/base",
          "model_name": "LayoutModel",
          "model_module_version": "1.2.0",
          "state": {
            "_model_module": "@jupyter-widgets/base",
            "_model_module_version": "1.2.0",
            "_model_name": "LayoutModel",
            "_view_count": null,
            "_view_module": "@jupyter-widgets/base",
            "_view_module_version": "1.2.0",
            "_view_name": "LayoutView",
            "align_content": null,
            "align_items": null,
            "align_self": null,
            "border": null,
            "bottom": null,
            "display": null,
            "flex": null,
            "flex_flow": null,
            "grid_area": null,
            "grid_auto_columns": null,
            "grid_auto_flow": null,
            "grid_auto_rows": null,
            "grid_column": null,
            "grid_gap": null,
            "grid_row": null,
            "grid_template_areas": null,
            "grid_template_columns": null,
            "grid_template_rows": null,
            "height": null,
            "justify_content": null,
            "justify_items": null,
            "left": null,
            "margin": null,
            "max_height": null,
            "max_width": null,
            "min_height": null,
            "min_width": null,
            "object_fit": null,
            "object_position": null,
            "order": null,
            "overflow": null,
            "overflow_x": null,
            "overflow_y": null,
            "padding": null,
            "right": null,
            "top": null,
            "visibility": null,
            "width": null
          }
        },
        "aa3e962827044edc8e7c0e3b157c81b8": {
          "model_module": "@jupyter-widgets/controls",
          "model_name": "DescriptionStyleModel",
          "model_module_version": "1.5.0",
          "state": {
            "_model_module": "@jupyter-widgets/controls",
            "_model_module_version": "1.5.0",
            "_model_name": "DescriptionStyleModel",
            "_view_count": null,
            "_view_module": "@jupyter-widgets/base",
            "_view_module_version": "1.2.0",
            "_view_name": "StyleView",
            "description_width": ""
          }
        },
        "68cb997cb2f948a4ac2601a4dc220d71": {
          "model_module": "@jupyter-widgets/base",
          "model_name": "LayoutModel",
          "model_module_version": "1.2.0",
          "state": {
            "_model_module": "@jupyter-widgets/base",
            "_model_module_version": "1.2.0",
            "_model_name": "LayoutModel",
            "_view_count": null,
            "_view_module": "@jupyter-widgets/base",
            "_view_module_version": "1.2.0",
            "_view_name": "LayoutView",
            "align_content": null,
            "align_items": null,
            "align_self": null,
            "border": null,
            "bottom": null,
            "display": null,
            "flex": null,
            "flex_flow": null,
            "grid_area": null,
            "grid_auto_columns": null,
            "grid_auto_flow": null,
            "grid_auto_rows": null,
            "grid_column": null,
            "grid_gap": null,
            "grid_row": null,
            "grid_template_areas": null,
            "grid_template_columns": null,
            "grid_template_rows": null,
            "height": null,
            "justify_content": null,
            "justify_items": null,
            "left": null,
            "margin": null,
            "max_height": null,
            "max_width": null,
            "min_height": null,
            "min_width": null,
            "object_fit": null,
            "object_position": null,
            "order": null,
            "overflow": null,
            "overflow_x": null,
            "overflow_y": null,
            "padding": null,
            "right": null,
            "top": null,
            "visibility": null,
            "width": null
          }
        },
        "b8631579bb5046a2adbf434327e1111a": {
          "model_module": "@jupyter-widgets/controls",
          "model_name": "ProgressStyleModel",
          "model_module_version": "1.5.0",
          "state": {
            "_model_module": "@jupyter-widgets/controls",
            "_model_module_version": "1.5.0",
            "_model_name": "ProgressStyleModel",
            "_view_count": null,
            "_view_module": "@jupyter-widgets/base",
            "_view_module_version": "1.2.0",
            "_view_name": "StyleView",
            "bar_color": null,
            "description_width": ""
          }
        },
        "33cc42c1db1b4deeb4bfc0015ec561eb": {
          "model_module": "@jupyter-widgets/base",
          "model_name": "LayoutModel",
          "model_module_version": "1.2.0",
          "state": {
            "_model_module": "@jupyter-widgets/base",
            "_model_module_version": "1.2.0",
            "_model_name": "LayoutModel",
            "_view_count": null,
            "_view_module": "@jupyter-widgets/base",
            "_view_module_version": "1.2.0",
            "_view_name": "LayoutView",
            "align_content": null,
            "align_items": null,
            "align_self": null,
            "border": null,
            "bottom": null,
            "display": null,
            "flex": null,
            "flex_flow": null,
            "grid_area": null,
            "grid_auto_columns": null,
            "grid_auto_flow": null,
            "grid_auto_rows": null,
            "grid_column": null,
            "grid_gap": null,
            "grid_row": null,
            "grid_template_areas": null,
            "grid_template_columns": null,
            "grid_template_rows": null,
            "height": null,
            "justify_content": null,
            "justify_items": null,
            "left": null,
            "margin": null,
            "max_height": null,
            "max_width": null,
            "min_height": null,
            "min_width": null,
            "object_fit": null,
            "object_position": null,
            "order": null,
            "overflow": null,
            "overflow_x": null,
            "overflow_y": null,
            "padding": null,
            "right": null,
            "top": null,
            "visibility": null,
            "width": null
          }
        },
        "64c65f4841344fb6b98c084d1d370dbe": {
          "model_module": "@jupyter-widgets/controls",
          "model_name": "DescriptionStyleModel",
          "model_module_version": "1.5.0",
          "state": {
            "_model_module": "@jupyter-widgets/controls",
            "_model_module_version": "1.5.0",
            "_model_name": "DescriptionStyleModel",
            "_view_count": null,
            "_view_module": "@jupyter-widgets/base",
            "_view_module_version": "1.2.0",
            "_view_name": "StyleView",
            "description_width": ""
          }
        },
        "a47670af3d134994bb61550f6cb2ce71": {
          "model_module": "@jupyter-widgets/controls",
          "model_name": "HBoxModel",
          "model_module_version": "1.5.0",
          "state": {
            "_dom_classes": [],
            "_model_module": "@jupyter-widgets/controls",
            "_model_module_version": "1.5.0",
            "_model_name": "HBoxModel",
            "_view_count": null,
            "_view_module": "@jupyter-widgets/controls",
            "_view_module_version": "1.5.0",
            "_view_name": "HBoxView",
            "box_style": "",
            "children": [
              "IPY_MODEL_7f0db843d91d455c8ba6cd53a1db8e2f",
              "IPY_MODEL_de52914f9dd0419c9c002fed33c75999",
              "IPY_MODEL_389d4de662594c608eecd8dba5c5f17a"
            ],
            "layout": "IPY_MODEL_5e41d32addee4085b3736f477e6725a2"
          }
        },
        "7f0db843d91d455c8ba6cd53a1db8e2f": {
          "model_module": "@jupyter-widgets/controls",
          "model_name": "HTMLModel",
          "model_module_version": "1.5.0",
          "state": {
            "_dom_classes": [],
            "_model_module": "@jupyter-widgets/controls",
            "_model_module_version": "1.5.0",
            "_model_name": "HTMLModel",
            "_view_count": null,
            "_view_module": "@jupyter-widgets/controls",
            "_view_module_version": "1.5.0",
            "_view_name": "HTMLView",
            "description": "",
            "description_tooltip": null,
            "layout": "IPY_MODEL_ad184423e6a54617894142e338a0864c",
            "placeholder": "​",
            "style": "IPY_MODEL_248b1f9777954845a4112ec2a7b24e0f",
            "value": "100%"
          }
        },
        "de52914f9dd0419c9c002fed33c75999": {
          "model_module": "@jupyter-widgets/controls",
          "model_name": "FloatProgressModel",
          "model_module_version": "1.5.0",
          "state": {
            "_dom_classes": [],
            "_model_module": "@jupyter-widgets/controls",
            "_model_module_version": "1.5.0",
            "_model_name": "FloatProgressModel",
            "_view_count": null,
            "_view_module": "@jupyter-widgets/controls",
            "_view_module_version": "1.5.0",
            "_view_name": "ProgressView",
            "bar_style": "success",
            "description": "",
            "description_tooltip": null,
            "layout": "IPY_MODEL_5401b1e6790b4d41be8db8fc8da8193d",
            "max": 2363,
            "min": 0,
            "orientation": "horizontal",
            "style": "IPY_MODEL_68a45682d7b947e7bbcd60a4666d7821",
            "value": 2363
          }
        },
        "389d4de662594c608eecd8dba5c5f17a": {
          "model_module": "@jupyter-widgets/controls",
          "model_name": "HTMLModel",
          "model_module_version": "1.5.0",
          "state": {
            "_dom_classes": [],
            "_model_module": "@jupyter-widgets/controls",
            "_model_module_version": "1.5.0",
            "_model_name": "HTMLModel",
            "_view_count": null,
            "_view_module": "@jupyter-widgets/controls",
            "_view_module_version": "1.5.0",
            "_view_name": "HTMLView",
            "description": "",
            "description_tooltip": null,
            "layout": "IPY_MODEL_87a162917dfa4c9bb1ed8f733c99ba87",
            "placeholder": "​",
            "style": "IPY_MODEL_18f9d6d550ca433993454805017d1b88",
            "value": " 2363/2363 [02:54&lt;00:00, 13.31it/s]"
          }
        },
        "5e41d32addee4085b3736f477e6725a2": {
          "model_module": "@jupyter-widgets/base",
          "model_name": "LayoutModel",
          "model_module_version": "1.2.0",
          "state": {
            "_model_module": "@jupyter-widgets/base",
            "_model_module_version": "1.2.0",
            "_model_name": "LayoutModel",
            "_view_count": null,
            "_view_module": "@jupyter-widgets/base",
            "_view_module_version": "1.2.0",
            "_view_name": "LayoutView",
            "align_content": null,
            "align_items": null,
            "align_self": null,
            "border": null,
            "bottom": null,
            "display": null,
            "flex": null,
            "flex_flow": null,
            "grid_area": null,
            "grid_auto_columns": null,
            "grid_auto_flow": null,
            "grid_auto_rows": null,
            "grid_column": null,
            "grid_gap": null,
            "grid_row": null,
            "grid_template_areas": null,
            "grid_template_columns": null,
            "grid_template_rows": null,
            "height": null,
            "justify_content": null,
            "justify_items": null,
            "left": null,
            "margin": null,
            "max_height": null,
            "max_width": null,
            "min_height": null,
            "min_width": null,
            "object_fit": null,
            "object_position": null,
            "order": null,
            "overflow": null,
            "overflow_x": null,
            "overflow_y": null,
            "padding": null,
            "right": null,
            "top": null,
            "visibility": null,
            "width": null
          }
        },
        "ad184423e6a54617894142e338a0864c": {
          "model_module": "@jupyter-widgets/base",
          "model_name": "LayoutModel",
          "model_module_version": "1.2.0",
          "state": {
            "_model_module": "@jupyter-widgets/base",
            "_model_module_version": "1.2.0",
            "_model_name": "LayoutModel",
            "_view_count": null,
            "_view_module": "@jupyter-widgets/base",
            "_view_module_version": "1.2.0",
            "_view_name": "LayoutView",
            "align_content": null,
            "align_items": null,
            "align_self": null,
            "border": null,
            "bottom": null,
            "display": null,
            "flex": null,
            "flex_flow": null,
            "grid_area": null,
            "grid_auto_columns": null,
            "grid_auto_flow": null,
            "grid_auto_rows": null,
            "grid_column": null,
            "grid_gap": null,
            "grid_row": null,
            "grid_template_areas": null,
            "grid_template_columns": null,
            "grid_template_rows": null,
            "height": null,
            "justify_content": null,
            "justify_items": null,
            "left": null,
            "margin": null,
            "max_height": null,
            "max_width": null,
            "min_height": null,
            "min_width": null,
            "object_fit": null,
            "object_position": null,
            "order": null,
            "overflow": null,
            "overflow_x": null,
            "overflow_y": null,
            "padding": null,
            "right": null,
            "top": null,
            "visibility": null,
            "width": null
          }
        },
        "248b1f9777954845a4112ec2a7b24e0f": {
          "model_module": "@jupyter-widgets/controls",
          "model_name": "DescriptionStyleModel",
          "model_module_version": "1.5.0",
          "state": {
            "_model_module": "@jupyter-widgets/controls",
            "_model_module_version": "1.5.0",
            "_model_name": "DescriptionStyleModel",
            "_view_count": null,
            "_view_module": "@jupyter-widgets/base",
            "_view_module_version": "1.2.0",
            "_view_name": "StyleView",
            "description_width": ""
          }
        },
        "5401b1e6790b4d41be8db8fc8da8193d": {
          "model_module": "@jupyter-widgets/base",
          "model_name": "LayoutModel",
          "model_module_version": "1.2.0",
          "state": {
            "_model_module": "@jupyter-widgets/base",
            "_model_module_version": "1.2.0",
            "_model_name": "LayoutModel",
            "_view_count": null,
            "_view_module": "@jupyter-widgets/base",
            "_view_module_version": "1.2.0",
            "_view_name": "LayoutView",
            "align_content": null,
            "align_items": null,
            "align_self": null,
            "border": null,
            "bottom": null,
            "display": null,
            "flex": null,
            "flex_flow": null,
            "grid_area": null,
            "grid_auto_columns": null,
            "grid_auto_flow": null,
            "grid_auto_rows": null,
            "grid_column": null,
            "grid_gap": null,
            "grid_row": null,
            "grid_template_areas": null,
            "grid_template_columns": null,
            "grid_template_rows": null,
            "height": null,
            "justify_content": null,
            "justify_items": null,
            "left": null,
            "margin": null,
            "max_height": null,
            "max_width": null,
            "min_height": null,
            "min_width": null,
            "object_fit": null,
            "object_position": null,
            "order": null,
            "overflow": null,
            "overflow_x": null,
            "overflow_y": null,
            "padding": null,
            "right": null,
            "top": null,
            "visibility": null,
            "width": null
          }
        },
        "68a45682d7b947e7bbcd60a4666d7821": {
          "model_module": "@jupyter-widgets/controls",
          "model_name": "ProgressStyleModel",
          "model_module_version": "1.5.0",
          "state": {
            "_model_module": "@jupyter-widgets/controls",
            "_model_module_version": "1.5.0",
            "_model_name": "ProgressStyleModel",
            "_view_count": null,
            "_view_module": "@jupyter-widgets/base",
            "_view_module_version": "1.2.0",
            "_view_name": "StyleView",
            "bar_color": null,
            "description_width": ""
          }
        },
        "87a162917dfa4c9bb1ed8f733c99ba87": {
          "model_module": "@jupyter-widgets/base",
          "model_name": "LayoutModel",
          "model_module_version": "1.2.0",
          "state": {
            "_model_module": "@jupyter-widgets/base",
            "_model_module_version": "1.2.0",
            "_model_name": "LayoutModel",
            "_view_count": null,
            "_view_module": "@jupyter-widgets/base",
            "_view_module_version": "1.2.0",
            "_view_name": "LayoutView",
            "align_content": null,
            "align_items": null,
            "align_self": null,
            "border": null,
            "bottom": null,
            "display": null,
            "flex": null,
            "flex_flow": null,
            "grid_area": null,
            "grid_auto_columns": null,
            "grid_auto_flow": null,
            "grid_auto_rows": null,
            "grid_column": null,
            "grid_gap": null,
            "grid_row": null,
            "grid_template_areas": null,
            "grid_template_columns": null,
            "grid_template_rows": null,
            "height": null,
            "justify_content": null,
            "justify_items": null,
            "left": null,
            "margin": null,
            "max_height": null,
            "max_width": null,
            "min_height": null,
            "min_width": null,
            "object_fit": null,
            "object_position": null,
            "order": null,
            "overflow": null,
            "overflow_x": null,
            "overflow_y": null,
            "padding": null,
            "right": null,
            "top": null,
            "visibility": null,
            "width": null
          }
        },
        "18f9d6d550ca433993454805017d1b88": {
          "model_module": "@jupyter-widgets/controls",
          "model_name": "DescriptionStyleModel",
          "model_module_version": "1.5.0",
          "state": {
            "_model_module": "@jupyter-widgets/controls",
            "_model_module_version": "1.5.0",
            "_model_name": "DescriptionStyleModel",
            "_view_count": null,
            "_view_module": "@jupyter-widgets/base",
            "_view_module_version": "1.2.0",
            "_view_name": "StyleView",
            "description_width": ""
          }
        },
        "c6c1544597d44c24a6db35281c3c2559": {
          "model_module": "@jupyter-widgets/controls",
          "model_name": "HBoxModel",
          "model_module_version": "1.5.0",
          "state": {
            "_dom_classes": [],
            "_model_module": "@jupyter-widgets/controls",
            "_model_module_version": "1.5.0",
            "_model_name": "HBoxModel",
            "_view_count": null,
            "_view_module": "@jupyter-widgets/controls",
            "_view_module_version": "1.5.0",
            "_view_name": "HBoxView",
            "box_style": "",
            "children": [
              "IPY_MODEL_743d0ec9ca1145fea00117fc8c1ccbe0",
              "IPY_MODEL_59992db867a94d759266517945320f5d",
              "IPY_MODEL_bb58b2c81959408cb56f4af313cac131"
            ],
            "layout": "IPY_MODEL_e22a89342b054f88a864b98da10acb37"
          }
        },
        "743d0ec9ca1145fea00117fc8c1ccbe0": {
          "model_module": "@jupyter-widgets/controls",
          "model_name": "HTMLModel",
          "model_module_version": "1.5.0",
          "state": {
            "_dom_classes": [],
            "_model_module": "@jupyter-widgets/controls",
            "_model_module_version": "1.5.0",
            "_model_name": "HTMLModel",
            "_view_count": null,
            "_view_module": "@jupyter-widgets/controls",
            "_view_module_version": "1.5.0",
            "_view_name": "HTMLView",
            "description": "",
            "description_tooltip": null,
            "layout": "IPY_MODEL_c6bd64b3f4d44a44a6f55fe94aeed87b",
            "placeholder": "​",
            "style": "IPY_MODEL_5e0a37337d8b40be9c47de42dff7be86",
            "value": "100%"
          }
        },
        "59992db867a94d759266517945320f5d": {
          "model_module": "@jupyter-widgets/controls",
          "model_name": "FloatProgressModel",
          "model_module_version": "1.5.0",
          "state": {
            "_dom_classes": [],
            "_model_module": "@jupyter-widgets/controls",
            "_model_module_version": "1.5.0",
            "_model_name": "FloatProgressModel",
            "_view_count": null,
            "_view_module": "@jupyter-widgets/controls",
            "_view_module_version": "1.5.0",
            "_view_name": "ProgressView",
            "bar_style": "success",
            "description": "",
            "description_tooltip": null,
            "layout": "IPY_MODEL_e82c6a7349964ee395d33c852ac7363c",
            "max": 2363,
            "min": 0,
            "orientation": "horizontal",
            "style": "IPY_MODEL_6eed0c4c53174398ad1e4c788eb44905",
            "value": 2363
          }
        },
        "bb58b2c81959408cb56f4af313cac131": {
          "model_module": "@jupyter-widgets/controls",
          "model_name": "HTMLModel",
          "model_module_version": "1.5.0",
          "state": {
            "_dom_classes": [],
            "_model_module": "@jupyter-widgets/controls",
            "_model_module_version": "1.5.0",
            "_model_name": "HTMLModel",
            "_view_count": null,
            "_view_module": "@jupyter-widgets/controls",
            "_view_module_version": "1.5.0",
            "_view_name": "HTMLView",
            "description": "",
            "description_tooltip": null,
            "layout": "IPY_MODEL_11d59fefd31d4b1ba4038833e92d88e4",
            "placeholder": "​",
            "style": "IPY_MODEL_4e865fa1279b4bcbb381176d1985e047",
            "value": " 2363/2363 [05:30&lt;00:00,  7.60it/s]"
          }
        },
        "e22a89342b054f88a864b98da10acb37": {
          "model_module": "@jupyter-widgets/base",
          "model_name": "LayoutModel",
          "model_module_version": "1.2.0",
          "state": {
            "_model_module": "@jupyter-widgets/base",
            "_model_module_version": "1.2.0",
            "_model_name": "LayoutModel",
            "_view_count": null,
            "_view_module": "@jupyter-widgets/base",
            "_view_module_version": "1.2.0",
            "_view_name": "LayoutView",
            "align_content": null,
            "align_items": null,
            "align_self": null,
            "border": null,
            "bottom": null,
            "display": null,
            "flex": null,
            "flex_flow": null,
            "grid_area": null,
            "grid_auto_columns": null,
            "grid_auto_flow": null,
            "grid_auto_rows": null,
            "grid_column": null,
            "grid_gap": null,
            "grid_row": null,
            "grid_template_areas": null,
            "grid_template_columns": null,
            "grid_template_rows": null,
            "height": null,
            "justify_content": null,
            "justify_items": null,
            "left": null,
            "margin": null,
            "max_height": null,
            "max_width": null,
            "min_height": null,
            "min_width": null,
            "object_fit": null,
            "object_position": null,
            "order": null,
            "overflow": null,
            "overflow_x": null,
            "overflow_y": null,
            "padding": null,
            "right": null,
            "top": null,
            "visibility": null,
            "width": null
          }
        },
        "c6bd64b3f4d44a44a6f55fe94aeed87b": {
          "model_module": "@jupyter-widgets/base",
          "model_name": "LayoutModel",
          "model_module_version": "1.2.0",
          "state": {
            "_model_module": "@jupyter-widgets/base",
            "_model_module_version": "1.2.0",
            "_model_name": "LayoutModel",
            "_view_count": null,
            "_view_module": "@jupyter-widgets/base",
            "_view_module_version": "1.2.0",
            "_view_name": "LayoutView",
            "align_content": null,
            "align_items": null,
            "align_self": null,
            "border": null,
            "bottom": null,
            "display": null,
            "flex": null,
            "flex_flow": null,
            "grid_area": null,
            "grid_auto_columns": null,
            "grid_auto_flow": null,
            "grid_auto_rows": null,
            "grid_column": null,
            "grid_gap": null,
            "grid_row": null,
            "grid_template_areas": null,
            "grid_template_columns": null,
            "grid_template_rows": null,
            "height": null,
            "justify_content": null,
            "justify_items": null,
            "left": null,
            "margin": null,
            "max_height": null,
            "max_width": null,
            "min_height": null,
            "min_width": null,
            "object_fit": null,
            "object_position": null,
            "order": null,
            "overflow": null,
            "overflow_x": null,
            "overflow_y": null,
            "padding": null,
            "right": null,
            "top": null,
            "visibility": null,
            "width": null
          }
        },
        "5e0a37337d8b40be9c47de42dff7be86": {
          "model_module": "@jupyter-widgets/controls",
          "model_name": "DescriptionStyleModel",
          "model_module_version": "1.5.0",
          "state": {
            "_model_module": "@jupyter-widgets/controls",
            "_model_module_version": "1.5.0",
            "_model_name": "DescriptionStyleModel",
            "_view_count": null,
            "_view_module": "@jupyter-widgets/base",
            "_view_module_version": "1.2.0",
            "_view_name": "StyleView",
            "description_width": ""
          }
        },
        "e82c6a7349964ee395d33c852ac7363c": {
          "model_module": "@jupyter-widgets/base",
          "model_name": "LayoutModel",
          "model_module_version": "1.2.0",
          "state": {
            "_model_module": "@jupyter-widgets/base",
            "_model_module_version": "1.2.0",
            "_model_name": "LayoutModel",
            "_view_count": null,
            "_view_module": "@jupyter-widgets/base",
            "_view_module_version": "1.2.0",
            "_view_name": "LayoutView",
            "align_content": null,
            "align_items": null,
            "align_self": null,
            "border": null,
            "bottom": null,
            "display": null,
            "flex": null,
            "flex_flow": null,
            "grid_area": null,
            "grid_auto_columns": null,
            "grid_auto_flow": null,
            "grid_auto_rows": null,
            "grid_column": null,
            "grid_gap": null,
            "grid_row": null,
            "grid_template_areas": null,
            "grid_template_columns": null,
            "grid_template_rows": null,
            "height": null,
            "justify_content": null,
            "justify_items": null,
            "left": null,
            "margin": null,
            "max_height": null,
            "max_width": null,
            "min_height": null,
            "min_width": null,
            "object_fit": null,
            "object_position": null,
            "order": null,
            "overflow": null,
            "overflow_x": null,
            "overflow_y": null,
            "padding": null,
            "right": null,
            "top": null,
            "visibility": null,
            "width": null
          }
        },
        "6eed0c4c53174398ad1e4c788eb44905": {
          "model_module": "@jupyter-widgets/controls",
          "model_name": "ProgressStyleModel",
          "model_module_version": "1.5.0",
          "state": {
            "_model_module": "@jupyter-widgets/controls",
            "_model_module_version": "1.5.0",
            "_model_name": "ProgressStyleModel",
            "_view_count": null,
            "_view_module": "@jupyter-widgets/base",
            "_view_module_version": "1.2.0",
            "_view_name": "StyleView",
            "bar_color": null,
            "description_width": ""
          }
        },
        "11d59fefd31d4b1ba4038833e92d88e4": {
          "model_module": "@jupyter-widgets/base",
          "model_name": "LayoutModel",
          "model_module_version": "1.2.0",
          "state": {
            "_model_module": "@jupyter-widgets/base",
            "_model_module_version": "1.2.0",
            "_model_name": "LayoutModel",
            "_view_count": null,
            "_view_module": "@jupyter-widgets/base",
            "_view_module_version": "1.2.0",
            "_view_name": "LayoutView",
            "align_content": null,
            "align_items": null,
            "align_self": null,
            "border": null,
            "bottom": null,
            "display": null,
            "flex": null,
            "flex_flow": null,
            "grid_area": null,
            "grid_auto_columns": null,
            "grid_auto_flow": null,
            "grid_auto_rows": null,
            "grid_column": null,
            "grid_gap": null,
            "grid_row": null,
            "grid_template_areas": null,
            "grid_template_columns": null,
            "grid_template_rows": null,
            "height": null,
            "justify_content": null,
            "justify_items": null,
            "left": null,
            "margin": null,
            "max_height": null,
            "max_width": null,
            "min_height": null,
            "min_width": null,
            "object_fit": null,
            "object_position": null,
            "order": null,
            "overflow": null,
            "overflow_x": null,
            "overflow_y": null,
            "padding": null,
            "right": null,
            "top": null,
            "visibility": null,
            "width": null
          }
        },
        "4e865fa1279b4bcbb381176d1985e047": {
          "model_module": "@jupyter-widgets/controls",
          "model_name": "DescriptionStyleModel",
          "model_module_version": "1.5.0",
          "state": {
            "_model_module": "@jupyter-widgets/controls",
            "_model_module_version": "1.5.0",
            "_model_name": "DescriptionStyleModel",
            "_view_count": null,
            "_view_module": "@jupyter-widgets/base",
            "_view_module_version": "1.2.0",
            "_view_name": "StyleView",
            "description_width": ""
          }
        }
      }
    }
  },
  "nbformat": 4,
  "nbformat_minor": 0
}